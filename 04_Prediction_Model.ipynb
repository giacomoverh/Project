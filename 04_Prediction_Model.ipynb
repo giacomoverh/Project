{
 "cells": [
  {
   "cell_type": "markdown",
   "metadata": {},
   "source": [
    "# Prediction model: Logistic Regression"
   ]
  },
  {
   "cell_type": "code",
   "execution_count": 4,
   "metadata": {
    "collapsed": true
   },
   "outputs": [],
   "source": [
    "import numpy as np\n",
    "import pandas as pd\n",
    "from pandas import DataFrame, Series"
   ]
  },
  {
   "cell_type": "code",
   "execution_count": 5,
   "metadata": {
    "collapsed": false
   },
   "outputs": [],
   "source": [
    "kobe_num = pd.DataFrame.from_csv(\"./data/kobe_num_variables.csv\", sep=\",\")"
   ]
  },
  {
   "cell_type": "code",
   "execution_count": 6,
   "metadata": {
    "collapsed": false
   },
   "outputs": [
    {
     "data": {
      "text/plain": [
       "(30697, 17)"
      ]
     },
     "execution_count": 6,
     "metadata": {},
     "output_type": "execute_result"
    }
   ],
   "source": [
    "kobe_num.shape"
   ]
  },
  {
   "cell_type": "code",
   "execution_count": 7,
   "metadata": {
    "collapsed": false
   },
   "outputs": [
    {
     "data": {
      "text/html": [
       "<div>\n",
       "<table border=\"1\" class=\"dataframe\">\n",
       "  <thead>\n",
       "    <tr style=\"text-align: right;\">\n",
       "      <th></th>\n",
       "      <th>game_event_id</th>\n",
       "      <th>game_id</th>\n",
       "      <th>loc_x</th>\n",
       "      <th>loc_y</th>\n",
       "      <th>period</th>\n",
       "      <th>playoffs</th>\n",
       "      <th>shot_distance</th>\n",
       "      <th>shot_made_flag</th>\n",
       "      <th>seconds_to_period_end</th>\n",
       "      <th>accurate_shot_distance</th>\n",
       "      <th>game_year</th>\n",
       "      <th>game_month</th>\n",
       "      <th>game_dayofweek</th>\n",
       "      <th>game_dayofyear</th>\n",
       "      <th>game_dayofweek.1</th>\n",
       "      <th>game_dayofyear.1</th>\n",
       "      <th>local</th>\n",
       "    </tr>\n",
       "    <tr>\n",
       "      <th>shot_id</th>\n",
       "      <th></th>\n",
       "      <th></th>\n",
       "      <th></th>\n",
       "      <th></th>\n",
       "      <th></th>\n",
       "      <th></th>\n",
       "      <th></th>\n",
       "      <th></th>\n",
       "      <th></th>\n",
       "      <th></th>\n",
       "      <th></th>\n",
       "      <th></th>\n",
       "      <th></th>\n",
       "      <th></th>\n",
       "      <th></th>\n",
       "      <th></th>\n",
       "      <th></th>\n",
       "    </tr>\n",
       "  </thead>\n",
       "  <tbody>\n",
       "    <tr>\n",
       "      <th>1</th>\n",
       "      <td>10</td>\n",
       "      <td>20000012</td>\n",
       "      <td>167</td>\n",
       "      <td>72</td>\n",
       "      <td>1</td>\n",
       "      <td>0</td>\n",
       "      <td>18</td>\n",
       "      <td>NaN</td>\n",
       "      <td>627</td>\n",
       "      <td>18.2</td>\n",
       "      <td>2000</td>\n",
       "      <td>10</td>\n",
       "      <td>1</td>\n",
       "      <td>305</td>\n",
       "      <td>1</td>\n",
       "      <td>305</td>\n",
       "      <td>0</td>\n",
       "    </tr>\n",
       "    <tr>\n",
       "      <th>2</th>\n",
       "      <td>12</td>\n",
       "      <td>20000012</td>\n",
       "      <td>-157</td>\n",
       "      <td>0</td>\n",
       "      <td>1</td>\n",
       "      <td>0</td>\n",
       "      <td>15</td>\n",
       "      <td>0</td>\n",
       "      <td>622</td>\n",
       "      <td>15.7</td>\n",
       "      <td>2000</td>\n",
       "      <td>10</td>\n",
       "      <td>1</td>\n",
       "      <td>305</td>\n",
       "      <td>1</td>\n",
       "      <td>305</td>\n",
       "      <td>0</td>\n",
       "    </tr>\n",
       "    <tr>\n",
       "      <th>3</th>\n",
       "      <td>35</td>\n",
       "      <td>20000012</td>\n",
       "      <td>-101</td>\n",
       "      <td>135</td>\n",
       "      <td>1</td>\n",
       "      <td>0</td>\n",
       "      <td>16</td>\n",
       "      <td>1</td>\n",
       "      <td>465</td>\n",
       "      <td>16.9</td>\n",
       "      <td>2000</td>\n",
       "      <td>10</td>\n",
       "      <td>1</td>\n",
       "      <td>305</td>\n",
       "      <td>1</td>\n",
       "      <td>305</td>\n",
       "      <td>0</td>\n",
       "    </tr>\n",
       "  </tbody>\n",
       "</table>\n",
       "</div>"
      ],
      "text/plain": [
       "         game_event_id   game_id  loc_x  loc_y  period  playoffs  \\\n",
       "shot_id                                                            \n",
       "1                   10  20000012    167     72       1         0   \n",
       "2                   12  20000012   -157      0       1         0   \n",
       "3                   35  20000012   -101    135       1         0   \n",
       "\n",
       "         shot_distance  shot_made_flag  seconds_to_period_end  \\\n",
       "shot_id                                                         \n",
       "1                   18             NaN                    627   \n",
       "2                   15               0                    622   \n",
       "3                   16               1                    465   \n",
       "\n",
       "         accurate_shot_distance  game_year  game_month  game_dayofweek  \\\n",
       "shot_id                                                                  \n",
       "1                          18.2       2000          10               1   \n",
       "2                          15.7       2000          10               1   \n",
       "3                          16.9       2000          10               1   \n",
       "\n",
       "         game_dayofyear  game_dayofweek.1  game_dayofyear.1  local  \n",
       "shot_id                                                             \n",
       "1                   305                 1               305      0  \n",
       "2                   305                 1               305      0  \n",
       "3                   305                 1               305      0  "
      ]
     },
     "execution_count": 7,
     "metadata": {},
     "output_type": "execute_result"
    }
   ],
   "source": [
    "kobe_num.head(3)"
   ]
  },
  {
   "cell_type": "code",
   "execution_count": 8,
   "metadata": {
    "collapsed": false
   },
   "outputs": [],
   "source": [
    "kobe_old_cat = pd.DataFrame.from_csv(\"./data/kobe_old_cat_variables.csv\", sep=\",\")"
   ]
  },
  {
   "cell_type": "code",
   "execution_count": 9,
   "metadata": {
    "collapsed": false
   },
   "outputs": [
    {
     "data": {
      "text/plain": [
       "(30697, 114)"
      ]
     },
     "execution_count": 9,
     "metadata": {},
     "output_type": "execute_result"
    }
   ],
   "source": [
    "kobe_old_cat.shape"
   ]
  },
  {
   "cell_type": "code",
   "execution_count": 10,
   "metadata": {
    "collapsed": false
   },
   "outputs": [
    {
     "data": {
      "text/html": [
       "<div>\n",
       "<table border=\"1\" class=\"dataframe\">\n",
       "  <thead>\n",
       "    <tr style=\"text-align: right;\">\n",
       "      <th></th>\n",
       "      <th>action_type_Alley Oop Dunk Shot</th>\n",
       "      <th>action_type_Alley Oop Layup shot</th>\n",
       "      <th>action_type_Cutting Finger Roll Layup Shot</th>\n",
       "      <th>action_type_Cutting Layup Shot</th>\n",
       "      <th>action_type_Driving Bank shot</th>\n",
       "      <th>action_type_Driving Dunk Shot</th>\n",
       "      <th>action_type_Driving Finger Roll Layup Shot</th>\n",
       "      <th>action_type_Driving Finger Roll Shot</th>\n",
       "      <th>action_type_Driving Floating Bank Jump Shot</th>\n",
       "      <th>action_type_Driving Floating Jump Shot</th>\n",
       "      <th>...</th>\n",
       "      <th>opponent_PHI</th>\n",
       "      <th>opponent_PHX</th>\n",
       "      <th>opponent_POR</th>\n",
       "      <th>opponent_SAC</th>\n",
       "      <th>opponent_SAS</th>\n",
       "      <th>opponent_SEA</th>\n",
       "      <th>opponent_TOR</th>\n",
       "      <th>opponent_UTA</th>\n",
       "      <th>opponent_VAN</th>\n",
       "      <th>opponent_WAS</th>\n",
       "    </tr>\n",
       "    <tr>\n",
       "      <th>shot_id</th>\n",
       "      <th></th>\n",
       "      <th></th>\n",
       "      <th></th>\n",
       "      <th></th>\n",
       "      <th></th>\n",
       "      <th></th>\n",
       "      <th></th>\n",
       "      <th></th>\n",
       "      <th></th>\n",
       "      <th></th>\n",
       "      <th></th>\n",
       "      <th></th>\n",
       "      <th></th>\n",
       "      <th></th>\n",
       "      <th></th>\n",
       "      <th></th>\n",
       "      <th></th>\n",
       "      <th></th>\n",
       "      <th></th>\n",
       "      <th></th>\n",
       "      <th></th>\n",
       "    </tr>\n",
       "  </thead>\n",
       "  <tbody>\n",
       "    <tr>\n",
       "      <th>1</th>\n",
       "      <td>0</td>\n",
       "      <td>0</td>\n",
       "      <td>0</td>\n",
       "      <td>0</td>\n",
       "      <td>0</td>\n",
       "      <td>0</td>\n",
       "      <td>0</td>\n",
       "      <td>0</td>\n",
       "      <td>0</td>\n",
       "      <td>0</td>\n",
       "      <td>...</td>\n",
       "      <td>0</td>\n",
       "      <td>0</td>\n",
       "      <td>1</td>\n",
       "      <td>0</td>\n",
       "      <td>0</td>\n",
       "      <td>0</td>\n",
       "      <td>0</td>\n",
       "      <td>0</td>\n",
       "      <td>0</td>\n",
       "      <td>0</td>\n",
       "    </tr>\n",
       "    <tr>\n",
       "      <th>2</th>\n",
       "      <td>0</td>\n",
       "      <td>0</td>\n",
       "      <td>0</td>\n",
       "      <td>0</td>\n",
       "      <td>0</td>\n",
       "      <td>0</td>\n",
       "      <td>0</td>\n",
       "      <td>0</td>\n",
       "      <td>0</td>\n",
       "      <td>0</td>\n",
       "      <td>...</td>\n",
       "      <td>0</td>\n",
       "      <td>0</td>\n",
       "      <td>1</td>\n",
       "      <td>0</td>\n",
       "      <td>0</td>\n",
       "      <td>0</td>\n",
       "      <td>0</td>\n",
       "      <td>0</td>\n",
       "      <td>0</td>\n",
       "      <td>0</td>\n",
       "    </tr>\n",
       "    <tr>\n",
       "      <th>3</th>\n",
       "      <td>0</td>\n",
       "      <td>0</td>\n",
       "      <td>0</td>\n",
       "      <td>0</td>\n",
       "      <td>0</td>\n",
       "      <td>0</td>\n",
       "      <td>0</td>\n",
       "      <td>0</td>\n",
       "      <td>0</td>\n",
       "      <td>0</td>\n",
       "      <td>...</td>\n",
       "      <td>0</td>\n",
       "      <td>0</td>\n",
       "      <td>1</td>\n",
       "      <td>0</td>\n",
       "      <td>0</td>\n",
       "      <td>0</td>\n",
       "      <td>0</td>\n",
       "      <td>0</td>\n",
       "      <td>0</td>\n",
       "      <td>0</td>\n",
       "    </tr>\n",
       "  </tbody>\n",
       "</table>\n",
       "<p>3 rows × 114 columns</p>\n",
       "</div>"
      ],
      "text/plain": [
       "         action_type_Alley Oop Dunk Shot  action_type_Alley Oop Layup shot  \\\n",
       "shot_id                                                                      \n",
       "1                                      0                                 0   \n",
       "2                                      0                                 0   \n",
       "3                                      0                                 0   \n",
       "\n",
       "         action_type_Cutting Finger Roll Layup Shot  \\\n",
       "shot_id                                               \n",
       "1                                                 0   \n",
       "2                                                 0   \n",
       "3                                                 0   \n",
       "\n",
       "         action_type_Cutting Layup Shot  action_type_Driving Bank shot  \\\n",
       "shot_id                                                                  \n",
       "1                                     0                              0   \n",
       "2                                     0                              0   \n",
       "3                                     0                              0   \n",
       "\n",
       "         action_type_Driving Dunk Shot  \\\n",
       "shot_id                                  \n",
       "1                                    0   \n",
       "2                                    0   \n",
       "3                                    0   \n",
       "\n",
       "         action_type_Driving Finger Roll Layup Shot  \\\n",
       "shot_id                                               \n",
       "1                                                 0   \n",
       "2                                                 0   \n",
       "3                                                 0   \n",
       "\n",
       "         action_type_Driving Finger Roll Shot  \\\n",
       "shot_id                                         \n",
       "1                                           0   \n",
       "2                                           0   \n",
       "3                                           0   \n",
       "\n",
       "         action_type_Driving Floating Bank Jump Shot  \\\n",
       "shot_id                                                \n",
       "1                                                  0   \n",
       "2                                                  0   \n",
       "3                                                  0   \n",
       "\n",
       "         action_type_Driving Floating Jump Shot      ...       opponent_PHI  \\\n",
       "shot_id                                              ...                      \n",
       "1                                             0      ...                  0   \n",
       "2                                             0      ...                  0   \n",
       "3                                             0      ...                  0   \n",
       "\n",
       "         opponent_PHX  opponent_POR  opponent_SAC  opponent_SAS  opponent_SEA  \\\n",
       "shot_id                                                                         \n",
       "1                   0             1             0             0             0   \n",
       "2                   0             1             0             0             0   \n",
       "3                   0             1             0             0             0   \n",
       "\n",
       "         opponent_TOR  opponent_UTA  opponent_VAN  opponent_WAS  \n",
       "shot_id                                                          \n",
       "1                   0             0             0             0  \n",
       "2                   0             0             0             0  \n",
       "3                   0             0             0             0  \n",
       "\n",
       "[3 rows x 114 columns]"
      ]
     },
     "execution_count": 10,
     "metadata": {},
     "output_type": "execute_result"
    }
   ],
   "source": [
    "kobe_old_cat.head(3)"
   ]
  },
  {
   "cell_type": "code",
   "execution_count": 11,
   "metadata": {
    "collapsed": true
   },
   "outputs": [],
   "source": [
    "kobe_new_cat = pd.DataFrame.from_csv(\"./data/kobe_new_cat_variables.csv\", sep=\",\")"
   ]
  },
  {
   "cell_type": "code",
   "execution_count": 12,
   "metadata": {
    "collapsed": false
   },
   "outputs": [
    {
     "data": {
      "text/plain": [
       "(30697, 871)"
      ]
     },
     "execution_count": 12,
     "metadata": {},
     "output_type": "execute_result"
    }
   ],
   "source": [
    "kobe_new_cat.shape"
   ]
  },
  {
   "cell_type": "code",
   "execution_count": 13,
   "metadata": {
    "collapsed": false
   },
   "outputs": [
    {
     "data": {
      "text/html": [
       "<div>\n",
       "<table border=\"1\" class=\"dataframe\">\n",
       "  <thead>\n",
       "    <tr style=\"text-align: right;\">\n",
       "      <th></th>\n",
       "      <th>at_sza_Alley Oop Dunk Shot-Center(C)</th>\n",
       "      <th>at_sza_Alley Oop Layup shot-Center(C)</th>\n",
       "      <th>at_sza_Cutting Finger Roll Layup Shot-Center(C)</th>\n",
       "      <th>at_sza_Cutting Layup Shot-Center(C)</th>\n",
       "      <th>at_sza_Driving Bank shot-Center(C)</th>\n",
       "      <th>at_sza_Driving Dunk Shot-Center(C)</th>\n",
       "      <th>at_sza_Driving Finger Roll Layup Shot-Center(C)</th>\n",
       "      <th>at_sza_Driving Finger Roll Shot-Center(C)</th>\n",
       "      <th>at_sza_Driving Floating Bank Jump Shot-Left Side(L)</th>\n",
       "      <th>at_sza_Driving Floating Jump Shot-Center(C)</th>\n",
       "      <th>...</th>\n",
       "      <th>at_sd_Turnaround Jump Shot-25</th>\n",
       "      <th>at_sd_Turnaround Jump Shot-26</th>\n",
       "      <th>at_sd_Turnaround Jump Shot-27</th>\n",
       "      <th>at_sd_Turnaround Jump Shot-3</th>\n",
       "      <th>at_sd_Turnaround Jump Shot-4</th>\n",
       "      <th>at_sd_Turnaround Jump Shot-5</th>\n",
       "      <th>at_sd_Turnaround Jump Shot-6</th>\n",
       "      <th>at_sd_Turnaround Jump Shot-7</th>\n",
       "      <th>at_sd_Turnaround Jump Shot-8</th>\n",
       "      <th>at_sd_Turnaround Jump Shot-9</th>\n",
       "    </tr>\n",
       "    <tr>\n",
       "      <th>shot_id</th>\n",
       "      <th></th>\n",
       "      <th></th>\n",
       "      <th></th>\n",
       "      <th></th>\n",
       "      <th></th>\n",
       "      <th></th>\n",
       "      <th></th>\n",
       "      <th></th>\n",
       "      <th></th>\n",
       "      <th></th>\n",
       "      <th></th>\n",
       "      <th></th>\n",
       "      <th></th>\n",
       "      <th></th>\n",
       "      <th></th>\n",
       "      <th></th>\n",
       "      <th></th>\n",
       "      <th></th>\n",
       "      <th></th>\n",
       "      <th></th>\n",
       "      <th></th>\n",
       "    </tr>\n",
       "  </thead>\n",
       "  <tbody>\n",
       "    <tr>\n",
       "      <th>1</th>\n",
       "      <td>0</td>\n",
       "      <td>0</td>\n",
       "      <td>0</td>\n",
       "      <td>0</td>\n",
       "      <td>0</td>\n",
       "      <td>0</td>\n",
       "      <td>0</td>\n",
       "      <td>0</td>\n",
       "      <td>0</td>\n",
       "      <td>0</td>\n",
       "      <td>...</td>\n",
       "      <td>0</td>\n",
       "      <td>0</td>\n",
       "      <td>0</td>\n",
       "      <td>0</td>\n",
       "      <td>0</td>\n",
       "      <td>0</td>\n",
       "      <td>0</td>\n",
       "      <td>0</td>\n",
       "      <td>0</td>\n",
       "      <td>0</td>\n",
       "    </tr>\n",
       "    <tr>\n",
       "      <th>2</th>\n",
       "      <td>0</td>\n",
       "      <td>0</td>\n",
       "      <td>0</td>\n",
       "      <td>0</td>\n",
       "      <td>0</td>\n",
       "      <td>0</td>\n",
       "      <td>0</td>\n",
       "      <td>0</td>\n",
       "      <td>0</td>\n",
       "      <td>0</td>\n",
       "      <td>...</td>\n",
       "      <td>0</td>\n",
       "      <td>0</td>\n",
       "      <td>0</td>\n",
       "      <td>0</td>\n",
       "      <td>0</td>\n",
       "      <td>0</td>\n",
       "      <td>0</td>\n",
       "      <td>0</td>\n",
       "      <td>0</td>\n",
       "      <td>0</td>\n",
       "    </tr>\n",
       "    <tr>\n",
       "      <th>3</th>\n",
       "      <td>0</td>\n",
       "      <td>0</td>\n",
       "      <td>0</td>\n",
       "      <td>0</td>\n",
       "      <td>0</td>\n",
       "      <td>0</td>\n",
       "      <td>0</td>\n",
       "      <td>0</td>\n",
       "      <td>0</td>\n",
       "      <td>0</td>\n",
       "      <td>...</td>\n",
       "      <td>0</td>\n",
       "      <td>0</td>\n",
       "      <td>0</td>\n",
       "      <td>0</td>\n",
       "      <td>0</td>\n",
       "      <td>0</td>\n",
       "      <td>0</td>\n",
       "      <td>0</td>\n",
       "      <td>0</td>\n",
       "      <td>0</td>\n",
       "    </tr>\n",
       "  </tbody>\n",
       "</table>\n",
       "<p>3 rows × 871 columns</p>\n",
       "</div>"
      ],
      "text/plain": [
       "         at_sza_Alley Oop Dunk Shot-Center(C)  \\\n",
       "shot_id                                         \n",
       "1                                           0   \n",
       "2                                           0   \n",
       "3                                           0   \n",
       "\n",
       "         at_sza_Alley Oop Layup shot-Center(C)  \\\n",
       "shot_id                                          \n",
       "1                                            0   \n",
       "2                                            0   \n",
       "3                                            0   \n",
       "\n",
       "         at_sza_Cutting Finger Roll Layup Shot-Center(C)  \\\n",
       "shot_id                                                    \n",
       "1                                                      0   \n",
       "2                                                      0   \n",
       "3                                                      0   \n",
       "\n",
       "         at_sza_Cutting Layup Shot-Center(C)  \\\n",
       "shot_id                                        \n",
       "1                                          0   \n",
       "2                                          0   \n",
       "3                                          0   \n",
       "\n",
       "         at_sza_Driving Bank shot-Center(C)  \\\n",
       "shot_id                                       \n",
       "1                                         0   \n",
       "2                                         0   \n",
       "3                                         0   \n",
       "\n",
       "         at_sza_Driving Dunk Shot-Center(C)  \\\n",
       "shot_id                                       \n",
       "1                                         0   \n",
       "2                                         0   \n",
       "3                                         0   \n",
       "\n",
       "         at_sza_Driving Finger Roll Layup Shot-Center(C)  \\\n",
       "shot_id                                                    \n",
       "1                                                      0   \n",
       "2                                                      0   \n",
       "3                                                      0   \n",
       "\n",
       "         at_sza_Driving Finger Roll Shot-Center(C)  \\\n",
       "shot_id                                              \n",
       "1                                                0   \n",
       "2                                                0   \n",
       "3                                                0   \n",
       "\n",
       "         at_sza_Driving Floating Bank Jump Shot-Left Side(L)  \\\n",
       "shot_id                                                        \n",
       "1                                                        0     \n",
       "2                                                        0     \n",
       "3                                                        0     \n",
       "\n",
       "         at_sza_Driving Floating Jump Shot-Center(C)  \\\n",
       "shot_id                                                \n",
       "1                                                  0   \n",
       "2                                                  0   \n",
       "3                                                  0   \n",
       "\n",
       "                     ...               at_sd_Turnaround Jump Shot-25  \\\n",
       "shot_id              ...                                               \n",
       "1                    ...                                           0   \n",
       "2                    ...                                           0   \n",
       "3                    ...                                           0   \n",
       "\n",
       "         at_sd_Turnaround Jump Shot-26  at_sd_Turnaround Jump Shot-27  \\\n",
       "shot_id                                                                 \n",
       "1                                    0                              0   \n",
       "2                                    0                              0   \n",
       "3                                    0                              0   \n",
       "\n",
       "         at_sd_Turnaround Jump Shot-3  at_sd_Turnaround Jump Shot-4  \\\n",
       "shot_id                                                               \n",
       "1                                   0                             0   \n",
       "2                                   0                             0   \n",
       "3                                   0                             0   \n",
       "\n",
       "         at_sd_Turnaround Jump Shot-5  at_sd_Turnaround Jump Shot-6  \\\n",
       "shot_id                                                               \n",
       "1                                   0                             0   \n",
       "2                                   0                             0   \n",
       "3                                   0                             0   \n",
       "\n",
       "         at_sd_Turnaround Jump Shot-7  at_sd_Turnaround Jump Shot-8  \\\n",
       "shot_id                                                               \n",
       "1                                   0                             0   \n",
       "2                                   0                             0   \n",
       "3                                   0                             0   \n",
       "\n",
       "         at_sd_Turnaround Jump Shot-9  \n",
       "shot_id                                \n",
       "1                                   0  \n",
       "2                                   0  \n",
       "3                                   0  \n",
       "\n",
       "[3 rows x 871 columns]"
      ]
     },
     "execution_count": 13,
     "metadata": {},
     "output_type": "execute_result"
    }
   ],
   "source": [
    "kobe_new_cat.head(3)"
   ]
  },
  {
   "cell_type": "markdown",
   "metadata": {},
   "source": [
    "## Splitting the submission data"
   ]
  },
  {
   "cell_type": "code",
   "execution_count": 14,
   "metadata": {
    "collapsed": false,
    "scrolled": true
   },
   "outputs": [],
   "source": [
    "kobe_num_submission = kobe_num[pd.isnull(kobe_num[\"shot_made_flag\"])]"
   ]
  },
  {
   "cell_type": "markdown",
   "metadata": {},
   "source": [
    "We add 'shot_made_flag' to 'kobe_old_cat' and 'kobe_new_cat'"
   ]
  },
  {
   "cell_type": "code",
   "execution_count": 15,
   "metadata": {
    "collapsed": true
   },
   "outputs": [],
   "source": [
    "kobe_target = kobe_num[\"shot_made_flag\"]"
   ]
  },
  {
   "cell_type": "code",
   "execution_count": 16,
   "metadata": {
    "collapsed": false
   },
   "outputs": [],
   "source": [
    "kobe_old_cat = pd.concat([kobe_old_cat, kobe_target], axis=1)"
   ]
  },
  {
   "cell_type": "code",
   "execution_count": 17,
   "metadata": {
    "collapsed": true
   },
   "outputs": [],
   "source": [
    "kobe_new_cat = pd.concat([kobe_new_cat, kobe_target], axis=1)"
   ]
  },
  {
   "cell_type": "markdown",
   "metadata": {},
   "source": [
    "And we create the two remaining submission data"
   ]
  },
  {
   "cell_type": "code",
   "execution_count": 18,
   "metadata": {
    "collapsed": true
   },
   "outputs": [],
   "source": [
    "kobe_old_cat_submission = kobe_old_cat[pd.isnull(kobe_old_cat[\"shot_made_flag\"])]"
   ]
  },
  {
   "cell_type": "code",
   "execution_count": 182,
   "metadata": {
    "collapsed": true
   },
   "outputs": [],
   "source": [
    "kobe_new_cat_submission = kobe_new_cat[pd.isnull(kobe_new_cat[\"shot_made_flag\"])]"
   ]
  },
  {
   "cell_type": "code",
   "execution_count": 183,
   "metadata": {
    "collapsed": false
   },
   "outputs": [
    {
     "name": "stdout",
     "output_type": "stream",
     "text": [
      "(5000, 17)\n",
      "(5000, 115)\n",
      "(5000, 872)\n"
     ]
    }
   ],
   "source": [
    "print kobe_num_submission.shape\n",
    "print kobe_old_cat_submission.shape\n",
    "print kobe_new_cat_submission.shape"
   ]
  },
  {
   "cell_type": "markdown",
   "metadata": {},
   "source": [
    "We split the dataset from submission data"
   ]
  },
  {
   "cell_type": "code",
   "execution_count": 184,
   "metadata": {
    "collapsed": false
   },
   "outputs": [],
   "source": [
    "kobe_num = kobe_num[pd.notnull(kobe_num[\"shot_made_flag\"])]\n",
    "kobe_old_cat = kobe_old_cat[pd.notnull(kobe_old_cat[\"shot_made_flag\"])]\n",
    "kobe_new_cat = kobe_new_cat[pd.notnull(kobe_new_cat[\"shot_made_flag\"])]"
   ]
  },
  {
   "cell_type": "code",
   "execution_count": 185,
   "metadata": {
    "collapsed": false
   },
   "outputs": [
    {
     "name": "stdout",
     "output_type": "stream",
     "text": [
      "25697\n",
      "25697\n",
      "25697\n"
     ]
    }
   ],
   "source": [
    "print len(kobe_num)\n",
    "print len(kobe_old_cat)\n",
    "print len(kobe_new_cat)"
   ]
  },
  {
   "cell_type": "markdown",
   "metadata": {},
   "source": [
    "## Logistic Regression"
   ]
  },
  {
   "cell_type": "markdown",
   "metadata": {},
   "source": [
    "Finally we finally run logistic regression on the three data set ('kobe_num', 'kobe_old_cat', 'kobe_new_cat'). Let see if we can find an aggregation that can be accurate."
   ]
  },
  {
   "cell_type": "code",
   "execution_count": 186,
   "metadata": {
    "collapsed": true
   },
   "outputs": [],
   "source": [
    "from sklearn.linear_model import LogisticRegression\n",
    "from sklearn.cross_validation import train_test_split\n",
    "from sklearn import metrics\n",
    "from sklearn.cross_validation import cross_val_score"
   ]
  },
  {
   "cell_type": "markdown",
   "metadata": {},
   "source": [
    "#### Let's start with the first data, that should be not particuarly accurate."
   ]
  },
  {
   "cell_type": "markdown",
   "metadata": {},
   "source": [
    "We need to flatten `y` into a 1-D array, so that scikit-learn will properly understand it as the response variable."
   ]
  },
  {
   "cell_type": "code",
   "execution_count": 187,
   "metadata": {
    "collapsed": true
   },
   "outputs": [],
   "source": [
    "y = np.ravel(kobe_num[\"shot_made_flag\"])"
   ]
  },
  {
   "cell_type": "code",
   "execution_count": 188,
   "metadata": {
    "collapsed": true
   },
   "outputs": [],
   "source": [
    "kobe_num = kobe_num.drop(\"shot_made_flag\", axis=1)"
   ]
  },
  {
   "cell_type": "code",
   "execution_count": 189,
   "metadata": {
    "collapsed": true
   },
   "outputs": [],
   "source": [
    "X = kobe_num"
   ]
  },
  {
   "cell_type": "code",
   "execution_count": 190,
   "metadata": {
    "collapsed": false
   },
   "outputs": [],
   "source": [
    "model = LogisticRegression()\n",
    "model = model.fit(X, y)"
   ]
  },
  {
   "cell_type": "code",
   "execution_count": 191,
   "metadata": {
    "collapsed": false
   },
   "outputs": [
    {
     "data": {
      "text/plain": [
       "0.55383896952951706"
      ]
     },
     "execution_count": 191,
     "metadata": {},
     "output_type": "execute_result"
    }
   ],
   "source": [
    "model.score(X, y)"
   ]
  },
  {
   "cell_type": "markdown",
   "metadata": {},
   "source": [
    "55.4% accuracy doesn't particularly seem good."
   ]
  },
  {
   "cell_type": "code",
   "execution_count": 192,
   "metadata": {
    "collapsed": false
   },
   "outputs": [
    {
     "data": {
      "text/plain": [
       "0.44616103047048294"
      ]
     },
     "execution_count": 192,
     "metadata": {},
     "output_type": "execute_result"
    }
   ],
   "source": [
    "y.mean()"
   ]
  },
  {
   "cell_type": "markdown",
   "metadata": {},
   "source": [
    "44.6% of the shots were in. We could obtain 68% accuracy by always predicting \"no\"."
   ]
  },
  {
   "cell_type": "markdown",
   "metadata": {},
   "source": [
    "Let examine the coefficients to see what we learn."
   ]
  },
  {
   "cell_type": "code",
   "execution_count": 193,
   "metadata": {
    "collapsed": false
   },
   "outputs": [
    {
     "data": {
      "text/html": [
       "<div>\n",
       "<table border=\"1\" class=\"dataframe\">\n",
       "  <thead>\n",
       "    <tr style=\"text-align: right;\">\n",
       "      <th></th>\n",
       "      <th>0</th>\n",
       "      <th>1</th>\n",
       "    </tr>\n",
       "  </thead>\n",
       "  <tbody>\n",
       "    <tr>\n",
       "      <th>0</th>\n",
       "      <td>game_event_id</td>\n",
       "      <td>[-1.2047203577e-13]</td>\n",
       "    </tr>\n",
       "    <tr>\n",
       "      <th>1</th>\n",
       "      <td>game_id</td>\n",
       "      <td>[-8.0092441746e-09]</td>\n",
       "    </tr>\n",
       "    <tr>\n",
       "      <th>2</th>\n",
       "      <td>loc_x</td>\n",
       "      <td>[-3.1849889696e-15]</td>\n",
       "    </tr>\n",
       "    <tr>\n",
       "      <th>3</th>\n",
       "      <td>loc_y</td>\n",
       "      <td>[-1.09848332124e-13]</td>\n",
       "    </tr>\n",
       "    <tr>\n",
       "      <th>4</th>\n",
       "      <td>period</td>\n",
       "      <td>[-1.10112622468e-15]</td>\n",
       "    </tr>\n",
       "    <tr>\n",
       "      <th>5</th>\n",
       "      <td>playoffs</td>\n",
       "      <td>[-2.40143249124e-17]</td>\n",
       "    </tr>\n",
       "    <tr>\n",
       "      <th>6</th>\n",
       "      <td>shot_distance</td>\n",
       "      <td>[-1.58293308464e-14]</td>\n",
       "    </tr>\n",
       "    <tr>\n",
       "      <th>7</th>\n",
       "      <td>seconds_to_period_end</td>\n",
       "      <td>[-7.39248545295e-14]</td>\n",
       "    </tr>\n",
       "    <tr>\n",
       "      <th>8</th>\n",
       "      <td>accurate_shot_distance</td>\n",
       "      <td>[-1.61601027326e-14]</td>\n",
       "    </tr>\n",
       "    <tr>\n",
       "      <th>9</th>\n",
       "      <td>game_year</td>\n",
       "      <td>[-7.01575439594e-13]</td>\n",
       "    </tr>\n",
       "    <tr>\n",
       "      <th>10</th>\n",
       "      <td>game_month</td>\n",
       "      <td>[-2.08731855382e-15]</td>\n",
       "    </tr>\n",
       "    <tr>\n",
       "      <th>11</th>\n",
       "      <td>game_dayofweek</td>\n",
       "      <td>[-1.14664000538e-15]</td>\n",
       "    </tr>\n",
       "    <tr>\n",
       "      <th>12</th>\n",
       "      <td>game_dayofyear</td>\n",
       "      <td>[-5.79632862635e-14]</td>\n",
       "    </tr>\n",
       "    <tr>\n",
       "      <th>13</th>\n",
       "      <td>game_dayofweek.1</td>\n",
       "      <td>[-1.14664000538e-15]</td>\n",
       "    </tr>\n",
       "    <tr>\n",
       "      <th>14</th>\n",
       "      <td>game_dayofyear.1</td>\n",
       "      <td>[-5.79632862635e-14]</td>\n",
       "    </tr>\n",
       "    <tr>\n",
       "      <th>15</th>\n",
       "      <td>local</td>\n",
       "      <td>[-1.10021473863e-16]</td>\n",
       "    </tr>\n",
       "  </tbody>\n",
       "</table>\n",
       "</div>"
      ],
      "text/plain": [
       "                         0                     1\n",
       "0            game_event_id   [-1.2047203577e-13]\n",
       "1                  game_id   [-8.0092441746e-09]\n",
       "2                    loc_x   [-3.1849889696e-15]\n",
       "3                    loc_y  [-1.09848332124e-13]\n",
       "4                   period  [-1.10112622468e-15]\n",
       "5                 playoffs  [-2.40143249124e-17]\n",
       "6            shot_distance  [-1.58293308464e-14]\n",
       "7    seconds_to_period_end  [-7.39248545295e-14]\n",
       "8   accurate_shot_distance  [-1.61601027326e-14]\n",
       "9                game_year  [-7.01575439594e-13]\n",
       "10              game_month  [-2.08731855382e-15]\n",
       "11          game_dayofweek  [-1.14664000538e-15]\n",
       "12          game_dayofyear  [-5.79632862635e-14]\n",
       "13        game_dayofweek.1  [-1.14664000538e-15]\n",
       "14        game_dayofyear.1  [-5.79632862635e-14]\n",
       "15                   local  [-1.10021473863e-16]"
      ]
     },
     "execution_count": 193,
     "metadata": {},
     "output_type": "execute_result"
    }
   ],
   "source": [
    "pd.DataFrame(zip(X.columns, np.transpose(model.coef_)))"
   ]
  },
  {
   "cell_type": "markdown",
   "metadata": {},
   "source": [
    "## Model Evaluation using a validation set"
   ]
  },
  {
   "cell_type": "markdown",
   "metadata": {},
   "source": [
    "So far we have trained and tested on the same set. Now we split the data into a training set and a testing set to evaluate the model."
   ]
  },
  {
   "cell_type": "code",
   "execution_count": 194,
   "metadata": {
    "collapsed": false
   },
   "outputs": [
    {
     "data": {
      "text/plain": [
       "LogisticRegression(C=1.0, class_weight=None, dual=False, fit_intercept=True,\n",
       "          intercept_scaling=1, max_iter=100, multi_class='ovr', n_jobs=1,\n",
       "          penalty='l2', random_state=None, solver='liblinear', tol=0.0001,\n",
       "          verbose=0, warm_start=False)"
      ]
     },
     "execution_count": 194,
     "metadata": {},
     "output_type": "execute_result"
    }
   ],
   "source": [
    "X_train, X_test, y_train, y_test = train_test_split(X, y, test_size=0.3, random_state=0)\n",
    "model2 = LogisticRegression()\n",
    "model2.fit(X_train, y_train)"
   ]
  },
  {
   "cell_type": "markdown",
   "metadata": {
    "collapsed": false
   },
   "source": [
    "Now we predict the class labels for the test set."
   ]
  },
  {
   "cell_type": "code",
   "execution_count": 195,
   "metadata": {
    "collapsed": false
   },
   "outputs": [
    {
     "name": "stdout",
     "output_type": "stream",
     "text": [
      "[ 0.  0.  0. ...,  0.  0.  0.]\n"
     ]
    }
   ],
   "source": [
    "predicted = model2.predict(X_test)\n",
    "print predicted"
   ]
  },
  {
   "cell_type": "markdown",
   "metadata": {},
   "source": [
    "We will also generate the class probabilities."
   ]
  },
  {
   "cell_type": "code",
   "execution_count": 196,
   "metadata": {
    "collapsed": false
   },
   "outputs": [
    {
     "name": "stdout",
     "output_type": "stream",
     "text": [
      "[[ 0.59550493  0.40449507]\n",
      " [ 0.54087755  0.45912245]\n",
      " [ 0.57761485  0.42238515]\n",
      " ..., \n",
      " [ 0.54145566  0.45854434]\n",
      " [ 0.53952791  0.46047209]\n",
      " [ 0.5406845   0.4593155 ]]\n"
     ]
    }
   ],
   "source": [
    "probs = model2.predict_proba(X_test)\n",
    "print probs"
   ]
  },
  {
   "cell_type": "markdown",
   "metadata": {},
   "source": [
    "The classifier is predicting a 1 (shot made) any time the probability in the second column is greater than 0.5."
   ]
  },
  {
   "cell_type": "markdown",
   "metadata": {},
   "source": [
    "Now we generate some evaluation metrics."
   ]
  },
  {
   "cell_type": "code",
   "execution_count": 197,
   "metadata": {
    "collapsed": false
   },
   "outputs": [
    {
     "name": "stdout",
     "output_type": "stream",
     "text": [
      "0.558236057069\n",
      "0.505855857638\n"
     ]
    }
   ],
   "source": [
    "print metrics.accuracy_score(y_test, predicted)\n",
    "print metrics.roc_auc_score(y_test, probs[:, 1])"
   ]
  },
  {
   "cell_type": "markdown",
   "metadata": {},
   "source": [
    "The accuracy is 55.8%, which is similar to what we experienced when training and predicting on the same data."
   ]
  },
  {
   "cell_type": "markdown",
   "metadata": {},
   "source": [
    "We can also see the confusion matrix and a classification report with other metrics."
   ]
  },
  {
   "cell_type": "code",
   "execution_count": 198,
   "metadata": {
    "collapsed": false
   },
   "outputs": [
    {
     "name": "stdout",
     "output_type": "stream",
     "text": [
      "[[4304    0]\n",
      " [3406    0]]\n",
      "             precision    recall  f1-score   support\n",
      "\n",
      "        0.0       0.56      1.00      0.72      4304\n",
      "        1.0       0.00      0.00      0.00      3406\n",
      "\n",
      "avg / total       0.31      0.56      0.40      7710\n",
      "\n"
     ]
    }
   ],
   "source": [
    "print metrics.confusion_matrix(y_test, predicted)\n",
    "print metrics.classification_report(y_test, predicted)"
   ]
  },
  {
   "cell_type": "markdown",
   "metadata": {},
   "source": [
    "## Model Evaluation Using Cross-validation"
   ]
  },
  {
   "cell_type": "markdown",
   "metadata": {},
   "source": [
    "Now we evaluate the model using 10-fold cross-validation, to see if the accuracy holds up more rigorously."
   ]
  },
  {
   "cell_type": "code",
   "execution_count": 199,
   "metadata": {
    "collapsed": false
   },
   "outputs": [
    {
     "name": "stdout",
     "output_type": "stream",
     "text": [
      "[ 0.55387009  0.55387009  0.5536965   0.5536965   0.5536965   0.55391203\n",
      "  0.55391203  0.55391203  0.55391203  0.55391203]\n",
      "0.553838981321\n"
     ]
    }
   ],
   "source": [
    "scores = cross_val_score(LogisticRegression(), X, y, scoring='accuracy', cv=10)\n",
    "print scores\n",
    "print scores.mean()"
   ]
  },
  {
   "cell_type": "markdown",
   "metadata": {},
   "source": [
    "At least it's still performing at around 55.4 accuracy."
   ]
  },
  {
   "cell_type": "markdown",
   "metadata": {},
   "source": [
    "#### Let's try with the sparse matrix of the original and theoretically more relevant variables."
   ]
  },
  {
   "cell_type": "code",
   "execution_count": 200,
   "metadata": {
    "collapsed": true
   },
   "outputs": [],
   "source": [
    "y = np.ravel(kobe_old_cat[\"shot_made_flag\"])"
   ]
  },
  {
   "cell_type": "code",
   "execution_count": 201,
   "metadata": {
    "collapsed": false
   },
   "outputs": [],
   "source": [
    "kobe_old_cat = kobe_old_cat.drop(\"shot_made_flag\", axis =1)"
   ]
  },
  {
   "cell_type": "code",
   "execution_count": 202,
   "metadata": {
    "collapsed": true
   },
   "outputs": [],
   "source": [
    "X = kobe_old_cat"
   ]
  },
  {
   "cell_type": "code",
   "execution_count": 203,
   "metadata": {
    "collapsed": false
   },
   "outputs": [
    {
     "data": {
      "text/plain": [
       "0.6821418842666459"
      ]
     },
     "execution_count": 203,
     "metadata": {},
     "output_type": "execute_result"
    }
   ],
   "source": [
    "model = LogisticRegression()\n",
    "model = model.fit(X, y)\n",
    "model.score(X, y)"
   ]
  },
  {
   "cell_type": "markdown",
   "metadata": {},
   "source": [
    "68.2% accuracy. It seems that these variables are more useful."
   ]
  },
  {
   "cell_type": "code",
   "execution_count": 205,
   "metadata": {
    "collapsed": false
   },
   "outputs": [
    {
     "data": {
      "text/html": [
       "<div>\n",
       "<table border=\"1\" class=\"dataframe\">\n",
       "  <thead>\n",
       "    <tr style=\"text-align: right;\">\n",
       "      <th></th>\n",
       "      <th>0</th>\n",
       "      <th>1</th>\n",
       "    </tr>\n",
       "  </thead>\n",
       "  <tbody>\n",
       "    <tr>\n",
       "      <th>0</th>\n",
       "      <td>action_type_Alley Oop Dunk Shot</td>\n",
       "      <td>[0.364298275533]</td>\n",
       "    </tr>\n",
       "    <tr>\n",
       "      <th>1</th>\n",
       "      <td>action_type_Alley Oop Layup shot</td>\n",
       "      <td>[0.115555123239]</td>\n",
       "    </tr>\n",
       "    <tr>\n",
       "      <th>2</th>\n",
       "      <td>action_type_Cutting Finger Roll Layup Shot</td>\n",
       "      <td>[0.0]</td>\n",
       "    </tr>\n",
       "    <tr>\n",
       "      <th>3</th>\n",
       "      <td>action_type_Cutting Layup Shot</td>\n",
       "      <td>[0.0176686694331]</td>\n",
       "    </tr>\n",
       "    <tr>\n",
       "      <th>4</th>\n",
       "      <td>action_type_Driving Bank shot</td>\n",
       "      <td>[-0.176419586754]</td>\n",
       "    </tr>\n",
       "    <tr>\n",
       "      <th>5</th>\n",
       "      <td>action_type_Driving Dunk Shot</td>\n",
       "      <td>[1.12114890087]</td>\n",
       "    </tr>\n",
       "    <tr>\n",
       "      <th>6</th>\n",
       "      <td>action_type_Driving Finger Roll Layup Shot</td>\n",
       "      <td>[1.07552854665]</td>\n",
       "    </tr>\n",
       "    <tr>\n",
       "      <th>7</th>\n",
       "      <td>action_type_Driving Finger Roll Shot</td>\n",
       "      <td>[0.885420380264]</td>\n",
       "    </tr>\n",
       "    <tr>\n",
       "      <th>8</th>\n",
       "      <td>action_type_Driving Floating Bank Jump Shot</td>\n",
       "      <td>[0.297348061831]</td>\n",
       "    </tr>\n",
       "    <tr>\n",
       "      <th>9</th>\n",
       "      <td>action_type_Driving Floating Jump Shot</td>\n",
       "      <td>[-0.505905299936]</td>\n",
       "    </tr>\n",
       "    <tr>\n",
       "      <th>10</th>\n",
       "      <td>action_type_Driving Hook Shot</td>\n",
       "      <td>[0.0179257044883]</td>\n",
       "    </tr>\n",
       "    <tr>\n",
       "      <th>11</th>\n",
       "      <td>action_type_Driving Jump shot</td>\n",
       "      <td>[-0.669533563248]</td>\n",
       "    </tr>\n",
       "    <tr>\n",
       "      <th>12</th>\n",
       "      <td>action_type_Driving Layup Shot</td>\n",
       "      <td>[0.259723501046]</td>\n",
       "    </tr>\n",
       "    <tr>\n",
       "      <th>13</th>\n",
       "      <td>action_type_Driving Reverse Layup Shot</td>\n",
       "      <td>[0.316684295303]</td>\n",
       "    </tr>\n",
       "    <tr>\n",
       "      <th>14</th>\n",
       "      <td>action_type_Driving Slam Dunk Shot</td>\n",
       "      <td>[0.764068645887]</td>\n",
       "    </tr>\n",
       "    <tr>\n",
       "      <th>15</th>\n",
       "      <td>action_type_Dunk Shot</td>\n",
       "      <td>[-1.15442339069]</td>\n",
       "    </tr>\n",
       "    <tr>\n",
       "      <th>16</th>\n",
       "      <td>action_type_Fadeaway Bank shot</td>\n",
       "      <td>[1.14845752068]</td>\n",
       "    </tr>\n",
       "    <tr>\n",
       "      <th>17</th>\n",
       "      <td>action_type_Fadeaway Jump Shot</td>\n",
       "      <td>[-0.391119037284]</td>\n",
       "    </tr>\n",
       "    <tr>\n",
       "      <th>18</th>\n",
       "      <td>action_type_Finger Roll Layup Shot</td>\n",
       "      <td>[0.634073767352]</td>\n",
       "    </tr>\n",
       "    <tr>\n",
       "      <th>19</th>\n",
       "      <td>action_type_Finger Roll Shot</td>\n",
       "      <td>[-0.782425605274]</td>\n",
       "    </tr>\n",
       "    <tr>\n",
       "      <th>20</th>\n",
       "      <td>action_type_Floating Jump shot</td>\n",
       "      <td>[0.392048564884]</td>\n",
       "    </tr>\n",
       "    <tr>\n",
       "      <th>21</th>\n",
       "      <td>action_type_Follow Up Dunk Shot</td>\n",
       "      <td>[-0.0928028223037]</td>\n",
       "    </tr>\n",
       "    <tr>\n",
       "      <th>22</th>\n",
       "      <td>action_type_Hook Bank Shot</td>\n",
       "      <td>[0.70606119597]</td>\n",
       "    </tr>\n",
       "    <tr>\n",
       "      <th>23</th>\n",
       "      <td>action_type_Hook Shot</td>\n",
       "      <td>[-1.02823484406]</td>\n",
       "    </tr>\n",
       "    <tr>\n",
       "      <th>24</th>\n",
       "      <td>action_type_Jump Bank Shot</td>\n",
       "      <td>[0.647501844089]</td>\n",
       "    </tr>\n",
       "    <tr>\n",
       "      <th>25</th>\n",
       "      <td>action_type_Jump Hook Shot</td>\n",
       "      <td>[0.402184801451]</td>\n",
       "    </tr>\n",
       "    <tr>\n",
       "      <th>26</th>\n",
       "      <td>action_type_Jump Shot</td>\n",
       "      <td>[-1.47517641738]</td>\n",
       "    </tr>\n",
       "    <tr>\n",
       "      <th>27</th>\n",
       "      <td>action_type_Layup Shot</td>\n",
       "      <td>[-1.26879649014]</td>\n",
       "    </tr>\n",
       "    <tr>\n",
       "      <th>28</th>\n",
       "      <td>action_type_Pullup Bank shot</td>\n",
       "      <td>[-0.734834931968]</td>\n",
       "    </tr>\n",
       "    <tr>\n",
       "      <th>29</th>\n",
       "      <td>action_type_Pullup Jump shot</td>\n",
       "      <td>[0.213659268675]</td>\n",
       "    </tr>\n",
       "    <tr>\n",
       "      <th>...</th>\n",
       "      <td>...</td>\n",
       "      <td>...</td>\n",
       "    </tr>\n",
       "    <tr>\n",
       "      <th>84</th>\n",
       "      <td>opponent_CHA</td>\n",
       "      <td>[0.0633824212377]</td>\n",
       "    </tr>\n",
       "    <tr>\n",
       "      <th>85</th>\n",
       "      <td>opponent_CHI</td>\n",
       "      <td>[0.0337721142242]</td>\n",
       "    </tr>\n",
       "    <tr>\n",
       "      <th>86</th>\n",
       "      <td>opponent_CLE</td>\n",
       "      <td>[0.0216599015715]</td>\n",
       "    </tr>\n",
       "    <tr>\n",
       "      <th>87</th>\n",
       "      <td>opponent_DAL</td>\n",
       "      <td>[0.0594432701699]</td>\n",
       "    </tr>\n",
       "    <tr>\n",
       "      <th>88</th>\n",
       "      <td>opponent_DEN</td>\n",
       "      <td>[0.0579063688816]</td>\n",
       "    </tr>\n",
       "    <tr>\n",
       "      <th>89</th>\n",
       "      <td>opponent_DET</td>\n",
       "      <td>[0.059549967497]</td>\n",
       "    </tr>\n",
       "    <tr>\n",
       "      <th>90</th>\n",
       "      <td>opponent_GSW</td>\n",
       "      <td>[-0.0448920253988]</td>\n",
       "    </tr>\n",
       "    <tr>\n",
       "      <th>91</th>\n",
       "      <td>opponent_HOU</td>\n",
       "      <td>[-0.0837747780867]</td>\n",
       "    </tr>\n",
       "    <tr>\n",
       "      <th>92</th>\n",
       "      <td>opponent_IND</td>\n",
       "      <td>[-0.0611729443001]</td>\n",
       "    </tr>\n",
       "    <tr>\n",
       "      <th>93</th>\n",
       "      <td>opponent_LAC</td>\n",
       "      <td>[0.0369248443816]</td>\n",
       "    </tr>\n",
       "    <tr>\n",
       "      <th>94</th>\n",
       "      <td>opponent_MEM</td>\n",
       "      <td>[-0.0194941602651]</td>\n",
       "    </tr>\n",
       "    <tr>\n",
       "      <th>95</th>\n",
       "      <td>opponent_MIA</td>\n",
       "      <td>[-0.0334183182468]</td>\n",
       "    </tr>\n",
       "    <tr>\n",
       "      <th>96</th>\n",
       "      <td>opponent_MIL</td>\n",
       "      <td>[0.0566628866813]</td>\n",
       "    </tr>\n",
       "    <tr>\n",
       "      <th>97</th>\n",
       "      <td>opponent_MIN</td>\n",
       "      <td>[0.0301064600749]</td>\n",
       "    </tr>\n",
       "    <tr>\n",
       "      <th>98</th>\n",
       "      <td>opponent_NJN</td>\n",
       "      <td>[-0.139022402278]</td>\n",
       "    </tr>\n",
       "    <tr>\n",
       "      <th>99</th>\n",
       "      <td>opponent_NOH</td>\n",
       "      <td>[0.0882557804028]</td>\n",
       "    </tr>\n",
       "    <tr>\n",
       "      <th>100</th>\n",
       "      <td>opponent_NOP</td>\n",
       "      <td>[0.0122117660598]</td>\n",
       "    </tr>\n",
       "    <tr>\n",
       "      <th>101</th>\n",
       "      <td>opponent_NYK</td>\n",
       "      <td>[0.256828215644]</td>\n",
       "    </tr>\n",
       "    <tr>\n",
       "      <th>102</th>\n",
       "      <td>opponent_OKC</td>\n",
       "      <td>[-0.222020596535]</td>\n",
       "    </tr>\n",
       "    <tr>\n",
       "      <th>103</th>\n",
       "      <td>opponent_ORL</td>\n",
       "      <td>[-0.0383175360413]</td>\n",
       "    </tr>\n",
       "    <tr>\n",
       "      <th>104</th>\n",
       "      <td>opponent_PHI</td>\n",
       "      <td>[0.0577875681672]</td>\n",
       "    </tr>\n",
       "    <tr>\n",
       "      <th>105</th>\n",
       "      <td>opponent_PHX</td>\n",
       "      <td>[0.163131577784]</td>\n",
       "    </tr>\n",
       "    <tr>\n",
       "      <th>106</th>\n",
       "      <td>opponent_POR</td>\n",
       "      <td>[0.0590948858336]</td>\n",
       "    </tr>\n",
       "    <tr>\n",
       "      <th>107</th>\n",
       "      <td>opponent_SAC</td>\n",
       "      <td>[0.154034409788]</td>\n",
       "    </tr>\n",
       "    <tr>\n",
       "      <th>108</th>\n",
       "      <td>opponent_SAS</td>\n",
       "      <td>[0.039654009052]</td>\n",
       "    </tr>\n",
       "    <tr>\n",
       "      <th>109</th>\n",
       "      <td>opponent_SEA</td>\n",
       "      <td>[0.170553253748]</td>\n",
       "    </tr>\n",
       "    <tr>\n",
       "      <th>110</th>\n",
       "      <td>opponent_TOR</td>\n",
       "      <td>[-0.104953505128]</td>\n",
       "    </tr>\n",
       "    <tr>\n",
       "      <th>111</th>\n",
       "      <td>opponent_UTA</td>\n",
       "      <td>[0.0596855382666]</td>\n",
       "    </tr>\n",
       "    <tr>\n",
       "      <th>112</th>\n",
       "      <td>opponent_VAN</td>\n",
       "      <td>[0.175265144905]</td>\n",
       "    </tr>\n",
       "    <tr>\n",
       "      <th>113</th>\n",
       "      <td>opponent_WAS</td>\n",
       "      <td>[0.0342581774829]</td>\n",
       "    </tr>\n",
       "  </tbody>\n",
       "</table>\n",
       "<p>114 rows × 2 columns</p>\n",
       "</div>"
      ],
      "text/plain": [
       "                                               0                   1\n",
       "0                action_type_Alley Oop Dunk Shot    [0.364298275533]\n",
       "1               action_type_Alley Oop Layup shot    [0.115555123239]\n",
       "2     action_type_Cutting Finger Roll Layup Shot               [0.0]\n",
       "3                 action_type_Cutting Layup Shot   [0.0176686694331]\n",
       "4                  action_type_Driving Bank shot   [-0.176419586754]\n",
       "5                  action_type_Driving Dunk Shot     [1.12114890087]\n",
       "6     action_type_Driving Finger Roll Layup Shot     [1.07552854665]\n",
       "7           action_type_Driving Finger Roll Shot    [0.885420380264]\n",
       "8    action_type_Driving Floating Bank Jump Shot    [0.297348061831]\n",
       "9         action_type_Driving Floating Jump Shot   [-0.505905299936]\n",
       "10                 action_type_Driving Hook Shot   [0.0179257044883]\n",
       "11                 action_type_Driving Jump shot   [-0.669533563248]\n",
       "12                action_type_Driving Layup Shot    [0.259723501046]\n",
       "13        action_type_Driving Reverse Layup Shot    [0.316684295303]\n",
       "14            action_type_Driving Slam Dunk Shot    [0.764068645887]\n",
       "15                         action_type_Dunk Shot    [-1.15442339069]\n",
       "16                action_type_Fadeaway Bank shot     [1.14845752068]\n",
       "17                action_type_Fadeaway Jump Shot   [-0.391119037284]\n",
       "18            action_type_Finger Roll Layup Shot    [0.634073767352]\n",
       "19                  action_type_Finger Roll Shot   [-0.782425605274]\n",
       "20                action_type_Floating Jump shot    [0.392048564884]\n",
       "21               action_type_Follow Up Dunk Shot  [-0.0928028223037]\n",
       "22                    action_type_Hook Bank Shot     [0.70606119597]\n",
       "23                         action_type_Hook Shot    [-1.02823484406]\n",
       "24                    action_type_Jump Bank Shot    [0.647501844089]\n",
       "25                    action_type_Jump Hook Shot    [0.402184801451]\n",
       "26                         action_type_Jump Shot    [-1.47517641738]\n",
       "27                        action_type_Layup Shot    [-1.26879649014]\n",
       "28                  action_type_Pullup Bank shot   [-0.734834931968]\n",
       "29                  action_type_Pullup Jump shot    [0.213659268675]\n",
       "..                                           ...                 ...\n",
       "84                                  opponent_CHA   [0.0633824212377]\n",
       "85                                  opponent_CHI   [0.0337721142242]\n",
       "86                                  opponent_CLE   [0.0216599015715]\n",
       "87                                  opponent_DAL   [0.0594432701699]\n",
       "88                                  opponent_DEN   [0.0579063688816]\n",
       "89                                  opponent_DET    [0.059549967497]\n",
       "90                                  opponent_GSW  [-0.0448920253988]\n",
       "91                                  opponent_HOU  [-0.0837747780867]\n",
       "92                                  opponent_IND  [-0.0611729443001]\n",
       "93                                  opponent_LAC   [0.0369248443816]\n",
       "94                                  opponent_MEM  [-0.0194941602651]\n",
       "95                                  opponent_MIA  [-0.0334183182468]\n",
       "96                                  opponent_MIL   [0.0566628866813]\n",
       "97                                  opponent_MIN   [0.0301064600749]\n",
       "98                                  opponent_NJN   [-0.139022402278]\n",
       "99                                  opponent_NOH   [0.0882557804028]\n",
       "100                                 opponent_NOP   [0.0122117660598]\n",
       "101                                 opponent_NYK    [0.256828215644]\n",
       "102                                 opponent_OKC   [-0.222020596535]\n",
       "103                                 opponent_ORL  [-0.0383175360413]\n",
       "104                                 opponent_PHI   [0.0577875681672]\n",
       "105                                 opponent_PHX    [0.163131577784]\n",
       "106                                 opponent_POR   [0.0590948858336]\n",
       "107                                 opponent_SAC    [0.154034409788]\n",
       "108                                 opponent_SAS    [0.039654009052]\n",
       "109                                 opponent_SEA    [0.170553253748]\n",
       "110                                 opponent_TOR   [-0.104953505128]\n",
       "111                                 opponent_UTA   [0.0596855382666]\n",
       "112                                 opponent_VAN    [0.175265144905]\n",
       "113                                 opponent_WAS   [0.0342581774829]\n",
       "\n",
       "[114 rows x 2 columns]"
      ]
     },
     "execution_count": 205,
     "metadata": {},
     "output_type": "execute_result"
    }
   ],
   "source": [
    "pd.DataFrame(zip(X.columns, np.transpose(model.coef_)))"
   ]
  },
  {
   "cell_type": "code",
   "execution_count": 206,
   "metadata": {
    "collapsed": false
   },
   "outputs": [
    {
     "data": {
      "text/plain": [
       "LogisticRegression(C=1.0, class_weight=None, dual=False, fit_intercept=True,\n",
       "          intercept_scaling=1, max_iter=100, multi_class='ovr', n_jobs=1,\n",
       "          penalty='l2', random_state=None, solver='liblinear', tol=0.0001,\n",
       "          verbose=0, warm_start=False)"
      ]
     },
     "execution_count": 206,
     "metadata": {},
     "output_type": "execute_result"
    }
   ],
   "source": [
    "X_train, X_test, y_train, y_test = train_test_split(X, y, test_size=0.3, random_state=0)\n",
    "model2 = LogisticRegression()\n",
    "model2.fit(X_train, y_train)"
   ]
  },
  {
   "cell_type": "code",
   "execution_count": 207,
   "metadata": {
    "collapsed": false
   },
   "outputs": [
    {
     "name": "stdout",
     "output_type": "stream",
     "text": [
      "[ 0.  0.  0. ...,  0.  0.  1.]\n"
     ]
    }
   ],
   "source": [
    "predicted = model2.predict(X_test)\n",
    "print predicted"
   ]
  },
  {
   "cell_type": "code",
   "execution_count": 208,
   "metadata": {
    "collapsed": false
   },
   "outputs": [
    {
     "name": "stdout",
     "output_type": "stream",
     "text": [
      "[[ 0.71035482  0.28964518]\n",
      " [ 0.64705777  0.35294223]\n",
      " [ 0.76465764  0.23534236]\n",
      " ..., \n",
      " [ 0.67969767  0.32030233]\n",
      " [ 0.70420902  0.29579098]\n",
      " [ 0.21980381  0.78019619]]\n"
     ]
    }
   ],
   "source": [
    "probs = model2.predict_proba(X_test)\n",
    "print probs"
   ]
  },
  {
   "cell_type": "code",
   "execution_count": 209,
   "metadata": {
    "collapsed": false
   },
   "outputs": [
    {
     "name": "stdout",
     "output_type": "stream",
     "text": [
      "0.67924773022\n",
      "0.680867133661\n"
     ]
    }
   ],
   "source": [
    "print metrics.accuracy_score(y_test, predicted)\n",
    "print metrics.roc_auc_score(y_test, probs[:, 1])"
   ]
  },
  {
   "cell_type": "markdown",
   "metadata": {},
   "source": [
    "Similar accuracy to what we experienced when training and predicting on the same data."
   ]
  },
  {
   "cell_type": "code",
   "execution_count": 210,
   "metadata": {
    "collapsed": false
   },
   "outputs": [
    {
     "name": "stdout",
     "output_type": "stream",
     "text": [
      "[[3682  622]\n",
      " [1851 1555]]\n",
      "             precision    recall  f1-score   support\n",
      "\n",
      "        0.0       0.67      0.86      0.75      4304\n",
      "        1.0       0.71      0.46      0.56      3406\n",
      "\n",
      "avg / total       0.69      0.68      0.66      7710\n",
      "\n"
     ]
    }
   ],
   "source": [
    "print metrics.confusion_matrix(y_test, predicted)\n",
    "print metrics.classification_report(y_test, predicted)"
   ]
  },
  {
   "cell_type": "markdown",
   "metadata": {},
   "source": [
    "At least this model it's able to predict shot in with some accuracy"
   ]
  },
  {
   "cell_type": "code",
   "execution_count": 211,
   "metadata": {
    "collapsed": false
   },
   "outputs": [
    {
     "name": "stdout",
     "output_type": "stream",
     "text": [
      "[ 0.6907818   0.68728121  0.68793774  0.69143969  0.69066148  0.67730634\n",
      "  0.65940054  0.66952121  0.68703776  0.67497081]\n",
      "0.681633858897\n"
     ]
    }
   ],
   "source": [
    "scores = cross_val_score(LogisticRegression(), X, y, scoring='accuracy', cv=10)\n",
    "print scores\n",
    "print scores.mean()"
   ]
  },
  {
   "cell_type": "markdown",
   "metadata": {},
   "source": [
    "Fine. It's still performing at around 68% accuracy."
   ]
  },
  {
   "cell_type": "markdown",
   "metadata": {
    "collapsed": true
   },
   "source": [
    "#### Now we'll try with the sparse matrix of the variables newly created crossing types of actions with different segmentation of position on court. There are 871 variables: without a feature selection it's highly probable the model will be not accurate"
   ]
  },
  {
   "cell_type": "code",
   "execution_count": 212,
   "metadata": {
    "collapsed": false
   },
   "outputs": [],
   "source": [
    "y = np.ravel(kobe_new_cat[\"shot_made_flag\"])"
   ]
  },
  {
   "cell_type": "code",
   "execution_count": 213,
   "metadata": {
    "collapsed": true
   },
   "outputs": [],
   "source": [
    "kobe_new_cat = kobe_new_cat.drop(\"shot_made_flag\", axis=1)"
   ]
  },
  {
   "cell_type": "code",
   "execution_count": 214,
   "metadata": {
    "collapsed": true
   },
   "outputs": [],
   "source": [
    "X = kobe_new_cat"
   ]
  },
  {
   "cell_type": "code",
   "execution_count": 215,
   "metadata": {
    "collapsed": false
   },
   "outputs": [
    {
     "data": {
      "text/plain": [
       "0.6851772580456863"
      ]
     },
     "execution_count": 215,
     "metadata": {},
     "output_type": "execute_result"
    }
   ],
   "source": [
    "model = LogisticRegression()\n",
    "model = model.fit(X, y)\n",
    "model.score(X, y)"
   ]
  },
  {
   "cell_type": "code",
   "execution_count": 217,
   "metadata": {
    "collapsed": false
   },
   "outputs": [
    {
     "data": {
      "text/html": [
       "<div>\n",
       "<table border=\"1\" class=\"dataframe\">\n",
       "  <thead>\n",
       "    <tr style=\"text-align: right;\">\n",
       "      <th></th>\n",
       "      <th>0</th>\n",
       "      <th>1</th>\n",
       "    </tr>\n",
       "  </thead>\n",
       "  <tbody>\n",
       "    <tr>\n",
       "      <th>0</th>\n",
       "      <td>at_sza_Alley Oop Dunk Shot-Center(C)</td>\n",
       "      <td>[0.698272680426]</td>\n",
       "    </tr>\n",
       "    <tr>\n",
       "      <th>1</th>\n",
       "      <td>at_sza_Alley Oop Layup shot-Center(C)</td>\n",
       "      <td>[0.0633427127911]</td>\n",
       "    </tr>\n",
       "    <tr>\n",
       "      <th>2</th>\n",
       "      <td>at_sza_Cutting Finger Roll Layup Shot-Center(C)</td>\n",
       "      <td>[0.0]</td>\n",
       "    </tr>\n",
       "    <tr>\n",
       "      <th>3</th>\n",
       "      <td>at_sza_Cutting Layup Shot-Center(C)</td>\n",
       "      <td>[0.0131659837808]</td>\n",
       "    </tr>\n",
       "    <tr>\n",
       "      <th>4</th>\n",
       "      <td>at_sza_Driving Bank shot-Center(C)</td>\n",
       "      <td>[-0.0157328545906]</td>\n",
       "    </tr>\n",
       "    <tr>\n",
       "      <th>5</th>\n",
       "      <td>at_sza_Driving Dunk Shot-Center(C)</td>\n",
       "      <td>[0.900360619276]</td>\n",
       "    </tr>\n",
       "    <tr>\n",
       "      <th>6</th>\n",
       "      <td>at_sza_Driving Finger Roll Layup Shot-Center(C)</td>\n",
       "      <td>[0.314017373662]</td>\n",
       "    </tr>\n",
       "    <tr>\n",
       "      <th>7</th>\n",
       "      <td>at_sza_Driving Finger Roll Shot-Center(C)</td>\n",
       "      <td>[0.287451851291]</td>\n",
       "    </tr>\n",
       "    <tr>\n",
       "      <th>8</th>\n",
       "      <td>at_sza_Driving Floating Bank Jump Shot-Left Si...</td>\n",
       "      <td>[0.189826782984]</td>\n",
       "    </tr>\n",
       "    <tr>\n",
       "      <th>9</th>\n",
       "      <td>at_sza_Driving Floating Jump Shot-Center(C)</td>\n",
       "      <td>[-0.0646000710999]</td>\n",
       "    </tr>\n",
       "    <tr>\n",
       "      <th>10</th>\n",
       "      <td>at_sza_Driving Floating Jump Shot-Right Side(R)</td>\n",
       "      <td>[-0.331825922509]</td>\n",
       "    </tr>\n",
       "    <tr>\n",
       "      <th>11</th>\n",
       "      <td>at_sza_Driving Hook Shot-Center(C)</td>\n",
       "      <td>[-0.112938254965]</td>\n",
       "    </tr>\n",
       "    <tr>\n",
       "      <th>12</th>\n",
       "      <td>at_sza_Driving Jump shot-Center(C)</td>\n",
       "      <td>[-0.0481143753994]</td>\n",
       "    </tr>\n",
       "    <tr>\n",
       "      <th>13</th>\n",
       "      <td>at_sza_Driving Jump shot-Left Side(L)</td>\n",
       "      <td>[-0.00189682114857]</td>\n",
       "    </tr>\n",
       "    <tr>\n",
       "      <th>14</th>\n",
       "      <td>at_sza_Driving Jump shot-Right Side(R)</td>\n",
       "      <td>[-0.642302527103]</td>\n",
       "    </tr>\n",
       "    <tr>\n",
       "      <th>15</th>\n",
       "      <td>at_sza_Driving Layup Shot-Center(C)</td>\n",
       "      <td>[-0.0582640208341]</td>\n",
       "    </tr>\n",
       "    <tr>\n",
       "      <th>16</th>\n",
       "      <td>at_sza_Driving Reverse Layup Shot-Center(C)</td>\n",
       "      <td>[0.103252415569]</td>\n",
       "    </tr>\n",
       "    <tr>\n",
       "      <th>17</th>\n",
       "      <td>at_sza_Driving Slam Dunk Shot-Center(C)</td>\n",
       "      <td>[0.74211772982]</td>\n",
       "    </tr>\n",
       "    <tr>\n",
       "      <th>18</th>\n",
       "      <td>at_sza_Dunk Shot-Center(C)</td>\n",
       "      <td>[0.141500176278]</td>\n",
       "    </tr>\n",
       "    <tr>\n",
       "      <th>19</th>\n",
       "      <td>at_sza_Dunk Shot-Left Side(L)</td>\n",
       "      <td>[0.189826782984]</td>\n",
       "    </tr>\n",
       "    <tr>\n",
       "      <th>20</th>\n",
       "      <td>at_sza_Fadeaway Bank shot-Center(C)</td>\n",
       "      <td>[0.0840712878729]</td>\n",
       "    </tr>\n",
       "    <tr>\n",
       "      <th>21</th>\n",
       "      <td>at_sza_Fadeaway Bank shot-Left Side(L)</td>\n",
       "      <td>[0.141928413368]</td>\n",
       "    </tr>\n",
       "    <tr>\n",
       "      <th>22</th>\n",
       "      <td>at_sza_Fadeaway Bank shot-Right Side(R)</td>\n",
       "      <td>[0.531405216085]</td>\n",
       "    </tr>\n",
       "    <tr>\n",
       "      <th>23</th>\n",
       "      <td>at_sza_Fadeaway Jump Shot-Center(C)</td>\n",
       "      <td>[0.1320788323]</td>\n",
       "    </tr>\n",
       "    <tr>\n",
       "      <th>24</th>\n",
       "      <td>at_sza_Fadeaway Jump Shot-Left Side Center(LC)</td>\n",
       "      <td>[-0.191154354541]</td>\n",
       "    </tr>\n",
       "    <tr>\n",
       "      <th>25</th>\n",
       "      <td>at_sza_Fadeaway Jump Shot-Left Side(L)</td>\n",
       "      <td>[-0.450069796586]</td>\n",
       "    </tr>\n",
       "    <tr>\n",
       "      <th>26</th>\n",
       "      <td>at_sza_Fadeaway Jump Shot-Right Side Center(RC)</td>\n",
       "      <td>[0.169042155357]</td>\n",
       "    </tr>\n",
       "    <tr>\n",
       "      <th>27</th>\n",
       "      <td>at_sza_Fadeaway Jump Shot-Right Side(R)</td>\n",
       "      <td>[-0.32931682505]</td>\n",
       "    </tr>\n",
       "    <tr>\n",
       "      <th>28</th>\n",
       "      <td>at_sza_Finger Roll Layup Shot-Center(C)</td>\n",
       "      <td>[0.224902742277]</td>\n",
       "    </tr>\n",
       "    <tr>\n",
       "      <th>29</th>\n",
       "      <td>at_sza_Finger Roll Shot-Center(C)</td>\n",
       "      <td>[-0.402561629448]</td>\n",
       "    </tr>\n",
       "    <tr>\n",
       "      <th>...</th>\n",
       "      <td>...</td>\n",
       "      <td>...</td>\n",
       "    </tr>\n",
       "    <tr>\n",
       "      <th>841</th>\n",
       "      <td>at_sd_Turnaround Hook Shot-5</td>\n",
       "      <td>[0.246759413671]</td>\n",
       "    </tr>\n",
       "    <tr>\n",
       "      <th>842</th>\n",
       "      <td>at_sd_Turnaround Hook Shot-6</td>\n",
       "      <td>[-0.0690055132904]</td>\n",
       "    </tr>\n",
       "    <tr>\n",
       "      <th>843</th>\n",
       "      <td>at_sd_Turnaround Hook Shot-8</td>\n",
       "      <td>[-0.290119076719]</td>\n",
       "    </tr>\n",
       "    <tr>\n",
       "      <th>844</th>\n",
       "      <td>at_sd_Turnaround Hook Shot-9</td>\n",
       "      <td>[-0.0331031268205]</td>\n",
       "    </tr>\n",
       "    <tr>\n",
       "      <th>845</th>\n",
       "      <td>at_sd_Turnaround Jump Shot-10</td>\n",
       "      <td>[-0.35868447389]</td>\n",
       "    </tr>\n",
       "    <tr>\n",
       "      <th>846</th>\n",
       "      <td>at_sd_Turnaround Jump Shot-11</td>\n",
       "      <td>[-0.0978199497543]</td>\n",
       "    </tr>\n",
       "    <tr>\n",
       "      <th>847</th>\n",
       "      <td>at_sd_Turnaround Jump Shot-12</td>\n",
       "      <td>[-0.123043038055]</td>\n",
       "    </tr>\n",
       "    <tr>\n",
       "      <th>848</th>\n",
       "      <td>at_sd_Turnaround Jump Shot-13</td>\n",
       "      <td>[-0.0799762171736]</td>\n",
       "    </tr>\n",
       "    <tr>\n",
       "      <th>849</th>\n",
       "      <td>at_sd_Turnaround Jump Shot-14</td>\n",
       "      <td>[0.213416025278]</td>\n",
       "    </tr>\n",
       "    <tr>\n",
       "      <th>850</th>\n",
       "      <td>at_sd_Turnaround Jump Shot-15</td>\n",
       "      <td>[-0.442778558951]</td>\n",
       "    </tr>\n",
       "    <tr>\n",
       "      <th>851</th>\n",
       "      <td>at_sd_Turnaround Jump Shot-16</td>\n",
       "      <td>[-0.411028209604]</td>\n",
       "    </tr>\n",
       "    <tr>\n",
       "      <th>852</th>\n",
       "      <td>at_sd_Turnaround Jump Shot-17</td>\n",
       "      <td>[-0.165804001739]</td>\n",
       "    </tr>\n",
       "    <tr>\n",
       "      <th>853</th>\n",
       "      <td>at_sd_Turnaround Jump Shot-18</td>\n",
       "      <td>[-0.375815017186]</td>\n",
       "    </tr>\n",
       "    <tr>\n",
       "      <th>854</th>\n",
       "      <td>at_sd_Turnaround Jump Shot-19</td>\n",
       "      <td>[-0.0977074624009]</td>\n",
       "    </tr>\n",
       "    <tr>\n",
       "      <th>855</th>\n",
       "      <td>at_sd_Turnaround Jump Shot-2</td>\n",
       "      <td>[0.0]</td>\n",
       "    </tr>\n",
       "    <tr>\n",
       "      <th>856</th>\n",
       "      <td>at_sd_Turnaround Jump Shot-20</td>\n",
       "      <td>[0.297778138878]</td>\n",
       "    </tr>\n",
       "    <tr>\n",
       "      <th>857</th>\n",
       "      <td>at_sd_Turnaround Jump Shot-21</td>\n",
       "      <td>[0.948858058317]</td>\n",
       "    </tr>\n",
       "    <tr>\n",
       "      <th>858</th>\n",
       "      <td>at_sd_Turnaround Jump Shot-22</td>\n",
       "      <td>[0.264381578832]</td>\n",
       "    </tr>\n",
       "    <tr>\n",
       "      <th>859</th>\n",
       "      <td>at_sd_Turnaround Jump Shot-23</td>\n",
       "      <td>[-0.248686045869]</td>\n",
       "    </tr>\n",
       "    <tr>\n",
       "      <th>860</th>\n",
       "      <td>at_sd_Turnaround Jump Shot-24</td>\n",
       "      <td>[0.824664561966]</td>\n",
       "    </tr>\n",
       "    <tr>\n",
       "      <th>861</th>\n",
       "      <td>at_sd_Turnaround Jump Shot-25</td>\n",
       "      <td>[-0.643307476344]</td>\n",
       "    </tr>\n",
       "    <tr>\n",
       "      <th>862</th>\n",
       "      <td>at_sd_Turnaround Jump Shot-26</td>\n",
       "      <td>[-0.14996992414]</td>\n",
       "    </tr>\n",
       "    <tr>\n",
       "      <th>863</th>\n",
       "      <td>at_sd_Turnaround Jump Shot-27</td>\n",
       "      <td>[-0.0760970676644]</td>\n",
       "    </tr>\n",
       "    <tr>\n",
       "      <th>864</th>\n",
       "      <td>at_sd_Turnaround Jump Shot-3</td>\n",
       "      <td>[0.354555109518]</td>\n",
       "    </tr>\n",
       "    <tr>\n",
       "      <th>865</th>\n",
       "      <td>at_sd_Turnaround Jump Shot-4</td>\n",
       "      <td>[0.247518607211]</td>\n",
       "    </tr>\n",
       "    <tr>\n",
       "      <th>866</th>\n",
       "      <td>at_sd_Turnaround Jump Shot-5</td>\n",
       "      <td>[-0.130312019724]</td>\n",
       "    </tr>\n",
       "    <tr>\n",
       "      <th>867</th>\n",
       "      <td>at_sd_Turnaround Jump Shot-6</td>\n",
       "      <td>[-0.273234124837]</td>\n",
       "    </tr>\n",
       "    <tr>\n",
       "      <th>868</th>\n",
       "      <td>at_sd_Turnaround Jump Shot-7</td>\n",
       "      <td>[-0.273234124837]</td>\n",
       "    </tr>\n",
       "    <tr>\n",
       "      <th>869</th>\n",
       "      <td>at_sd_Turnaround Jump Shot-8</td>\n",
       "      <td>[0.513909997587]</td>\n",
       "    </tr>\n",
       "    <tr>\n",
       "      <th>870</th>\n",
       "      <td>at_sd_Turnaround Jump Shot-9</td>\n",
       "      <td>[0.293121630703]</td>\n",
       "    </tr>\n",
       "  </tbody>\n",
       "</table>\n",
       "<p>871 rows × 2 columns</p>\n",
       "</div>"
      ],
      "text/plain": [
       "                                                     0                    1\n",
       "0                 at_sza_Alley Oop Dunk Shot-Center(C)     [0.698272680426]\n",
       "1                at_sza_Alley Oop Layup shot-Center(C)    [0.0633427127911]\n",
       "2      at_sza_Cutting Finger Roll Layup Shot-Center(C)                [0.0]\n",
       "3                  at_sza_Cutting Layup Shot-Center(C)    [0.0131659837808]\n",
       "4                   at_sza_Driving Bank shot-Center(C)   [-0.0157328545906]\n",
       "5                   at_sza_Driving Dunk Shot-Center(C)     [0.900360619276]\n",
       "6      at_sza_Driving Finger Roll Layup Shot-Center(C)     [0.314017373662]\n",
       "7            at_sza_Driving Finger Roll Shot-Center(C)     [0.287451851291]\n",
       "8    at_sza_Driving Floating Bank Jump Shot-Left Si...     [0.189826782984]\n",
       "9          at_sza_Driving Floating Jump Shot-Center(C)   [-0.0646000710999]\n",
       "10     at_sza_Driving Floating Jump Shot-Right Side(R)    [-0.331825922509]\n",
       "11                  at_sza_Driving Hook Shot-Center(C)    [-0.112938254965]\n",
       "12                  at_sza_Driving Jump shot-Center(C)   [-0.0481143753994]\n",
       "13               at_sza_Driving Jump shot-Left Side(L)  [-0.00189682114857]\n",
       "14              at_sza_Driving Jump shot-Right Side(R)    [-0.642302527103]\n",
       "15                 at_sza_Driving Layup Shot-Center(C)   [-0.0582640208341]\n",
       "16         at_sza_Driving Reverse Layup Shot-Center(C)     [0.103252415569]\n",
       "17             at_sza_Driving Slam Dunk Shot-Center(C)      [0.74211772982]\n",
       "18                          at_sza_Dunk Shot-Center(C)     [0.141500176278]\n",
       "19                       at_sza_Dunk Shot-Left Side(L)     [0.189826782984]\n",
       "20                 at_sza_Fadeaway Bank shot-Center(C)    [0.0840712878729]\n",
       "21              at_sza_Fadeaway Bank shot-Left Side(L)     [0.141928413368]\n",
       "22             at_sza_Fadeaway Bank shot-Right Side(R)     [0.531405216085]\n",
       "23                 at_sza_Fadeaway Jump Shot-Center(C)       [0.1320788323]\n",
       "24      at_sza_Fadeaway Jump Shot-Left Side Center(LC)    [-0.191154354541]\n",
       "25              at_sza_Fadeaway Jump Shot-Left Side(L)    [-0.450069796586]\n",
       "26     at_sza_Fadeaway Jump Shot-Right Side Center(RC)     [0.169042155357]\n",
       "27             at_sza_Fadeaway Jump Shot-Right Side(R)     [-0.32931682505]\n",
       "28             at_sza_Finger Roll Layup Shot-Center(C)     [0.224902742277]\n",
       "29                   at_sza_Finger Roll Shot-Center(C)    [-0.402561629448]\n",
       "..                                                 ...                  ...\n",
       "841                       at_sd_Turnaround Hook Shot-5     [0.246759413671]\n",
       "842                       at_sd_Turnaround Hook Shot-6   [-0.0690055132904]\n",
       "843                       at_sd_Turnaround Hook Shot-8    [-0.290119076719]\n",
       "844                       at_sd_Turnaround Hook Shot-9   [-0.0331031268205]\n",
       "845                      at_sd_Turnaround Jump Shot-10     [-0.35868447389]\n",
       "846                      at_sd_Turnaround Jump Shot-11   [-0.0978199497543]\n",
       "847                      at_sd_Turnaround Jump Shot-12    [-0.123043038055]\n",
       "848                      at_sd_Turnaround Jump Shot-13   [-0.0799762171736]\n",
       "849                      at_sd_Turnaround Jump Shot-14     [0.213416025278]\n",
       "850                      at_sd_Turnaround Jump Shot-15    [-0.442778558951]\n",
       "851                      at_sd_Turnaround Jump Shot-16    [-0.411028209604]\n",
       "852                      at_sd_Turnaround Jump Shot-17    [-0.165804001739]\n",
       "853                      at_sd_Turnaround Jump Shot-18    [-0.375815017186]\n",
       "854                      at_sd_Turnaround Jump Shot-19   [-0.0977074624009]\n",
       "855                       at_sd_Turnaround Jump Shot-2                [0.0]\n",
       "856                      at_sd_Turnaround Jump Shot-20     [0.297778138878]\n",
       "857                      at_sd_Turnaround Jump Shot-21     [0.948858058317]\n",
       "858                      at_sd_Turnaround Jump Shot-22     [0.264381578832]\n",
       "859                      at_sd_Turnaround Jump Shot-23    [-0.248686045869]\n",
       "860                      at_sd_Turnaround Jump Shot-24     [0.824664561966]\n",
       "861                      at_sd_Turnaround Jump Shot-25    [-0.643307476344]\n",
       "862                      at_sd_Turnaround Jump Shot-26     [-0.14996992414]\n",
       "863                      at_sd_Turnaround Jump Shot-27   [-0.0760970676644]\n",
       "864                       at_sd_Turnaround Jump Shot-3     [0.354555109518]\n",
       "865                       at_sd_Turnaround Jump Shot-4     [0.247518607211]\n",
       "866                       at_sd_Turnaround Jump Shot-5    [-0.130312019724]\n",
       "867                       at_sd_Turnaround Jump Shot-6    [-0.273234124837]\n",
       "868                       at_sd_Turnaround Jump Shot-7    [-0.273234124837]\n",
       "869                       at_sd_Turnaround Jump Shot-8     [0.513909997587]\n",
       "870                       at_sd_Turnaround Jump Shot-9     [0.293121630703]\n",
       "\n",
       "[871 rows x 2 columns]"
      ]
     },
     "execution_count": 217,
     "metadata": {},
     "output_type": "execute_result"
    }
   ],
   "source": [
    "pd.DataFrame(zip(X.columns, np.transpose(model.coef_)))"
   ]
  },
  {
   "cell_type": "code",
   "execution_count": 218,
   "metadata": {
    "collapsed": false
   },
   "outputs": [
    {
     "data": {
      "text/plain": [
       "LogisticRegression(C=1.0, class_weight=None, dual=False, fit_intercept=True,\n",
       "          intercept_scaling=1, max_iter=100, multi_class='ovr', n_jobs=1,\n",
       "          penalty='l2', random_state=None, solver='liblinear', tol=0.0001,\n",
       "          verbose=0, warm_start=False)"
      ]
     },
     "execution_count": 218,
     "metadata": {},
     "output_type": "execute_result"
    }
   ],
   "source": [
    "X_train, X_test, y_train, y_test = train_test_split(X, y, test_size=0.3, random_state=0)\n",
    "model2 = LogisticRegression()\n",
    "model2.fit(X_train, y_train)"
   ]
  },
  {
   "cell_type": "code",
   "execution_count": 219,
   "metadata": {
    "collapsed": false
   },
   "outputs": [
    {
     "name": "stdout",
     "output_type": "stream",
     "text": [
      "[ 0.  0.  0. ...,  0.  0.  1.]\n"
     ]
    }
   ],
   "source": [
    "predicted = model2.predict(X_test)\n",
    "print predicted"
   ]
  },
  {
   "cell_type": "code",
   "execution_count": 220,
   "metadata": {
    "collapsed": false
   },
   "outputs": [
    {
     "name": "stdout",
     "output_type": "stream",
     "text": [
      "[[ 0.65403969  0.34596031]\n",
      " [ 0.67550001  0.32449999]\n",
      " [ 0.73605493  0.26394507]\n",
      " ..., \n",
      " [ 0.67498036  0.32501964]\n",
      " [ 0.67803397  0.32196603]\n",
      " [ 0.41834019  0.58165981]]\n"
     ]
    }
   ],
   "source": [
    "probs = model2.predict_proba(X_test)\n",
    "print probs"
   ]
  },
  {
   "cell_type": "markdown",
   "metadata": {},
   "source": [
    "Something less accurate then the second model."
   ]
  },
  {
   "cell_type": "code",
   "execution_count": 221,
   "metadata": {
    "collapsed": false
   },
   "outputs": [
    {
     "name": "stdout",
     "output_type": "stream",
     "text": [
      "0.674967574578\n",
      "0.686875214197\n"
     ]
    }
   ],
   "source": [
    "print metrics.accuracy_score(y_test, predicted)\n",
    "print metrics.roc_auc_score(y_test, probs[:, 1])"
   ]
  },
  {
   "cell_type": "code",
   "execution_count": 222,
   "metadata": {
    "collapsed": false
   },
   "outputs": [
    {
     "name": "stdout",
     "output_type": "stream",
     "text": [
      "[[3723  581]\n",
      " [1925 1481]]\n",
      "             precision    recall  f1-score   support\n",
      "\n",
      "        0.0       0.66      0.87      0.75      4304\n",
      "        1.0       0.72      0.43      0.54      3406\n",
      "\n",
      "avg / total       0.69      0.67      0.66      7710\n",
      "\n"
     ]
    }
   ],
   "source": [
    "print metrics.confusion_matrix(y_test, predicted)\n",
    "print metrics.classification_report(y_test, predicted)"
   ]
  },
  {
   "cell_type": "code",
   "execution_count": 223,
   "metadata": {
    "collapsed": false
   },
   "outputs": [
    {
     "name": "stdout",
     "output_type": "stream",
     "text": [
      "[ 0.68650331  0.67989109  0.68365759  0.68677043  0.68599222  0.66757493\n",
      "  0.65784352  0.66718568  0.68703776  0.67068898]\n",
      "0.677314550057\n"
     ]
    }
   ],
   "source": [
    "scores = cross_val_score(LogisticRegression(), X, y, scoring='accuracy', cv=10)\n",
    "print scores\n",
    "print scores.mean()"
   ]
  },
  {
   "cell_type": "markdown",
   "metadata": {},
   "source": [
    "#### The second model was a little bit better than the third. Let's try to merge all the variables formerly present in the dataset to see if the model manages to be tighter."
   ]
  },
  {
   "cell_type": "code",
   "execution_count": 247,
   "metadata": {
    "collapsed": true
   },
   "outputs": [],
   "source": [
    "kobe_num = pd.DataFrame.from_csv(\"./data/kobe_num_variables.csv\", sep=\",\")"
   ]
  },
  {
   "cell_type": "code",
   "execution_count": 248,
   "metadata": {
    "collapsed": true
   },
   "outputs": [],
   "source": [
    "kobe_old_cat = pd.DataFrame.from_csv(\"./data/kobe_old_cat_variables.csv\", sep=\",\")"
   ]
  },
  {
   "cell_type": "code",
   "execution_count": 249,
   "metadata": {
    "collapsed": true
   },
   "outputs": [],
   "source": [
    "kobe_num = kobe_num[pd.notnull(kobe_num[\"shot_made_flag\"])]"
   ]
  },
  {
   "cell_type": "code",
   "execution_count": 250,
   "metadata": {
    "collapsed": false
   },
   "outputs": [],
   "source": [
    "kobe = pd.concat([kobe_num, kobe_old_cat], axis=1)"
   ]
  },
  {
   "cell_type": "code",
   "execution_count": 251,
   "metadata": {
    "collapsed": true
   },
   "outputs": [],
   "source": [
    "kobe_submission = kobe[pd.isnull(kobe[\"shot_made_flag\"])]"
   ]
  },
  {
   "cell_type": "code",
   "execution_count": 252,
   "metadata": {
    "collapsed": false
   },
   "outputs": [],
   "source": [
    "kobe = kobe[pd.notnull(kobe[\"shot_made_flag\"])]"
   ]
  },
  {
   "cell_type": "code",
   "execution_count": 253,
   "metadata": {
    "collapsed": false
   },
   "outputs": [],
   "source": [
    "y = np.ravel(kobe[\"shot_made_flag\"])"
   ]
  },
  {
   "cell_type": "code",
   "execution_count": 254,
   "metadata": {
    "collapsed": true
   },
   "outputs": [],
   "source": [
    "kobe = kobe.drop(\"shot_made_flag\", axis=1)"
   ]
  },
  {
   "cell_type": "code",
   "execution_count": 255,
   "metadata": {
    "collapsed": true
   },
   "outputs": [],
   "source": [
    "X = kobe"
   ]
  },
  {
   "cell_type": "code",
   "execution_count": 256,
   "metadata": {
    "collapsed": false
   },
   "outputs": [
    {
     "data": {
      "text/plain": [
       "0.55383896952951706"
      ]
     },
     "execution_count": 256,
     "metadata": {},
     "output_type": "execute_result"
    }
   ],
   "source": [
    "model = LogisticRegression()\n",
    "model = model.fit(X, y)\n",
    "model.score(X, y)"
   ]
  },
  {
   "cell_type": "code",
   "execution_count": 259,
   "metadata": {
    "collapsed": false
   },
   "outputs": [
    {
     "data": {
      "text/plain": [
       "LogisticRegression(C=1.0, class_weight=None, dual=False, fit_intercept=True,\n",
       "          intercept_scaling=1, max_iter=100, multi_class='ovr', n_jobs=1,\n",
       "          penalty='l2', random_state=None, solver='liblinear', tol=0.0001,\n",
       "          verbose=0, warm_start=False)"
      ]
     },
     "execution_count": 259,
     "metadata": {},
     "output_type": "execute_result"
    }
   ],
   "source": [
    "X_train, X_test, y_train, y_test = train_test_split(X, y, test_size=0.3, random_state=0)\n",
    "model2 = LogisticRegression()\n",
    "model2.fit(X_train, y_train)"
   ]
  },
  {
   "cell_type": "code",
   "execution_count": 260,
   "metadata": {
    "collapsed": false
   },
   "outputs": [
    {
     "name": "stdout",
     "output_type": "stream",
     "text": [
      "[ 0.  0.  0. ...,  0.  0.  0.]\n"
     ]
    }
   ],
   "source": [
    "predicted = model2.predict(X_test)\n",
    "print predicted"
   ]
  },
  {
   "cell_type": "code",
   "execution_count": 261,
   "metadata": {
    "collapsed": false
   },
   "outputs": [
    {
     "name": "stdout",
     "output_type": "stream",
     "text": [
      "[[ 0.59550493  0.40449507]\n",
      " [ 0.54087755  0.45912245]\n",
      " [ 0.57761485  0.42238515]\n",
      " ..., \n",
      " [ 0.54145566  0.45854434]\n",
      " [ 0.53952791  0.46047209]\n",
      " [ 0.5406845   0.4593155 ]]\n"
     ]
    }
   ],
   "source": [
    "probs = model2.predict_proba(X_test)\n",
    "print probs"
   ]
  },
  {
   "cell_type": "code",
   "execution_count": 262,
   "metadata": {
    "collapsed": false
   },
   "outputs": [
    {
     "name": "stdout",
     "output_type": "stream",
     "text": [
      "0.558236057069\n",
      "0.505855857638\n"
     ]
    }
   ],
   "source": [
    "print metrics.accuracy_score(y_test, predicted)\n",
    "print metrics.roc_auc_score(y_test, probs[:, 1])"
   ]
  },
  {
   "cell_type": "code",
   "execution_count": 263,
   "metadata": {
    "collapsed": false
   },
   "outputs": [
    {
     "name": "stdout",
     "output_type": "stream",
     "text": [
      "[[4304    0]\n",
      " [3406    0]]\n",
      "             precision    recall  f1-score   support\n",
      "\n",
      "        0.0       0.56      1.00      0.72      4304\n",
      "        1.0       0.00      0.00      0.00      3406\n",
      "\n",
      "avg / total       0.31      0.56      0.40      7710\n",
      "\n"
     ]
    }
   ],
   "source": [
    "print metrics.confusion_matrix(y_test, predicted)\n",
    "print metrics.classification_report(y_test, predicted)"
   ]
  },
  {
   "cell_type": "code",
   "execution_count": 264,
   "metadata": {
    "collapsed": false
   },
   "outputs": [
    {
     "name": "stdout",
     "output_type": "stream",
     "text": [
      "[ 0.55387009  0.55387009  0.5536965   0.5536965   0.5536965   0.55391203\n",
      "  0.55391203  0.55391203  0.55391203  0.55391203]\n",
      "0.553838981321\n"
     ]
    }
   ],
   "source": [
    "scores = cross_val_score(LogisticRegression(), X, y, scoring='accuracy', cv=10)\n",
    "print scores\n",
    "print scores.mean()"
   ]
  },
  {
   "cell_type": "markdown",
   "metadata": {},
   "source": [
    "Definitely not a good model. Now we save the submission dataset corresponding to the second dataset to recreate the model in the following script and predict the probability of made shot on submission dataset."
   ]
  },
  {
   "cell_type": "code",
   "execution_count": 19,
   "metadata": {
    "collapsed": true
   },
   "outputs": [],
   "source": [
    "kobe_old_cat_submission.to_csv(\"./data/kobe_model_submission.csv\", sep= \",\")"
   ]
  }
 ],
 "metadata": {
  "kernelspec": {
   "display_name": "Python 2",
   "language": "python",
   "name": "python2"
  },
  "language_info": {
   "codemirror_mode": {
    "name": "ipython",
    "version": 2
   },
   "file_extension": ".py",
   "mimetype": "text/x-python",
   "name": "python",
   "nbconvert_exporter": "python",
   "pygments_lexer": "ipython2",
   "version": "2.7.10"
  }
 },
 "nbformat": 4,
 "nbformat_minor": 0
}
