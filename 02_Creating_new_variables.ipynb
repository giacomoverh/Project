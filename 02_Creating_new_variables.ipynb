{
 "cells": [
  {
   "cell_type": "markdown",
   "metadata": {},
   "source": [
    "# Creating new variables"
   ]
  },
  {
   "cell_type": "code",
   "execution_count": 15,
   "metadata": {
    "collapsed": true
   },
   "outputs": [],
   "source": [
    "import numpy as np\n",
    "import pandas as pd\n",
    "from pandas import DataFrame, Series"
   ]
  },
  {
   "cell_type": "code",
   "execution_count": 16,
   "metadata": {
    "collapsed": true
   },
   "outputs": [],
   "source": [
    "kobe = pd.DataFrame.from_csv(\"./data/kobe_searching_for_new_variables.csv\", sep=\",\")"
   ]
  },
  {
   "cell_type": "markdown",
   "metadata": {},
   "source": [
    "## Creating variables crossing 'action_type' with shot zone and distance variables ('shot_zone_area', 'shot_zone_basic', 'shot_zone_range', and 'shot_distance')"
   ]
  },
  {
   "cell_type": "markdown",
   "metadata": {},
   "source": [
    "Analyzing the data on Tableau we have observed that these are the only variables that exhibit remarkable variations from the average shot accuracy. \n",
    "It is possible to find the charts of the accuracy percentage according to the crossing of these categories on Tableau book 'kobe_searching_new_variables.twb' in the directory 'visualization'."
   ]
  },
  {
   "cell_type": "code",
   "execution_count": 3,
   "metadata": {
    "collapsed": true
   },
   "outputs": [],
   "source": [
    "kobe[\"at_sza\"] = kobe[\"action_type\"] + \"-\" + kobe[\"shot_zone_area\"]"
   ]
  },
  {
   "cell_type": "code",
   "execution_count": 4,
   "metadata": {
    "collapsed": false
   },
   "outputs": [
    {
     "data": {
      "text/plain": [
       "array(['Jump Shot-Right Side(R)', 'Jump Shot-Left Side(L)',\n",
       "       'Jump Shot-Left Side Center(LC)', 'Jump Shot-Right Side Center(RC)',\n",
       "       'Driving Dunk Shot-Center(C)', 'Layup Shot-Center(C)',\n",
       "       'Jump Shot-Center(C)', 'Running Jump Shot-Center(C)',\n",
       "       'Running Jump Shot-Left Side(L)', 'Driving Layup Shot-Center(C)',\n",
       "       'Running Jump Shot-Left Side Center(LC)',\n",
       "       'Running Jump Shot-Right Side(R)', 'Reverse Layup Shot-Center(C)',\n",
       "       'Reverse Dunk Shot-Center(C)', 'Slam Dunk Shot-Center(C)',\n",
       "       'Turnaround Jump Shot-Left Side(L)',\n",
       "       'Turnaround Jump Shot-Right Side(R)', 'Tip Shot-Center(C)',\n",
       "       'Running Hook Shot-Center(C)', 'Alley Oop Dunk Shot-Center(C)',\n",
       "       'Running Jump Shot-Right Side Center(RC)', 'Dunk Shot-Center(C)',\n",
       "       'Jump Shot-Back Court(BC)', 'Turnaround Jump Shot-Center(C)',\n",
       "       'Alley Oop Layup shot-Center(C)', 'Running Dunk Shot-Center(C)',\n",
       "       'Driving Finger Roll Shot-Center(C)',\n",
       "       'Running Layup Shot-Center(C)',\n",
       "       'Turnaround Jump Shot-Left Side Center(LC)',\n",
       "       'Finger Roll Shot-Center(C)', 'Running Hook Shot-Right Side(R)',\n",
       "       'Fadeaway Jump Shot-Center(C)',\n",
       "       'Fadeaway Jump Shot-Right Side Center(RC)',\n",
       "       'Fadeaway Jump Shot-Right Side(R)', 'Follow Up Dunk Shot-Center(C)',\n",
       "       'Fadeaway Jump Shot-Left Side(L)',\n",
       "       'Turnaround Jump Shot-Right Side Center(RC)',\n",
       "       'Fadeaway Jump Shot-Left Side Center(LC)',\n",
       "       'Hook Shot-Right Side(R)', 'Turnaround Hook Shot-Left Side(L)',\n",
       "       'Hook Shot-Center(C)', 'Running Tip Shot-Center(C)',\n",
       "       'Hook Shot-Right Side Center(RC)', 'Jump Hook Shot-Center(C)',\n",
       "       'Running Finger Roll Shot-Right Side(R)',\n",
       "       'Running Finger Roll Shot-Center(C)', 'Jump Bank Shot-Center(C)',\n",
       "       'Jump Bank Shot-Left Side Center(LC)',\n",
       "       'Jump Bank Shot-Left Side(L)', 'Jump Bank Shot-Right Side(R)',\n",
       "       'Turnaround Finger Roll Shot-Center(C)', 'Hook Bank Shot-Center(C)',\n",
       "       'Jump Bank Shot-Right Side Center(RC)',\n",
       "       'Driving Hook Shot-Center(C)', 'Turnaround Hook Shot-Center(C)',\n",
       "       'Running Reverse Layup Shot-Center(C)',\n",
       "       'Driving Finger Roll Layup Shot-Center(C)',\n",
       "       'Fadeaway Bank shot-Center(C)', 'Pullup Jump shot-Right Side(R)',\n",
       "       'Finger Roll Layup Shot-Center(C)',\n",
       "       'Turnaround Fadeaway shot-Center(C)',\n",
       "       'Driving Reverse Layup Shot-Center(C)',\n",
       "       'Fadeaway Bank shot-Right Side(R)',\n",
       "       'Driving Slam Dunk Shot-Center(C)', 'Step Back Jump shot-Center(C)',\n",
       "       'Turnaround Fadeaway shot-Left Side Center(LC)',\n",
       "       'Fadeaway Bank shot-Left Side(L)',\n",
       "       'Reverse Slam Dunk Shot-Center(C)',\n",
       "       'Turnaround Bank shot-Left Side(L)',\n",
       "       'Turnaround Fadeaway shot-Right Side(R)',\n",
       "       'Pullup Jump shot-Left Side Center(LC)',\n",
       "       'Running Finger Roll Layup Shot-Center(C)',\n",
       "       'Floating Jump shot-Right Side(R)',\n",
       "       'Putback Slam Dunk Shot-Center(C)', 'Running Bank shot-Center(C)',\n",
       "       'Turnaround Bank shot-Right Side(R)',\n",
       "       'Step Back Jump shot-Right Side(R)',\n",
       "       'Pullup Jump shot-Right Side Center(RC)',\n",
       "       'Step Back Jump shot-Left Side Center(LC)',\n",
       "       'Turnaround Fadeaway shot-Left Side(L)',\n",
       "       'Driving Bank shot-Center(C)', 'Putback Layup Shot-Center(C)',\n",
       "       'Turnaround Bank shot-Center(C)', 'Pullup Jump shot-Center(C)',\n",
       "       'Driving Jump shot-Center(C)', 'Floating Jump shot-Center(C)',\n",
       "       'Pullup Jump shot-Left Side(L)',\n",
       "       'Turnaround Fadeaway shot-Right Side Center(RC)',\n",
       "       'Jump Hook Shot-Right Side(R)', 'Putback Dunk Shot-Center(C)',\n",
       "       'Pullup Bank shot-Right Side(R)',\n",
       "       'Step Back Jump shot-Right Side Center(RC)',\n",
       "       'Running Bank shot-Right Side(R)',\n",
       "       'Floating Jump shot-Left Side(L)', 'Running Bank shot-Left Side(L)',\n",
       "       'Step Back Jump shot-Left Side(L)',\n",
       "       'Running Hook Shot-Left Side(L)', 'Driving Jump shot-Right Side(R)',\n",
       "       'Hook Shot-Left Side(L)', 'Pullup Bank shot-Left Side(L)',\n",
       "       'Running Jump Shot-Back Court(BC)',\n",
       "       'Turnaround Bank shot-Left Side Center(LC)',\n",
       "       'Hook Bank Shot-Right Side(R)', 'Pullup Bank shot-Center(C)',\n",
       "       'Running Slam Dunk Shot-Center(C)',\n",
       "       'Pullup Bank shot-Left Side Center(LC)',\n",
       "       'Cutting Layup Shot-Center(C)',\n",
       "       'Driving Floating Jump Shot-Center(C)',\n",
       "       'Driving Floating Jump Shot-Right Side(R)',\n",
       "       'Running Pull-Up Jump Shot-Right Side Center(RC)',\n",
       "       'Tip Layup Shot-Center(C)',\n",
       "       'Driving Floating Bank Jump Shot-Left Side(L)',\n",
       "       'Running Pull-Up Jump Shot-Left Side Center(LC)',\n",
       "       'Turnaround Fadeaway Bank Jump Shot-Right Side(R)',\n",
       "       'Cutting Finger Roll Layup Shot-Center(C)',\n",
       "       'Layup Shot-Left Side(L)', 'Layup Shot-Right Side Center(RC)',\n",
       "       'Layup Shot-Right Side(R)', 'Dunk Shot-Left Side(L)',\n",
       "       'Finger Roll Shot-Right Side(R)', 'Driving Jump shot-Left Side(L)',\n",
       "       'Floating Jump shot-Left Side Center(LC)'], dtype=object)"
      ]
     },
     "execution_count": 4,
     "metadata": {},
     "output_type": "execute_result"
    }
   ],
   "source": [
    "kobe[\"at_sza\"].unique()"
   ]
  },
  {
   "cell_type": "code",
   "execution_count": 5,
   "metadata": {
    "collapsed": false
   },
   "outputs": [
    {
     "data": {
      "text/plain": [
       "122"
      ]
     },
     "execution_count": 5,
     "metadata": {},
     "output_type": "execute_result"
    }
   ],
   "source": [
    "len(kobe[\"at_sza\"].unique())"
   ]
  },
  {
   "cell_type": "code",
   "execution_count": 6,
   "metadata": {
    "collapsed": true
   },
   "outputs": [],
   "source": [
    "kobe[\"at_szb\"] = kobe[\"action_type\"] + \"-\" + kobe[\"shot_zone_basic\"]"
   ]
  },
  {
   "cell_type": "code",
   "execution_count": 7,
   "metadata": {
    "collapsed": false
   },
   "outputs": [
    {
     "data": {
      "text/plain": [
       "array(['Jump Shot-Mid-Range', 'Driving Dunk Shot-Restricted Area',\n",
       "       'Layup Shot-Restricted Area', 'Jump Shot-Restricted Area',\n",
       "       'Jump Shot-In The Paint (Non-RA)',\n",
       "       'Running Jump Shot-In The Paint (Non-RA)',\n",
       "       'Jump Shot-Above the Break 3', 'Driving Layup Shot-Restricted Area',\n",
       "       'Running Jump Shot-Mid-Range', 'Reverse Layup Shot-Restricted Area',\n",
       "       'Reverse Dunk Shot-Restricted Area',\n",
       "       'Slam Dunk Shot-Restricted Area',\n",
       "       'Layup Shot-In The Paint (Non-RA)',\n",
       "       'Driving Layup Shot-In The Paint (Non-RA)',\n",
       "       'Jump Shot-Right Corner 3', 'Turnaround Jump Shot-Mid-Range',\n",
       "       'Tip Shot-Restricted Area', 'Running Hook Shot-Restricted Area',\n",
       "       'Alley Oop Dunk Shot-Restricted Area', 'Dunk Shot-Restricted Area',\n",
       "       'Jump Shot-Backcourt', 'Jump Shot-Left Corner 3',\n",
       "       'Turnaround Jump Shot-In The Paint (Non-RA)',\n",
       "       'Alley Oop Layup shot-In The Paint (Non-RA)',\n",
       "       'Running Dunk Shot-Restricted Area',\n",
       "       'Running Jump Shot-Restricted Area',\n",
       "       'Alley Oop Layup shot-Restricted Area',\n",
       "       'Driving Finger Roll Shot-Restricted Area',\n",
       "       'Running Layup Shot-Restricted Area',\n",
       "       'Finger Roll Shot-Restricted Area', 'Running Hook Shot-Mid-Range',\n",
       "       'Fadeaway Jump Shot-In The Paint (Non-RA)',\n",
       "       'Fadeaway Jump Shot-Mid-Range',\n",
       "       'Follow Up Dunk Shot-Restricted Area',\n",
       "       'Driving Finger Roll Shot-In The Paint (Non-RA)',\n",
       "       'Alley Oop Dunk Shot-In The Paint (Non-RA)', 'Hook Shot-Mid-Range',\n",
       "       'Running Hook Shot-In The Paint (Non-RA)',\n",
       "       'Turnaround Hook Shot-Mid-Range',\n",
       "       'Turnaround Jump Shot-Above the Break 3',\n",
       "       'Finger Roll Shot-In The Paint (Non-RA)',\n",
       "       'Hook Shot-Restricted Area',\n",
       "       'Reverse Layup Shot-In The Paint (Non-RA)',\n",
       "       'Running Tip Shot-Restricted Area',\n",
       "       'Turnaround Jump Shot-Restricted Area',\n",
       "       'Running Jump Shot-Above the Break 3',\n",
       "       'Jump Hook Shot-In The Paint (Non-RA)',\n",
       "       'Running Finger Roll Shot-In The Paint (Non-RA)',\n",
       "       'Jump Hook Shot-Restricted Area',\n",
       "       'Running Finger Roll Shot-Restricted Area',\n",
       "       'Jump Bank Shot-In The Paint (Non-RA)',\n",
       "       'Hook Shot-In The Paint (Non-RA)', 'Jump Bank Shot-Mid-Range',\n",
       "       'Turnaround Finger Roll Shot-Restricted Area',\n",
       "       'Running Layup Shot-In The Paint (Non-RA)',\n",
       "       'Hook Bank Shot-In The Paint (Non-RA)',\n",
       "       'Jump Bank Shot-Restricted Area',\n",
       "       'Driving Hook Shot-Restricted Area',\n",
       "       'Turnaround Jump Shot-Left Corner 3',\n",
       "       'Turnaround Hook Shot-In The Paint (Non-RA)',\n",
       "       'Fadeaway Jump Shot-Above the Break 3',\n",
       "       'Driving Hook Shot-In The Paint (Non-RA)',\n",
       "       'Running Jump Shot-Left Corner 3',\n",
       "       'Turnaround Jump Shot-Right Corner 3',\n",
       "       'Running Reverse Layup Shot-Restricted Area',\n",
       "       'Driving Finger Roll Layup Shot-Restricted Area',\n",
       "       'Fadeaway Bank shot-In The Paint (Non-RA)',\n",
       "       'Pullup Jump shot-Mid-Range',\n",
       "       'Finger Roll Layup Shot-Restricted Area',\n",
       "       'Turnaround Fadeaway shot-In The Paint (Non-RA)',\n",
       "       'Driving Reverse Layup Shot-Restricted Area',\n",
       "       'Fadeaway Bank shot-Mid-Range',\n",
       "       'Driving Slam Dunk Shot-Restricted Area',\n",
       "       'Step Back Jump shot-In The Paint (Non-RA)',\n",
       "       'Turnaround Fadeaway shot-Mid-Range',\n",
       "       'Reverse Slam Dunk Shot-Restricted Area',\n",
       "       'Turnaround Bank shot-Mid-Range',\n",
       "       'Running Finger Roll Layup Shot-Restricted Area',\n",
       "       'Floating Jump shot-Mid-Range',\n",
       "       'Putback Slam Dunk Shot-Restricted Area',\n",
       "       'Running Bank shot-In The Paint (Non-RA)',\n",
       "       'Pullup Jump shot-In The Paint (Non-RA)',\n",
       "       'Step Back Jump shot-Mid-Range',\n",
       "       'Step Back Jump shot-Above the Break 3',\n",
       "       'Turnaround Fadeaway shot-Right Corner 3',\n",
       "       'Turnaround Fadeaway shot-Above the Break 3',\n",
       "       'Driving Bank shot-In The Paint (Non-RA)',\n",
       "       'Putback Layup Shot-Restricted Area', 'Running Bank shot-Mid-Range',\n",
       "       'Turnaround Bank shot-In The Paint (Non-RA)',\n",
       "       'Driving Jump shot-Restricted Area',\n",
       "       'Floating Jump shot-In The Paint (Non-RA)',\n",
       "       'Pullup Jump shot-Above the Break 3', 'Jump Hook Shot-Mid-Range',\n",
       "       'Putback Dunk Shot-Restricted Area',\n",
       "       'Driving Jump shot-In The Paint (Non-RA)',\n",
       "       'Pullup Bank shot-Mid-Range',\n",
       "       'Turnaround Bank shot-Restricted Area',\n",
       "       'Driving Jump shot-Mid-Range',\n",
       "       'Finger Roll Layup Shot-In The Paint (Non-RA)',\n",
       "       'Jump Bank Shot-Above the Break 3',\n",
       "       'Running Bank shot-Restricted Area',\n",
       "       'Fadeaway Jump Shot-Right Corner 3',\n",
       "       'Floating Jump shot-Restricted Area',\n",
       "       'Step Back Jump shot-Right Corner 3',\n",
       "       'Pullup Bank shot-In The Paint (Non-RA)',\n",
       "       'Pullup Jump shot-Right Corner 3',\n",
       "       'Driving Finger Roll Layup Shot-In The Paint (Non-RA)',\n",
       "       'Driving Bank shot-Restricted Area',\n",
       "       'Fadeaway Jump Shot-Left Corner 3',\n",
       "       'Pullup Jump shot-Restricted Area',\n",
       "       'Putback Layup Shot-In The Paint (Non-RA)',\n",
       "       'Turnaround Fadeaway shot-Restricted Area',\n",
       "       'Slam Dunk Shot-In The Paint (Non-RA)',\n",
       "       'Running Slam Dunk Shot-Restricted Area',\n",
       "       'Driving Dunk Shot-In The Paint (Non-RA)',\n",
       "       'Pullup Bank shot-Above the Break 3',\n",
       "       'Cutting Layup Shot-Restricted Area',\n",
       "       'Driving Floating Jump Shot-In The Paint (Non-RA)',\n",
       "       'Driving Floating Jump Shot-Mid-Range',\n",
       "       'Running Pull-Up Jump Shot-Above the Break 3',\n",
       "       'Tip Layup Shot-Restricted Area',\n",
       "       'Step Back Jump shot-Left Corner 3',\n",
       "       'Driving Floating Bank Jump Shot-Mid-Range',\n",
       "       'Turnaround Fadeaway Bank Jump Shot-Mid-Range',\n",
       "       'Cutting Finger Roll Layup Shot-Restricted Area',\n",
       "       'Turnaround Hook Shot-Restricted Area', 'Layup Shot-Mid-Range',\n",
       "       'Dunk Shot-Mid-Range', 'Running Jump Shot-Backcourt'], dtype=object)"
      ]
     },
     "execution_count": 7,
     "metadata": {},
     "output_type": "execute_result"
    }
   ],
   "source": [
    "kobe[\"at_szb\"].unique()"
   ]
  },
  {
   "cell_type": "code",
   "execution_count": 8,
   "metadata": {
    "collapsed": false
   },
   "outputs": [
    {
     "data": {
      "text/plain": [
       "130"
      ]
     },
     "execution_count": 8,
     "metadata": {},
     "output_type": "execute_result"
    }
   ],
   "source": [
    "len(kobe[\"at_szb\"].unique())"
   ]
  },
  {
   "cell_type": "code",
   "execution_count": 9,
   "metadata": {
    "collapsed": true
   },
   "outputs": [],
   "source": [
    "kobe[\"at_szr\"] = kobe[\"action_type\"] + \"-\" + kobe[\"shot_zone_range\"]"
   ]
  },
  {
   "cell_type": "code",
   "execution_count": 10,
   "metadata": {
    "collapsed": false
   },
   "outputs": [
    {
     "data": {
      "text/plain": [
       "array(['Jump Shot-16-24 ft.', 'Jump Shot-8-16 ft.',\n",
       "       'Driving Dunk Shot-Less Than 8 ft.', 'Layup Shot-Less Than 8 ft.',\n",
       "       'Jump Shot-Less Than 8 ft.', 'Running Jump Shot-8-16 ft.',\n",
       "       'Jump Shot-24+ ft.', 'Driving Layup Shot-Less Than 8 ft.',\n",
       "       'Running Jump Shot-16-24 ft.', 'Running Jump Shot-Less Than 8 ft.',\n",
       "       'Reverse Layup Shot-Less Than 8 ft.',\n",
       "       'Reverse Dunk Shot-Less Than 8 ft.',\n",
       "       'Slam Dunk Shot-Less Than 8 ft.', 'Turnaround Jump Shot-8-16 ft.',\n",
       "       'Turnaround Jump Shot-16-24 ft.', 'Tip Shot-Less Than 8 ft.',\n",
       "       'Running Hook Shot-Less Than 8 ft.',\n",
       "       'Alley Oop Dunk Shot-Less Than 8 ft.', 'Dunk Shot-Less Than 8 ft.',\n",
       "       'Jump Shot-Back Court Shot', 'Alley Oop Layup shot-Less Than 8 ft.',\n",
       "       'Running Dunk Shot-Less Than 8 ft.',\n",
       "       'Driving Finger Roll Shot-Less Than 8 ft.',\n",
       "       'Turnaround Jump Shot-Less Than 8 ft.',\n",
       "       'Running Layup Shot-Less Than 8 ft.',\n",
       "       'Finger Roll Shot-Less Than 8 ft.', 'Running Hook Shot-8-16 ft.',\n",
       "       'Fadeaway Jump Shot-Less Than 8 ft.',\n",
       "       'Fadeaway Jump Shot-16-24 ft.',\n",
       "       'Follow Up Dunk Shot-Less Than 8 ft.',\n",
       "       'Fadeaway Jump Shot-8-16 ft.', 'Hook Shot-8-16 ft.',\n",
       "       'Turnaround Hook Shot-8-16 ft.', 'Turnaround Jump Shot-24+ ft.',\n",
       "       'Hook Shot-Less Than 8 ft.', 'Running Tip Shot-Less Than 8 ft.',\n",
       "       'Layup Shot-8-16 ft.', 'Running Jump Shot-24+ ft.',\n",
       "       'Hook Shot-16-24 ft.', 'Jump Hook Shot-Less Than 8 ft.',\n",
       "       'Running Finger Roll Shot-8-16 ft.',\n",
       "       'Running Finger Roll Shot-Less Than 8 ft.',\n",
       "       'Jump Bank Shot-Less Than 8 ft.', 'Jump Bank Shot-16-24 ft.',\n",
       "       'Jump Bank Shot-8-16 ft.',\n",
       "       'Turnaround Finger Roll Shot-Less Than 8 ft.',\n",
       "       'Hook Bank Shot-Less Than 8 ft.',\n",
       "       'Driving Hook Shot-Less Than 8 ft.',\n",
       "       'Turnaround Hook Shot-Less Than 8 ft.',\n",
       "       'Fadeaway Jump Shot-24+ ft.',\n",
       "       'Running Reverse Layup Shot-Less Than 8 ft.',\n",
       "       'Driving Finger Roll Layup Shot-Less Than 8 ft.',\n",
       "       'Fadeaway Bank shot-Less Than 8 ft.', 'Pullup Jump shot-8-16 ft.',\n",
       "       'Finger Roll Layup Shot-Less Than 8 ft.',\n",
       "       'Turnaround Fadeaway shot-8-16 ft.',\n",
       "       'Driving Reverse Layup Shot-Less Than 8 ft.',\n",
       "       'Fadeaway Bank shot-8-16 ft.',\n",
       "       'Driving Slam Dunk Shot-Less Than 8 ft.',\n",
       "       'Step Back Jump shot-8-16 ft.',\n",
       "       'Turnaround Fadeaway shot-16-24 ft.',\n",
       "       'Reverse Slam Dunk Shot-Less Than 8 ft.',\n",
       "       'Turnaround Bank shot-16-24 ft.', 'Turnaround Bank shot-8-16 ft.',\n",
       "       'Pullup Jump shot-16-24 ft.',\n",
       "       'Running Finger Roll Layup Shot-Less Than 8 ft.',\n",
       "       'Floating Jump shot-8-16 ft.',\n",
       "       'Putback Slam Dunk Shot-Less Than 8 ft.',\n",
       "       'Running Bank shot-Less Than 8 ft.',\n",
       "       'Step Back Jump shot-16-24 ft.', 'Step Back Jump shot-24+ ft.',\n",
       "       'Turnaround Fadeaway shot-24+ ft.',\n",
       "       'Driving Bank shot-Less Than 8 ft.',\n",
       "       'Putback Layup Shot-Less Than 8 ft.', 'Running Bank shot-16-24 ft.',\n",
       "       'Turnaround Bank shot-Less Than 8 ft.',\n",
       "       'Driving Jump shot-Less Than 8 ft.',\n",
       "       'Floating Jump shot-Less Than 8 ft.', 'Pullup Jump shot-24+ ft.',\n",
       "       'Turnaround Fadeaway shot-Less Than 8 ft.',\n",
       "       'Jump Hook Shot-8-16 ft.', 'Putback Dunk Shot-Less Than 8 ft.',\n",
       "       'Driving Jump shot-8-16 ft.', 'Pullup Bank shot-8-16 ft.',\n",
       "       'Running Bank shot-8-16 ft.', 'Step Back Jump shot-Less Than 8 ft.',\n",
       "       'Jump Bank Shot-24+ ft.', 'Running Jump Shot-Back Court Shot',\n",
       "       'Pullup Jump shot-Less Than 8 ft.', 'Hook Bank Shot-8-16 ft.',\n",
       "       'Pullup Bank shot-Less Than 8 ft.', 'Floating Jump shot-16-24 ft.',\n",
       "       'Running Slam Dunk Shot-Less Than 8 ft.',\n",
       "       'Pullup Bank shot-24+ ft.', 'Cutting Layup Shot-Less Than 8 ft.',\n",
       "       'Driving Floating Jump Shot-Less Than 8 ft.',\n",
       "       'Driving Floating Jump Shot-8-16 ft.',\n",
       "       'Running Pull-Up Jump Shot-24+ ft.',\n",
       "       'Tip Layup Shot-Less Than 8 ft.',\n",
       "       'Driving Floating Bank Jump Shot-8-16 ft.',\n",
       "       'Turnaround Fadeaway Bank Jump Shot-8-16 ft.',\n",
       "       'Cutting Finger Roll Layup Shot-Less Than 8 ft.',\n",
       "       'Layup Shot-16-24 ft.', 'Dunk Shot-8-16 ft.',\n",
       "       'Finger Roll Shot-8-16 ft.'], dtype=object)"
      ]
     },
     "execution_count": 10,
     "metadata": {},
     "output_type": "execute_result"
    }
   ],
   "source": [
    "kobe[\"at_szr\"].unique()"
   ]
  },
  {
   "cell_type": "code",
   "execution_count": 11,
   "metadata": {
    "collapsed": false
   },
   "outputs": [
    {
     "data": {
      "text/plain": [
       "105"
      ]
     },
     "execution_count": 11,
     "metadata": {},
     "output_type": "execute_result"
    }
   ],
   "source": [
    "len(kobe[\"at_szr\"].unique())"
   ]
  },
  {
   "cell_type": "code",
   "execution_count": 12,
   "metadata": {
    "collapsed": true
   },
   "outputs": [],
   "source": [
    "kobe[\"at_sd\"] = kobe[\"action_type\"] + \"-\" + kobe[\"shot_distance\"].astype(str)"
   ]
  },
  {
   "cell_type": "code",
   "execution_count": 13,
   "metadata": {
    "collapsed": false
   },
   "outputs": [
    {
     "data": {
      "text/plain": [
       "array(['Jump Shot-18', 'Jump Shot-15', 'Jump Shot-16', 'Jump Shot-22',\n",
       "       'Driving Dunk Shot-0', 'Jump Shot-14', 'Layup Shot-0',\n",
       "       'Jump Shot-2', 'Jump Shot-12', 'Running Jump Shot-12',\n",
       "       'Jump Shot-25', 'Jump Shot-17', 'Jump Shot-9', 'Jump Shot-5',\n",
       "       'Jump Shot-20', 'Driving Layup Shot-0', 'Running Jump Shot-11',\n",
       "       'Running Jump Shot-18', 'Running Jump Shot-7', 'Jump Shot-26',\n",
       "       'Jump Shot-19', 'Jump Shot-8', 'Jump Shot-13', 'Layup Shot-1',\n",
       "       'Reverse Layup Shot-0', 'Jump Shot-27', 'Layup Shot-2',\n",
       "       'Reverse Dunk Shot-0', 'Slam Dunk Shot-0', 'Jump Shot-7',\n",
       "       'Jump Shot-28', 'Jump Shot-24', 'Jump Shot-11', 'Layup Shot-5',\n",
       "       'Driving Layup Shot-5', 'Jump Shot-23', 'Turnaround Jump Shot-13',\n",
       "       'Turnaround Jump Shot-14', 'Jump Shot-4', 'Turnaround Jump Shot-16',\n",
       "       'Jump Shot-21', 'Tip Shot-0', 'Running Hook Shot-0',\n",
       "       'Running Jump Shot-16', 'Running Jump Shot-5',\n",
       "       'Alley Oop Dunk Shot-0', 'Running Jump Shot-20', 'Dunk Shot-0',\n",
       "       'Jump Shot-47', 'Jump Shot-10', 'Jump Shot-29',\n",
       "       'Running Jump Shot-8', 'Running Jump Shot-10',\n",
       "       'Running Jump Shot-14', 'Turnaround Jump Shot-9',\n",
       "       'Alley Oop Layup shot-5', 'Turnaround Jump Shot-15',\n",
       "       'Running Dunk Shot-0', 'Jump Shot-42', 'Running Jump Shot-3',\n",
       "       'Jump Shot-48', 'Layup Shot-3', 'Jump Shot-3',\n",
       "       'Running Jump Shot-19', 'Running Jump Shot-15',\n",
       "       'Running Jump Shot-9', 'Jump Shot-30', 'Running Jump Shot-17',\n",
       "       'Jump Shot-45', 'Driving Layup Shot-2', 'Running Jump Shot-6',\n",
       "       'Jump Shot-6', 'Turnaround Jump Shot-18', 'Turnaround Jump Shot-8',\n",
       "       'Jump Shot-33', 'Jump Shot-36', 'Running Jump Shot-4',\n",
       "       'Alley Oop Layup shot-0', 'Turnaround Jump Shot-17',\n",
       "       'Driving Finger Roll Shot-0', 'Jump Shot-62',\n",
       "       'Turnaround Jump Shot-7', 'Turnaround Jump Shot-10',\n",
       "       'Turnaround Jump Shot-19', 'Turnaround Jump Shot-12',\n",
       "       'Running Jump Shot-13', 'Running Layup Shot-0',\n",
       "       'Turnaround Jump Shot-6', 'Turnaround Jump Shot-11',\n",
       "       'Finger Roll Shot-0', 'Jump Shot-31', 'Turnaround Jump Shot-5',\n",
       "       'Jump Shot-70', 'Driving Layup Shot-3', 'Driving Dunk Shot-2',\n",
       "       'Jump Shot-43', 'Jump Shot-38', 'Slam Dunk Shot-1',\n",
       "       'Reverse Layup Shot-1', 'Running Hook Shot-9',\n",
       "       'Driving Dunk Shot-1', 'Running Jump Shot-0',\n",
       "       'Fadeaway Jump Shot-6', 'Fadeaway Jump Shot-17', 'Jump Shot-60',\n",
       "       'Driving Layup Shot-4', 'Alley Oop Dunk Shot-2',\n",
       "       'Follow Up Dunk Shot-0', 'Fadeaway Jump Shot-11', 'Jump Shot-0',\n",
       "       'Layup Shot-4', 'Fadeaway Jump Shot-14', 'Turnaround Jump Shot-4',\n",
       "       'Fadeaway Jump Shot-10', 'Jump Shot-37', 'Fadeaway Jump Shot-8',\n",
       "       'Fadeaway Jump Shot-12', 'Fadeaway Jump Shot-16', 'Jump Shot-40',\n",
       "       'Driving Finger Roll Shot-5', 'Fadeaway Jump Shot-15',\n",
       "       'Fadeaway Jump Shot-7', 'Fadeaway Jump Shot-5',\n",
       "       'Fadeaway Jump Shot-19', 'Alley Oop Dunk Shot-4', 'Dunk Shot-1',\n",
       "       'Fadeaway Jump Shot-13', 'Hook Shot-8', 'Alley Oop Dunk Shot-1',\n",
       "       'Running Hook Shot-6', 'Jump Shot-32', 'Fadeaway Jump Shot-18',\n",
       "       'Fadeaway Jump Shot-9', 'Jump Shot-56', 'Running Hook Shot-7',\n",
       "       'Running Hook Shot-10', 'Finger Roll Shot-3', 'Finger Roll Shot-2',\n",
       "       'Driving Layup Shot-1', 'Running Hook Shot-8',\n",
       "       'Turnaround Hook Shot-13', 'Jump Shot-35', 'Running Hook Shot-5',\n",
       "       'Turnaround Jump Shot-26', 'Finger Roll Shot-4', 'Tip Shot-1',\n",
       "       'Jump Shot-55', 'Running Layup Shot-1', 'Hook Shot-1',\n",
       "       'Driving Finger Roll Shot-3', 'Fadeaway Jump Shot-21',\n",
       "       'Reverse Layup Shot-4', 'Jump Shot-51', 'Jump Shot-68',\n",
       "       'Jump Shot-39', 'Running Tip Shot-0', 'Jump Shot-41',\n",
       "       'Turnaround Jump Shot-20', 'Layup Shot-8', 'Running Layup Shot-3',\n",
       "       'Reverse Layup Shot-2', 'Follow Up Dunk Shot-2',\n",
       "       'Turnaround Jump Shot-3', 'Running Jump Shot-26', 'Jump Shot-64',\n",
       "       'Hook Shot-20', 'Jump Hook Shot-6', 'Driving Finger Roll Shot-4',\n",
       "       'Dunk Shot-2', 'Running Finger Roll Shot-8', 'Hook Shot-2',\n",
       "       'Running Finger Roll Shot-4', 'Running Hook Shot-4',\n",
       "       'Jump Hook Shot-0', 'Reverse Layup Shot-3',\n",
       "       'Alley Oop Layup shot-2', 'Slam Dunk Shot-2',\n",
       "       'Running Finger Roll Shot-0', 'Jump Shot-50', 'Jump Bank Shot-7',\n",
       "       'Hook Shot-7', 'Tip Shot-2', 'Driving Finger Roll Shot-6',\n",
       "       'Hook Shot-3', 'Jump Shot-49', 'Dunk Shot-3',\n",
       "       'Fadeaway Jump Shot-4', 'Fadeaway Jump Shot-20',\n",
       "       'Jump Bank Shot-17', 'Jump Bank Shot-9', 'Jump Bank Shot-18',\n",
       "       'Jump Bank Shot-16', 'Jump Bank Shot-11', 'Jump Bank Shot-12',\n",
       "       'Jump Bank Shot-13', 'Jump Bank Shot-5',\n",
       "       'Turnaround Finger Roll Shot-0', 'Jump Bank Shot-15',\n",
       "       'Jump Hook Shot-5', 'Hook Shot-6', 'Jump Bank Shot-8',\n",
       "       'Jump Bank Shot-6', 'Jump Bank Shot-10', 'Hook Shot-4',\n",
       "       'Running Layup Shot-6', 'Jump Shot-59', 'Hook Shot-5',\n",
       "       'Jump Bank Shot-14', 'Jump Shot-54', 'Turnaround Jump Shot-27',\n",
       "       'Hook Bank Shot-4', 'Jump Bank Shot-20', 'Hook Shot-12',\n",
       "       'Jump Shot-74', 'Hook Bank Shot-7', 'Jump Bank Shot-3',\n",
       "       'Reverse Dunk Shot-1', 'Jump Bank Shot-21', 'Finger Roll Shot-5',\n",
       "       'Jump Bank Shot-19', 'Driving Hook Shot-0', 'Running Layup Shot-2',\n",
       "       'Turnaround Jump Shot-24', 'Turnaround Hook Shot-5',\n",
       "       'Jump Bank Shot-22', 'Fadeaway Jump Shot-22',\n",
       "       'Running Jump Shot-21', 'Fadeaway Jump Shot-28', 'Hook Bank Shot-5',\n",
       "       'Running Jump Shot-24', 'Turnaround Jump Shot-21', 'Jump Shot-44',\n",
       "       'Jump Shot-61', 'Driving Hook Shot-7',\n",
       "       'Turnaround Finger Roll Shot-3', 'Fadeaway Jump Shot-24',\n",
       "       'Turnaround Jump Shot-22', 'Turnaround Jump Shot-25',\n",
       "       'Jump Shot-65', 'Running Jump Shot-27', 'Running Jump Shot-37',\n",
       "       'Running Layup Shot-4', 'Jump Shot-52', 'Jump Bank Shot-4',\n",
       "       'Jump Shot-34', 'Running Jump Shot-23', 'Driving Hook Shot-4',\n",
       "       'Jump Shot-63', 'Running Reverse Layup Shot-0',\n",
       "       'Driving Finger Roll Layup Shot-0', 'Fadeaway Bank shot-7',\n",
       "       'Pullup Jump shot-15', 'Finger Roll Layup Shot-2',\n",
       "       'Jump Hook Shot-7', 'Finger Roll Layup Shot-3',\n",
       "       'Turnaround Fadeaway shot-12', 'Driving Reverse Layup Shot-1',\n",
       "       'Driving Reverse Layup Shot-0', 'Fadeaway Bank shot-15',\n",
       "       'Driving Slam Dunk Shot-0', 'Step Back Jump shot-11',\n",
       "       'Turnaround Fadeaway shot-20', 'Fadeaway Bank shot-10',\n",
       "       'Reverse Slam Dunk Shot-0', 'Turnaround Bank shot-16',\n",
       "       'Turnaround Bank shot-9', 'Turnaround Fadeaway shot-16',\n",
       "       'Pullup Jump shot-20', 'Running Finger Roll Layup Shot-2',\n",
       "       'Floating Jump shot-10', 'Putback Slam Dunk Shot-0',\n",
       "       'Turnaround Bank shot-17', 'Running Bank shot-6',\n",
       "       'Turnaround Bank shot-13', 'Driving Hook Shot-5',\n",
       "       'Running Bank shot-5', 'Pullup Jump shot-8',\n",
       "       'Turnaround Fadeaway shot-13', 'Pullup Jump shot-22',\n",
       "       'Fadeaway Bank shot-5', 'Step Back Jump shot-13',\n",
       "       'Fadeaway Bank shot-14', 'Fadeaway Bank shot-11', 'Hook Shot-9',\n",
       "       'Pullup Jump shot-18', 'Step Back Jump shot-21',\n",
       "       'Step Back Jump shot-24', 'Turnaround Fadeaway shot-22',\n",
       "       'Turnaround Fadeaway shot-26', 'Finger Roll Layup Shot-0',\n",
       "       'Turnaround Fadeaway shot-18', 'Driving Bank shot-4',\n",
       "       'Turnaround Fadeaway shot-15', 'Fadeaway Bank shot-8',\n",
       "       'Putback Layup Shot-0', 'Turnaround Fadeaway shot-10',\n",
       "       'Jump Shot-46', 'Running Bank shot-18', 'Pullup Jump shot-19',\n",
       "       'Step Back Jump shot-15', 'Turnaround Bank shot-7',\n",
       "       'Pullup Jump shot-17', 'Pullup Jump shot-13', 'Driving Jump shot-3',\n",
       "       'Fadeaway Jump Shot-26', 'Floating Jump shot-6',\n",
       "       'Floating Jump shot-5', 'Pullup Jump shot-25',\n",
       "       'Floating Jump shot-7', 'Turnaround Fadeaway shot-7',\n",
       "       'Turnaround Bank shot-6', 'Turnaround Fadeaway shot-17',\n",
       "       'Turnaround Bank shot-5', 'Putback Layup Shot-2',\n",
       "       'Turnaround Jump Shot-23', 'Driving Finger Roll Layup Shot-2',\n",
       "       'Pullup Jump shot-10', 'Jump Hook Shot-9', 'Putback Dunk Shot-0',\n",
       "       'Turnaround Hook Shot-8', 'Turnaround Fadeaway shot-14',\n",
       "       'Turnaround Hook Shot-4', 'Pullup Jump shot-11',\n",
       "       'Turnaround Fadeaway shot-11', 'Driving Jump shot-10',\n",
       "       'Turnaround Bank shot-14', 'Running Bank shot-7',\n",
       "       'Pullup Bank shot-10', 'Step Back Jump shot-10',\n",
       "       'Running Finger Roll Layup Shot-0', 'Floating Jump shot-11',\n",
       "       'Pullup Jump shot-16', 'Pullup Jump shot-21',\n",
       "       'Floating Jump shot-4', 'Step Back Jump shot-18',\n",
       "       'Running Bank shot-9', 'Reverse Slam Dunk Shot-3',\n",
       "       'Running Bank shot-12', 'Pullup Bank shot-9',\n",
       "       'Turnaround Bank shot-3', 'Turnaround Fadeaway shot-19',\n",
       "       'Step Back Jump shot-17', 'Pullup Jump shot-26',\n",
       "       'Driving Slam Dunk Shot-1', 'Step Back Jump shot-19',\n",
       "       'Step Back Jump shot-6', 'Driving Bank shot-7',\n",
       "       'Floating Jump shot-12', 'Fadeaway Bank shot-13',\n",
       "       'Turnaround Bank shot-15', 'Pullup Jump shot-23',\n",
       "       'Floating Jump shot-13', 'Pullup Jump shot-24',\n",
       "       'Step Back Jump shot-22', 'Pullup Jump shot-14',\n",
       "       'Turnaround Fadeaway shot-9', 'Floating Jump shot-9',\n",
       "       'Turnaround Bank shot-11', 'Turnaround Bank shot-10',\n",
       "       'Pullup Jump shot-29', 'Pullup Jump shot-27',\n",
       "       'Driving Reverse Layup Shot-2', 'Finger Roll Layup Shot-1',\n",
       "       'Fadeaway Jump Shot-25', 'Running Bank shot-8',\n",
       "       'Driving Jump shot-9', 'Floating Jump shot-15',\n",
       "       'Turnaround Bank shot-8', 'Running Bank shot-10',\n",
       "       'Finger Roll Layup Shot-4', 'Jump Shot-58', 'Fadeaway Bank shot-9',\n",
       "       'Step Back Jump shot-20', 'Driving Bank shot-5',\n",
       "       'Turnaround Fadeaway shot-8', 'Jump Bank Shot-27',\n",
       "       'Running Bank shot-3', 'Pullup Jump shot-9',\n",
       "       'Driving Finger Roll Layup Shot-3', 'Pullup Jump shot-12',\n",
       "       'Step Back Jump shot-25', 'Running Jump Shot-41',\n",
       "       'Driving Jump shot-5', 'Running Bank shot-14',\n",
       "       'Driving Finger Roll Layup Shot-1', 'Jump Bank Shot-25',\n",
       "       'Floating Jump shot-8', 'Turnaround Bank shot-4',\n",
       "       'Floating Jump shot-3', 'Driving Reverse Layup Shot-3',\n",
       "       'Alley Oop Layup shot-1', 'Running Reverse Layup Shot-2',\n",
       "       'Jump Bank Shot-1', 'Running Layup Shot-5',\n",
       "       'Step Back Jump shot-12', 'Alley Oop Dunk Shot-3',\n",
       "       'Pullup Bank shot-8', 'Jump Hook Shot-4', 'Fadeaway Bank shot-12',\n",
       "       'Turnaround Bank shot-12', 'Running Bank shot-4',\n",
       "       'Driving Finger Roll Layup Shot-4', 'Driving Dunk Shot-3',\n",
       "       'Driving Slam Dunk Shot-2', 'Step Back Jump shot-16',\n",
       "       'Putback Layup Shot-1', 'Turnaround Bank shot-18',\n",
       "       'Running Hook Shot-3', 'Step Back Jump shot-14',\n",
       "       'Turnaround Fadeaway shot-6', 'Running Dunk Shot-2',\n",
       "       'Driving Bank shot-3', 'Pullup Jump shot-5',\n",
       "       'Driving Slam Dunk Shot-3', 'Jump Shot-1', 'Step Back Jump shot-26',\n",
       "       'Jump Bank Shot-31', 'Driving Jump shot-6',\n",
       "       'Reverse Slam Dunk Shot-2', 'Jump Bank Shot-2',\n",
       "       'Pullup Jump shot-7', 'Running Dunk Shot-1', 'Hook Bank Shot-8',\n",
       "       'Driving Jump shot-7', 'Fadeaway Jump Shot-23',\n",
       "       'Driving Jump shot-4', 'Driving Hook Shot-3', 'Pullup Jump shot-3',\n",
       "       'Turnaround Jump Shot-2', 'Turnaround Hook Shot-6',\n",
       "       'Pullup Bank shot-5', 'Finger Roll Layup Shot-5',\n",
       "       'Pullup Bank shot-7', 'Putback Layup Shot-5',\n",
       "       'Running Reverse Layup Shot-1', 'Turnaround Fadeaway shot-3',\n",
       "       'Floating Jump shot-21', 'Fadeaway Bank shot-6', 'Jump Hook Shot-3',\n",
       "       'Slam Dunk Shot-4', 'Driving Jump shot-2', 'Driving Jump shot-11',\n",
       "       'Turnaround Fadeaway shot-23', 'Running Reverse Layup Shot-3',\n",
       "       'Tip Shot-3', 'Jump Hook Shot-8', 'Jump Hook Shot-11',\n",
       "       'Jump Shot-69', 'Jump Bank Shot-23', 'Step Back Jump shot-23',\n",
       "       'Running Slam Dunk Shot-1', 'Turnaround Fadeaway shot-31',\n",
       "       'Pullup Jump shot-30', 'Putback Dunk Shot-1', 'Driving Dunk Shot-4',\n",
       "       'Turnaround Fadeaway shot-21', 'Turnaround Fadeaway shot-4',\n",
       "       'Pullup Bank shot-31', 'Step Back Jump shot-7', 'Jump Hook Shot-2',\n",
       "       'Step Back Jump shot-27', 'Jump Shot-57', 'Cutting Layup Shot-2',\n",
       "       'Driving Floating Jump Shot-4', 'Jump Bank Shot-24',\n",
       "       'Driving Floating Jump Shot-10', 'Driving Floating Jump Shot-12',\n",
       "       'Running Pull-Up Jump Shot-25', 'Running Finger Roll Layup Shot-1',\n",
       "       'Cutting Layup Shot-0', 'Pullup Jump shot-4',\n",
       "       'Cutting Layup Shot-1', 'Running Jump Shot-25', 'Tip Layup Shot-2',\n",
       "       'Turnaround Hook Shot-9', 'Driving Floating Bank Jump Shot-15',\n",
       "       'Pullup Bank shot-15', 'Running Pull-Up Jump Shot-24',\n",
       "       'Driving Floating Jump Shot-6', 'Driving Hook Shot-6',\n",
       "       'Turnaround Fadeaway Bank Jump Shot-14',\n",
       "       'Cutting Finger Roll Layup Shot-2', 'Running Jump Shot-42',\n",
       "       'Pullup Jump shot-28', 'Turnaround Hook Shot-3',\n",
       "       'Driving Floating Jump Shot-7', 'Layup Shot-12', 'Hook Shot-0',\n",
       "       'Layup Shot-6', 'Jump Shot-53', 'Layup Shot-18', 'Hook Shot-10',\n",
       "       'Layup Shot-14', 'Jump Shot-67', 'Dunk Shot-14', 'Jump Shot-71',\n",
       "       'Running Jump Shot-52', 'Finger Roll Shot-7', 'Jump Bank Shot-28',\n",
       "       'Finger Roll Shot-8', 'Jump Shot-77', 'Reverse Slam Dunk Shot-1',\n",
       "       'Driving Jump shot-14', 'Running Bank shot-11',\n",
       "       'Pullup Jump shot-32', 'Running Jump Shot-44',\n",
       "       'Turnaround Fadeaway shot-5', 'Jump Shot-79',\n",
       "       'Driving Jump shot-13', 'Pullup Bank shot-14',\n",
       "       'Floating Jump shot-16', 'Step Back Jump shot-28',\n",
       "       'Driving Jump shot-8', 'Driving Layup Shot-6'], dtype=object)"
      ]
     },
     "execution_count": 13,
     "metadata": {},
     "output_type": "execute_result"
    }
   ],
   "source": [
    "kobe[\"at_sd\"].unique()"
   ]
  },
  {
   "cell_type": "code",
   "execution_count": 14,
   "metadata": {
    "collapsed": false
   },
   "outputs": [
    {
     "data": {
      "text/plain": [
       "514"
      ]
     },
     "execution_count": 14,
     "metadata": {},
     "output_type": "execute_result"
    }
   ],
   "source": [
    "len(kobe[\"at_sd\"].unique())"
   ]
  },
  {
   "cell_type": "markdown",
   "metadata": {},
   "source": [
    "514 values of categorical variable out of a sample of about 30,000 events might be too many. We shall remember it when using these variables in the prediction model."
   ]
  },
  {
   "cell_type": "markdown",
   "metadata": {},
   "source": [
    "## Creating trend variable: percentage of made shots over the previous three months"
   ]
  },
  {
   "cell_type": "markdown",
   "metadata": {},
   "source": [
    "#### Note: incomplete."
   ]
  },
  {
   "cell_type": "markdown",
   "metadata": {},
   "source": [
    "After observing data on Tableau, I'm not sure a trend variable can be relevant for a prediction model. Anyway let's try to create it as an exercise."
   ]
  },
  {
   "cell_type": "markdown",
   "metadata": {},
   "source": [
    "We drop the submission set."
   ]
  },
  {
   "cell_type": "code",
   "execution_count": 17,
   "metadata": {
    "collapsed": true
   },
   "outputs": [],
   "source": [
    "kobe_trend = kobe[pd.notnull(kobe[\"shot_made_flag\"])]"
   ]
  },
  {
   "cell_type": "markdown",
   "metadata": {},
   "source": [
    "We create a new column adding up 'game_year' and 'game_month' labels."
   ]
  },
  {
   "cell_type": "code",
   "execution_count": 18,
   "metadata": {
    "collapsed": false
   },
   "outputs": [
    {
     "name": "stderr",
     "output_type": "stream",
     "text": [
      "/usr/lib/python2.7/site-packages/ipykernel/__main__.py:1: SettingWithCopyWarning: \n",
      "A value is trying to be set on a copy of a slice from a DataFrame.\n",
      "Try using .loc[row_indexer,col_indexer] = value instead\n",
      "\n",
      "See the the caveats in the documentation: http://pandas.pydata.org/pandas-docs/stable/indexing.html#indexing-view-versus-copy\n",
      "  if __name__ == '__main__':\n"
     ]
    }
   ],
   "source": [
    "kobe_trend[\"game_year_month\"] = (kobe_trend[\"game_year\"].astype(str)) + \"-\" + (kobe_trend[\"game_month\"].astype(str))"
   ]
  },
  {
   "cell_type": "markdown",
   "metadata": {},
   "source": [
    "Now we create a dataframe after doing a groupby to find out the number of shots for every year/month."
   ]
  },
  {
   "cell_type": "code",
   "execution_count": 19,
   "metadata": {
    "collapsed": true
   },
   "outputs": [],
   "source": [
    "kobe_trend_totalshots = pd.DataFrame({\"total_count\" : kobe_trend.groupby([\"game_year_month\"]).size()}).reset_index()"
   ]
  },
  {
   "cell_type": "code",
   "execution_count": 67,
   "metadata": {
    "collapsed": false
   },
   "outputs": [
    {
     "data": {
      "text/html": [
       "<div>\n",
       "<table border=\"1\" class=\"dataframe\">\n",
       "  <thead>\n",
       "    <tr style=\"text-align: right;\">\n",
       "      <th></th>\n",
       "      <th>game_year_month</th>\n",
       "      <th>total_count</th>\n",
       "    </tr>\n",
       "  </thead>\n",
       "  <tbody>\n",
       "    <tr>\n",
       "      <th>0</th>\n",
       "      <td>1996-11</td>\n",
       "      <td>46</td>\n",
       "    </tr>\n",
       "    <tr>\n",
       "      <th>1</th>\n",
       "      <td>1996-12</td>\n",
       "      <td>23</td>\n",
       "    </tr>\n",
       "    <tr>\n",
       "      <th>2</th>\n",
       "      <td>1997-1</td>\n",
       "      <td>88</td>\n",
       "    </tr>\n",
       "  </tbody>\n",
       "</table>\n",
       "</div>"
      ],
      "text/plain": [
       "  game_year_month  total_count\n",
       "0         1996-11           46\n",
       "1         1996-12           23\n",
       "2          1997-1           88"
      ]
     },
     "execution_count": 67,
     "metadata": {},
     "output_type": "execute_result"
    }
   ],
   "source": [
    "kobe_trend_totalshots.head(3)"
   ]
  },
  {
   "cell_type": "markdown",
   "metadata": {},
   "source": [
    "We repeat the process to calculate the number of shots in for every year/month."
   ]
  },
  {
   "cell_type": "code",
   "execution_count": 20,
   "metadata": {
    "collapsed": true
   },
   "outputs": [],
   "source": [
    "kobe_trend_madeshots = pd.DataFrame({\"made_count\" : kobe_trend.groupby([\"game_year_month\", \"shot_made_flag\"]).size()}).reset_index()"
   ]
  },
  {
   "cell_type": "code",
   "execution_count": 21,
   "metadata": {
    "collapsed": true
   },
   "outputs": [],
   "source": [
    "kobe_trend_madeshots = kobe_trend_madeshots[kobe_trend_madeshots[\"shot_made_flag\"]==1]"
   ]
  },
  {
   "cell_type": "code",
   "execution_count": 70,
   "metadata": {
    "collapsed": false
   },
   "outputs": [
    {
     "data": {
      "text/html": [
       "<div>\n",
       "<table border=\"1\" class=\"dataframe\">\n",
       "  <thead>\n",
       "    <tr style=\"text-align: right;\">\n",
       "      <th></th>\n",
       "      <th>game_year_month</th>\n",
       "      <th>shot_made_flag</th>\n",
       "      <th>made_count</th>\n",
       "    </tr>\n",
       "  </thead>\n",
       "  <tbody>\n",
       "    <tr>\n",
       "      <th>1</th>\n",
       "      <td>1996-11</td>\n",
       "      <td>1</td>\n",
       "      <td>19</td>\n",
       "    </tr>\n",
       "    <tr>\n",
       "      <th>3</th>\n",
       "      <td>1996-12</td>\n",
       "      <td>1</td>\n",
       "      <td>7</td>\n",
       "    </tr>\n",
       "    <tr>\n",
       "      <th>5</th>\n",
       "      <td>1997-1</td>\n",
       "      <td>1</td>\n",
       "      <td>43</td>\n",
       "    </tr>\n",
       "  </tbody>\n",
       "</table>\n",
       "</div>"
      ],
      "text/plain": [
       "  game_year_month  shot_made_flag  made_count\n",
       "1         1996-11               1          19\n",
       "3         1996-12               1           7\n",
       "5          1997-1               1          43"
      ]
     },
     "execution_count": 70,
     "metadata": {},
     "output_type": "execute_result"
    }
   ],
   "source": [
    "kobe_trend_madeshots.head(3)"
   ]
  },
  {
   "cell_type": "markdown",
   "metadata": {},
   "source": [
    "Now we merge the dataframes."
   ]
  },
  {
   "cell_type": "code",
   "execution_count": 22,
   "metadata": {
    "collapsed": false
   },
   "outputs": [],
   "source": [
    "kobe_trend_merged = pd.merge(kobe_trend_madeshots, kobe_trend_totalshots, on=\"game_year_month\")"
   ]
  },
  {
   "cell_type": "code",
   "execution_count": 72,
   "metadata": {
    "collapsed": false
   },
   "outputs": [
    {
     "data": {
      "text/html": [
       "<div>\n",
       "<table border=\"1\" class=\"dataframe\">\n",
       "  <thead>\n",
       "    <tr style=\"text-align: right;\">\n",
       "      <th></th>\n",
       "      <th>game_year_month</th>\n",
       "      <th>shot_made_flag</th>\n",
       "      <th>made_count</th>\n",
       "      <th>total_count</th>\n",
       "    </tr>\n",
       "  </thead>\n",
       "  <tbody>\n",
       "    <tr>\n",
       "      <th>0</th>\n",
       "      <td>1996-11</td>\n",
       "      <td>1</td>\n",
       "      <td>19</td>\n",
       "      <td>46</td>\n",
       "    </tr>\n",
       "    <tr>\n",
       "      <th>1</th>\n",
       "      <td>1996-12</td>\n",
       "      <td>1</td>\n",
       "      <td>7</td>\n",
       "      <td>23</td>\n",
       "    </tr>\n",
       "    <tr>\n",
       "      <th>2</th>\n",
       "      <td>1997-1</td>\n",
       "      <td>1</td>\n",
       "      <td>43</td>\n",
       "      <td>88</td>\n",
       "    </tr>\n",
       "  </tbody>\n",
       "</table>\n",
       "</div>"
      ],
      "text/plain": [
       "  game_year_month  shot_made_flag  made_count  total_count\n",
       "0         1996-11               1          19           46\n",
       "1         1996-12               1           7           23\n",
       "2          1997-1               1          43           88"
      ]
     },
     "execution_count": 72,
     "metadata": {},
     "output_type": "execute_result"
    }
   ],
   "source": [
    "kobe_trend_merged.head(3)"
   ]
  },
  {
   "cell_type": "markdown",
   "metadata": {},
   "source": [
    "We turn the values of 'game_year_month' into datetime values in order to work with time series."
   ]
  },
  {
   "cell_type": "code",
   "execution_count": 73,
   "metadata": {
    "collapsed": false,
    "scrolled": true
   },
   "outputs": [
    {
     "data": {
      "text/plain": [
       "game_year_month     object\n",
       "shot_made_flag     float64\n",
       "made_count           int64\n",
       "total_count          int64\n",
       "dtype: object"
      ]
     },
     "execution_count": 73,
     "metadata": {},
     "output_type": "execute_result"
    }
   ],
   "source": [
    "kobe_trend_merged.dtypes"
   ]
  },
  {
   "cell_type": "code",
   "execution_count": 23,
   "metadata": {
    "collapsed": false
   },
   "outputs": [],
   "source": [
    "kobe_trend_merged[\"game_year_month\"] = pd.to_datetime(kobe_trend_merged[\"game_year_month\"])"
   ]
  },
  {
   "cell_type": "markdown",
   "metadata": {},
   "source": [
    "We sort the values in chronological order."
   ]
  },
  {
   "cell_type": "code",
   "execution_count": 24,
   "metadata": {
    "collapsed": true
   },
   "outputs": [],
   "source": [
    "kobe_trend_merged = kobe_trend_merged.sort(\"game_year_month\")"
   ]
  },
  {
   "cell_type": "markdown",
   "metadata": {},
   "source": [
    "We standarize the day for all dates."
   ]
  },
  {
   "cell_type": "code",
   "execution_count": 25,
   "metadata": {
    "collapsed": false
   },
   "outputs": [],
   "source": [
    "kobe_trend_merged[\"game_year_month\"] = kobe_trend_merged[\"game_year_month\"].apply(lambda dt: dt.replace(day=1))"
   ]
  },
  {
   "cell_type": "code",
   "execution_count": 77,
   "metadata": {
    "collapsed": false
   },
   "outputs": [
    {
     "data": {
      "text/plain": [
       "140"
      ]
     },
     "execution_count": 77,
     "metadata": {},
     "output_type": "execute_result"
    }
   ],
   "source": [
    "len(kobe_trend_merged)"
   ]
  },
  {
   "cell_type": "code",
   "execution_count": 78,
   "metadata": {
    "collapsed": true
   },
   "outputs": [
    {
     "name": "stdout",
     "output_type": "stream",
     "text": [
      "0     1996-11-01\n",
      "1     1996-12-01\n",
      "2     1997-01-01\n",
      "6     1997-02-01\n",
      "7     1997-03-01\n",
      "8     1997-04-01\n",
      "9     1997-05-01\n",
      "3     1997-10-01\n",
      "4     1997-11-01\n",
      "5     1997-12-01\n",
      "10    1998-01-01\n",
      "11    1998-02-01\n",
      "12    1998-03-01\n",
      "13    1998-04-01\n",
      "14    1998-05-01\n",
      "16    1999-02-01\n",
      "17    1999-03-01\n",
      "18    1999-04-01\n",
      "19    1999-05-01\n",
      "15    1999-12-01\n",
      "20    2000-01-01\n",
      "24    2000-02-01\n",
      "25    2000-03-01\n",
      "26    2000-04-01\n",
      "27    2000-05-01\n",
      "28    2000-06-01\n",
      "21    2000-10-01\n",
      "22    2000-11-01\n",
      "23    2000-12-01\n",
      "29    2001-01-01\n",
      "         ...    \n",
      "110   2011-01-01\n",
      "112   2011-02-01\n",
      "113   2011-03-01\n",
      "114   2011-04-01\n",
      "115   2011-05-01\n",
      "111   2011-12-01\n",
      "116   2012-01-01\n",
      "120   2012-02-01\n",
      "121   2012-03-01\n",
      "122   2012-04-01\n",
      "123   2012-05-01\n",
      "117   2012-10-01\n",
      "118   2012-11-01\n",
      "119   2012-12-01\n",
      "124   2013-01-01\n",
      "126   2013-02-01\n",
      "127   2013-03-01\n",
      "128   2013-04-01\n",
      "125   2013-12-01\n",
      "129   2014-10-01\n",
      "130   2014-11-01\n",
      "131   2014-12-01\n",
      "132   2015-01-01\n",
      "133   2015-10-01\n",
      "134   2015-11-01\n",
      "135   2015-12-01\n",
      "136   2016-01-01\n",
      "137   2016-02-01\n",
      "138   2016-03-01\n",
      "139   2016-04-01\n",
      "Name: game_year_month, dtype: datetime64[ns]\n"
     ]
    }
   ],
   "source": [
    "print kobe_trend_merged[\"game_year_month\"]"
   ]
  },
  {
   "cell_type": "markdown",
   "metadata": {},
   "source": [
    "At this point I have achieved to create a function that returns a list of lists with the three previous dates if they appear in 'game_year_month' of kobe_trend_merged db."
   ]
  },
  {
   "cell_type": "code",
   "execution_count": 26,
   "metadata": {
    "collapsed": true
   },
   "outputs": [],
   "source": [
    "def get_previous3months(df):\n",
    "    p3m_ls = df[\"game_year_month\"].apply(lambda date: [date - pd.DateOffset(months=1), date - pd.DateOffset(months=2), date - pd.DateOffset(months=3)])\n",
    "    return p3m_ls"
   ]
  },
  {
   "cell_type": "code",
   "execution_count": 27,
   "metadata": {
    "collapsed": false
   },
   "outputs": [],
   "source": [
    "previous3months_lists = get_previous3months(kobe_trend_merged)"
   ]
  },
  {
   "cell_type": "code",
   "execution_count": 28,
   "metadata": {
    "collapsed": true
   },
   "outputs": [
    {
     "data": {
      "text/plain": [
       "0      [1996-10-01 00:00:00, 1996-09-01 00:00:00, 199...\n",
       "1      [1996-11-01 00:00:00, 1996-10-01 00:00:00, 199...\n",
       "2      [1996-12-01 00:00:00, 1996-11-01 00:00:00, 199...\n",
       "6      [1997-01-01 00:00:00, 1996-12-01 00:00:00, 199...\n",
       "7      [1997-02-01 00:00:00, 1997-01-01 00:00:00, 199...\n",
       "8      [1997-03-01 00:00:00, 1997-02-01 00:00:00, 199...\n",
       "9      [1997-04-01 00:00:00, 1997-03-01 00:00:00, 199...\n",
       "3      [1997-09-01 00:00:00, 1997-08-01 00:00:00, 199...\n",
       "4      [1997-10-01 00:00:00, 1997-09-01 00:00:00, 199...\n",
       "5      [1997-11-01 00:00:00, 1997-10-01 00:00:00, 199...\n",
       "10     [1997-12-01 00:00:00, 1997-11-01 00:00:00, 199...\n",
       "11     [1998-01-01 00:00:00, 1997-12-01 00:00:00, 199...\n",
       "12     [1998-02-01 00:00:00, 1998-01-01 00:00:00, 199...\n",
       "13     [1998-03-01 00:00:00, 1998-02-01 00:00:00, 199...\n",
       "14     [1998-04-01 00:00:00, 1998-03-01 00:00:00, 199...\n",
       "16     [1999-01-01 00:00:00, 1998-12-01 00:00:00, 199...\n",
       "17     [1999-02-01 00:00:00, 1999-01-01 00:00:00, 199...\n",
       "18     [1999-03-01 00:00:00, 1999-02-01 00:00:00, 199...\n",
       "19     [1999-04-01 00:00:00, 1999-03-01 00:00:00, 199...\n",
       "15     [1999-11-01 00:00:00, 1999-10-01 00:00:00, 199...\n",
       "20     [1999-12-01 00:00:00, 1999-11-01 00:00:00, 199...\n",
       "24     [2000-01-01 00:00:00, 1999-12-01 00:00:00, 199...\n",
       "25     [2000-02-01 00:00:00, 2000-01-01 00:00:00, 199...\n",
       "26     [2000-03-01 00:00:00, 2000-02-01 00:00:00, 200...\n",
       "27     [2000-04-01 00:00:00, 2000-03-01 00:00:00, 200...\n",
       "28     [2000-05-01 00:00:00, 2000-04-01 00:00:00, 200...\n",
       "21     [2000-09-01 00:00:00, 2000-08-01 00:00:00, 200...\n",
       "22     [2000-10-01 00:00:00, 2000-09-01 00:00:00, 200...\n",
       "23     [2000-11-01 00:00:00, 2000-10-01 00:00:00, 200...\n",
       "29     [2000-12-01 00:00:00, 2000-11-01 00:00:00, 200...\n",
       "                             ...                        \n",
       "110    [2010-12-01 00:00:00, 2010-11-01 00:00:00, 201...\n",
       "112    [2011-01-01 00:00:00, 2010-12-01 00:00:00, 201...\n",
       "113    [2011-02-01 00:00:00, 2011-01-01 00:00:00, 201...\n",
       "114    [2011-03-01 00:00:00, 2011-02-01 00:00:00, 201...\n",
       "115    [2011-04-01 00:00:00, 2011-03-01 00:00:00, 201...\n",
       "111    [2011-11-01 00:00:00, 2011-10-01 00:00:00, 201...\n",
       "116    [2011-12-01 00:00:00, 2011-11-01 00:00:00, 201...\n",
       "120    [2012-01-01 00:00:00, 2011-12-01 00:00:00, 201...\n",
       "121    [2012-02-01 00:00:00, 2012-01-01 00:00:00, 201...\n",
       "122    [2012-03-01 00:00:00, 2012-02-01 00:00:00, 201...\n",
       "123    [2012-04-01 00:00:00, 2012-03-01 00:00:00, 201...\n",
       "117    [2012-09-01 00:00:00, 2012-08-01 00:00:00, 201...\n",
       "118    [2012-10-01 00:00:00, 2012-09-01 00:00:00, 201...\n",
       "119    [2012-11-01 00:00:00, 2012-10-01 00:00:00, 201...\n",
       "124    [2012-12-01 00:00:00, 2012-11-01 00:00:00, 201...\n",
       "126    [2013-01-01 00:00:00, 2012-12-01 00:00:00, 201...\n",
       "127    [2013-02-01 00:00:00, 2013-01-01 00:00:00, 201...\n",
       "128    [2013-03-01 00:00:00, 2013-02-01 00:00:00, 201...\n",
       "125    [2013-11-01 00:00:00, 2013-10-01 00:00:00, 201...\n",
       "129    [2014-09-01 00:00:00, 2014-08-01 00:00:00, 201...\n",
       "130    [2014-10-01 00:00:00, 2014-09-01 00:00:00, 201...\n",
       "131    [2014-11-01 00:00:00, 2014-10-01 00:00:00, 201...\n",
       "132    [2014-12-01 00:00:00, 2014-11-01 00:00:00, 201...\n",
       "133    [2015-09-01 00:00:00, 2015-08-01 00:00:00, 201...\n",
       "134    [2015-10-01 00:00:00, 2015-09-01 00:00:00, 201...\n",
       "135    [2015-11-01 00:00:00, 2015-10-01 00:00:00, 201...\n",
       "136    [2015-12-01 00:00:00, 2015-11-01 00:00:00, 201...\n",
       "137    [2016-01-01 00:00:00, 2015-12-01 00:00:00, 201...\n",
       "138    [2016-02-01 00:00:00, 2016-01-01 00:00:00, 201...\n",
       "139    [2016-03-01 00:00:00, 2016-02-01 00:00:00, 201...\n",
       "Name: game_year_month, dtype: object"
      ]
     },
     "execution_count": 28,
     "metadata": {},
     "output_type": "execute_result"
    }
   ],
   "source": [
    "previous3months_lists"
   ]
  },
  {
   "cell_type": "markdown",
   "metadata": {},
   "source": [
    "By manually selecting the row of 'kobe_trend_merged' I extract the chart with the values of the previous three months (if there is any)."
   ]
  },
  {
   "cell_type": "code",
   "execution_count": 29,
   "metadata": {
    "collapsed": false
   },
   "outputs": [],
   "source": [
    "previous3months_table = kobe_trend_merged[kobe_trend_merged[\"game_year_month\"].isin(previous3months_lists[24])]"
   ]
  },
  {
   "cell_type": "code",
   "execution_count": 30,
   "metadata": {
    "collapsed": false,
    "scrolled": true
   },
   "outputs": [
    {
     "data": {
      "text/html": [
       "<div>\n",
       "<table border=\"1\" class=\"dataframe\">\n",
       "  <thead>\n",
       "    <tr style=\"text-align: right;\">\n",
       "      <th></th>\n",
       "      <th>game_year_month</th>\n",
       "      <th>shot_made_flag</th>\n",
       "      <th>made_count</th>\n",
       "      <th>total_count</th>\n",
       "    </tr>\n",
       "  </thead>\n",
       "  <tbody>\n",
       "    <tr>\n",
       "      <th>15</th>\n",
       "      <td>1999-12-01</td>\n",
       "      <td>1</td>\n",
       "      <td>102</td>\n",
       "      <td>218</td>\n",
       "    </tr>\n",
       "    <tr>\n",
       "      <th>20</th>\n",
       "      <td>2000-01-01</td>\n",
       "      <td>1</td>\n",
       "      <td>93</td>\n",
       "      <td>216</td>\n",
       "    </tr>\n",
       "  </tbody>\n",
       "</table>\n",
       "</div>"
      ],
      "text/plain": [
       "   game_year_month  shot_made_flag  made_count  total_count\n",
       "15      1999-12-01               1         102          218\n",
       "20      2000-01-01               1          93          216"
      ]
     },
     "execution_count": 30,
     "metadata": {},
     "output_type": "execute_result"
    }
   ],
   "source": [
    "previous3months_table"
   ]
  },
  {
   "cell_type": "markdown",
   "metadata": {},
   "source": [
    "Next I calculate the accuracy rate (the sought value)."
   ]
  },
  {
   "cell_type": "code",
   "execution_count": 31,
   "metadata": {
    "collapsed": false
   },
   "outputs": [
    {
     "name": "stderr",
     "output_type": "stream",
     "text": [
      "/usr/lib64/python2.7/site-packages/pandas/core/frame.py:2148: SettingWithCopyWarning: \n",
      "A value is trying to be set on a copy of a slice from a DataFrame.\n",
      "Try using .loc[row_indexer,col_indexer] = value instead\n",
      "\n",
      "See the the caveats in the documentation: http://pandas.pydata.org/pandas-docs/stable/indexing.html#indexing-view-versus-copy\n",
      "  self[k1] = value[k2]\n"
     ]
    },
    {
     "data": {
      "text/plain": [
       "449.0"
      ]
     },
     "execution_count": 31,
     "metadata": {},
     "output_type": "execute_result"
    }
   ],
   "source": [
    "previous3months_table[[\"made_count\", \"total_count\"]] = previous3months_table[[\"made_count\", \"total_count\"]].astype(float)\n",
    "accuracy_prev3m = 1000 * np.around(sum(previous3months_table[\"made_count\"]) / sum(previous3months_table[\"total_count\"]), 3)\n",
    "accuracy_prev3m"
   ]
  },
  {
   "cell_type": "markdown",
   "metadata": {},
   "source": [
    "I imagine I should add a for comprehension function to extract in a loop the data contained in the table and create an if-else condition to asign 0.0 value to the dates of 'kobe_trend_merged['game_year_month']' with no sample of shots during the previous three months. From here it should be easy to calculate the accuracy rate."
   ]
  },
  {
   "cell_type": "markdown",
   "metadata": {},
   "source": [
    "_______________________________________________________________________________________________________________________"
   ]
  },
  {
   "cell_type": "markdown",
   "metadata": {},
   "source": [
    "We export the dataset with the new variables to use it in the next step."
   ]
  },
  {
   "cell_type": "code",
   "execution_count": 81,
   "metadata": {
    "collapsed": true
   },
   "outputs": [],
   "source": [
    "kobe.to_csv(\"./data/kobe_new_variables.csv\", sep= \",\")"
   ]
  }
 ],
 "metadata": {
  "kernelspec": {
   "display_name": "Python 2",
   "language": "python",
   "name": "python2"
  },
  "language_info": {
   "codemirror_mode": {
    "name": "ipython",
    "version": 2
   },
   "file_extension": ".py",
   "mimetype": "text/x-python",
   "name": "python",
   "nbconvert_exporter": "python",
   "pygments_lexer": "ipython2",
   "version": "2.7.10"
  }
 },
 "nbformat": 4,
 "nbformat_minor": 0
}
