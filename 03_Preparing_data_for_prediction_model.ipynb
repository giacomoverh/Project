{
 "cells": [
  {
   "cell_type": "markdown",
   "metadata": {},
   "source": [
    "# Preparing data for Logistic Regression"
   ]
  },
  {
   "cell_type": "code",
   "execution_count": 64,
   "metadata": {
    "collapsed": true
   },
   "outputs": [],
   "source": [
    "import numpy as np\n",
    "import pandas as pd\n",
    "from pandas import DataFrame, Series"
   ]
  },
  {
   "cell_type": "code",
   "execution_count": 65,
   "metadata": {
    "collapsed": true
   },
   "outputs": [],
   "source": [
    "kobe = pd.DataFrame.from_csv(\"./data/kobe_new_variables.csv\", sep=\",\")"
   ]
  },
  {
   "cell_type": "markdown",
   "metadata": {},
   "source": [
    "## Converting variables to category type for better summarization"
   ]
  },
  {
   "cell_type": "markdown",
   "metadata": {},
   "source": [
    "About the benefits of turning variables into categorical: http://pandas.pydata.org/pandas-docs/stable/categorical.html"
   ]
  },
  {
   "cell_type": "code",
   "execution_count": 66,
   "metadata": {
    "collapsed": false
   },
   "outputs": [
    {
     "data": {
      "text/plain": [
       "action_type                object\n",
       "combined_shot_type         object\n",
       "game_event_id               int64\n",
       "game_id                     int64\n",
       "loc_x                       int64\n",
       "loc_y                       int64\n",
       "period                      int64\n",
       "playoffs                    int64\n",
       "season                     object\n",
       "shot_distance               int64\n",
       "shot_made_flag            float64\n",
       "shot_zone_area             object\n",
       "shot_zone_basic            object\n",
       "shot_zone_range            object\n",
       "opponent                   object\n",
       "seconds_to_period_end       int64\n",
       "accurate_shot_distance    float64\n",
       "game_year                   int64\n",
       "game_month                  int64\n",
       "game_dayofweek              int64\n",
       "game_dayofyear              int64\n",
       "local                       int64\n",
       "at_sza                     object\n",
       "at_szb                     object\n",
       "at_szr                     object\n",
       "at_sd                      object\n",
       "dtype: object"
      ]
     },
     "execution_count": 66,
     "metadata": {},
     "output_type": "execute_result"
    }
   ],
   "source": [
    "kobe.dtypes"
   ]
  },
  {
   "cell_type": "markdown",
   "metadata": {},
   "source": [
    "Before turning variables into categories, we drop 'season' (string values composed by numbers) out. If we turn it into a category, as we should, we are not sure how the LogisticRegression will react (it's neither int nor float). Probably we should make dummy variables with it, but it is not worth, as we already have 'game_year' variable (int)."
   ]
  },
  {
   "cell_type": "code",
   "execution_count": 67,
   "metadata": {
    "collapsed": true
   },
   "outputs": [],
   "source": [
    "kobe = kobe.drop(\"season\", axis=1)"
   ]
  },
  {
   "cell_type": "markdown",
   "metadata": {},
   "source": [
    "First of all we turn non numerical variables that seem to fit into 'category' dtype."
   ]
  },
  {
   "cell_type": "code",
   "execution_count": 68,
   "metadata": {
    "collapsed": false
   },
   "outputs": [],
   "source": [
    "kobe[\"action_type\"] = kobe[\"action_type\"].astype(\"category\")\n",
    "kobe[\"combined_shot_type\"] = kobe[\"combined_shot_type\"].astype(\"category\")\n",
    "kobe[\"playoffs\"] = kobe[\"playoffs\"].astype(\"category\")\n",
    "kobe[\"shot_made_flag\"] = kobe[\"shot_made_flag\"].astype(\"category\")\n",
    "kobe[\"shot_zone_area\"] = kobe[\"shot_zone_area\"].astype(\"category\")               \n",
    "kobe[\"shot_zone_basic\"] = kobe[\"shot_zone_basic\"].astype(\"category\")             \n",
    "kobe[\"shot_zone_range\"] = kobe[\"shot_zone_range\"].astype(\"category\")\n",
    "kobe[\"opponent\"] = kobe[\"opponent\"].astype(\"category\")\n",
    "kobe[\"local\"] = kobe[\"local\"].astype(\"category\")\n",
    "kobe[\"at_sza\"] = kobe[\"at_sza\"].astype(\"category\")                          \n",
    "kobe[\"at_szb\"] = kobe[\"at_szb\"].astype(\"category\")    \n",
    "kobe[\"at_szr\"] = kobe[\"at_szr\"].astype(\"category\")    \n",
    "kobe[\"at_sd\"] = kobe[\"at_sd\"].astype(\"category\")                           "
   ]
  },
  {
   "cell_type": "markdown",
   "metadata": {},
   "source": [
    "We check the categories of 'shot_made_flag' target."
   ]
  },
  {
   "cell_type": "code",
   "execution_count": 69,
   "metadata": {
    "collapsed": false
   },
   "outputs": [
    {
     "data": {
      "text/plain": [
       "Float64Index([0.0, 1.0], dtype='float64')"
      ]
     },
     "execution_count": 69,
     "metadata": {},
     "output_type": "execute_result"
    }
   ],
   "source": [
    "kobe[\"shot_made_flag\"].cat.categories"
   ]
  },
  {
   "cell_type": "markdown",
   "metadata": {},
   "source": [
    "We turn also some numerical variables into categories, specifying an order on them."
   ]
  },
  {
   "cell_type": "code",
   "execution_count": 70,
   "metadata": {
    "collapsed": false
   },
   "outputs": [],
   "source": [
    "kobe[\"game_event_id\"] = pd.Categorical(kobe[\"game_event_id\"], ordered = True)\n",
    "kobe[\"game_id\"] = pd.Categorical(kobe[\"game_id\"], ordered = True)\n",
    "kobe[\"period\"] = pd.Categorical(kobe[\"period\"], ordered = True)\n",
    "kobe[\"game_year\"] = pd.Categorical(kobe[\"game_year\"], ordered = True)\n",
    "kobe[\"game_month\"] = pd.Categorical(kobe[\"game_month\"], ordered = True)\n",
    "kobe[\"game_dayofweek\"] = pd.Categorical(kobe[\"game_dayofweek\"], ordered = True)\n",
    "kobe[\"game_dayofyear\"] = pd.Categorical(kobe[\"game_dayofyear\"], ordered = True)"
   ]
  },
  {
   "cell_type": "markdown",
   "metadata": {},
   "source": [
    "Let's take a look at some basic statistics by dtype."
   ]
  },
  {
   "cell_type": "code",
   "execution_count": 71,
   "metadata": {
    "collapsed": false
   },
   "outputs": [
    {
     "data": {
      "text/html": [
       "<div>\n",
       "<table border=\"1\" class=\"dataframe\">\n",
       "  <thead>\n",
       "    <tr style=\"text-align: right;\">\n",
       "      <th></th>\n",
       "      <th>action_type</th>\n",
       "      <th>combined_shot_type</th>\n",
       "      <th>game_event_id</th>\n",
       "      <th>game_id</th>\n",
       "      <th>period</th>\n",
       "      <th>playoffs</th>\n",
       "      <th>shot_made_flag</th>\n",
       "      <th>shot_zone_area</th>\n",
       "      <th>shot_zone_basic</th>\n",
       "      <th>shot_zone_range</th>\n",
       "      <th>opponent</th>\n",
       "      <th>game_year</th>\n",
       "      <th>game_month</th>\n",
       "      <th>game_dayofweek</th>\n",
       "      <th>game_dayofyear</th>\n",
       "      <th>local</th>\n",
       "      <th>at_sza</th>\n",
       "      <th>at_szb</th>\n",
       "      <th>at_szr</th>\n",
       "      <th>at_sd</th>\n",
       "    </tr>\n",
       "  </thead>\n",
       "  <tbody>\n",
       "    <tr>\n",
       "      <th>count</th>\n",
       "      <td>30697</td>\n",
       "      <td>30697</td>\n",
       "      <td>30697</td>\n",
       "      <td>30697</td>\n",
       "      <td>30697</td>\n",
       "      <td>30697</td>\n",
       "      <td>25697</td>\n",
       "      <td>30697</td>\n",
       "      <td>30697</td>\n",
       "      <td>30697</td>\n",
       "      <td>30697</td>\n",
       "      <td>30697</td>\n",
       "      <td>30697</td>\n",
       "      <td>30697</td>\n",
       "      <td>30697</td>\n",
       "      <td>30697</td>\n",
       "      <td>30697</td>\n",
       "      <td>30697</td>\n",
       "      <td>30697</td>\n",
       "      <td>30697</td>\n",
       "    </tr>\n",
       "    <tr>\n",
       "      <th>unique</th>\n",
       "      <td>57</td>\n",
       "      <td>6</td>\n",
       "      <td>620</td>\n",
       "      <td>1559</td>\n",
       "      <td>7</td>\n",
       "      <td>2</td>\n",
       "      <td>2</td>\n",
       "      <td>6</td>\n",
       "      <td>7</td>\n",
       "      <td>5</td>\n",
       "      <td>33</td>\n",
       "      <td>21</td>\n",
       "      <td>9</td>\n",
       "      <td>7</td>\n",
       "      <td>237</td>\n",
       "      <td>2</td>\n",
       "      <td>122</td>\n",
       "      <td>130</td>\n",
       "      <td>105</td>\n",
       "      <td>514</td>\n",
       "    </tr>\n",
       "    <tr>\n",
       "      <th>top</th>\n",
       "      <td>Jump Shot</td>\n",
       "      <td>Jump Shot</td>\n",
       "      <td>2</td>\n",
       "      <td>21501228</td>\n",
       "      <td>3</td>\n",
       "      <td>0</td>\n",
       "      <td>0</td>\n",
       "      <td>Center(C)</td>\n",
       "      <td>Mid-Range</td>\n",
       "      <td>Less Than 8 ft.</td>\n",
       "      <td>SAS</td>\n",
       "      <td>2009</td>\n",
       "      <td>3</td>\n",
       "      <td>6</td>\n",
       "      <td>346</td>\n",
       "      <td>0</td>\n",
       "      <td>Jump Shot-Center(C)</td>\n",
       "      <td>Jump Shot-Mid-Range</td>\n",
       "      <td>Jump Shot-16-24 ft.</td>\n",
       "      <td>Layup Shot-0</td>\n",
       "    </tr>\n",
       "    <tr>\n",
       "      <th>freq</th>\n",
       "      <td>18880</td>\n",
       "      <td>23485</td>\n",
       "      <td>132</td>\n",
       "      <td>50</td>\n",
       "      <td>8296</td>\n",
       "      <td>26198</td>\n",
       "      <td>14232</td>\n",
       "      <td>13455</td>\n",
       "      <td>12625</td>\n",
       "      <td>9398</td>\n",
       "      <td>1978</td>\n",
       "      <td>2357</td>\n",
       "      <td>5132</td>\n",
       "      <td>6907</td>\n",
       "      <td>257</td>\n",
       "      <td>15741</td>\n",
       "      <td>4742</td>\n",
       "      <td>9797</td>\n",
       "      <td>7060</td>\n",
       "      <td>1958</td>\n",
       "    </tr>\n",
       "  </tbody>\n",
       "</table>\n",
       "</div>"
      ],
      "text/plain": [
       "       action_type combined_shot_type  game_event_id   game_id  period  \\\n",
       "count        30697              30697          30697     30697   30697   \n",
       "unique          57                  6            620      1559       7   \n",
       "top      Jump Shot          Jump Shot              2  21501228       3   \n",
       "freq         18880              23485            132        50    8296   \n",
       "\n",
       "        playoffs  shot_made_flag shot_zone_area shot_zone_basic  \\\n",
       "count      30697           25697          30697           30697   \n",
       "unique         2               2              6               7   \n",
       "top            0               0      Center(C)       Mid-Range   \n",
       "freq       26198           14232          13455           12625   \n",
       "\n",
       "        shot_zone_range opponent  game_year  game_month  game_dayofweek  \\\n",
       "count             30697    30697      30697       30697           30697   \n",
       "unique                5       33         21           9               7   \n",
       "top     Less Than 8 ft.      SAS       2009           3               6   \n",
       "freq               9398     1978       2357        5132            6907   \n",
       "\n",
       "        game_dayofyear  local               at_sza               at_szb  \\\n",
       "count            30697  30697                30697                30697   \n",
       "unique             237      2                  122                  130   \n",
       "top                346      0  Jump Shot-Center(C)  Jump Shot-Mid-Range   \n",
       "freq               257  15741                 4742                 9797   \n",
       "\n",
       "                     at_szr         at_sd  \n",
       "count                 30697         30697  \n",
       "unique                  105           514  \n",
       "top     Jump Shot-16-24 ft.  Layup Shot-0  \n",
       "freq                   7060          1958  "
      ]
     },
     "execution_count": 71,
     "metadata": {},
     "output_type": "execute_result"
    }
   ],
   "source": [
    "kobe.describe(include=[\"category\"])"
   ]
  },
  {
   "cell_type": "code",
   "execution_count": 72,
   "metadata": {
    "collapsed": false,
    "scrolled": true
   },
   "outputs": [
    {
     "data": {
      "text/html": [
       "<div>\n",
       "<table border=\"1\" class=\"dataframe\">\n",
       "  <thead>\n",
       "    <tr style=\"text-align: right;\">\n",
       "      <th></th>\n",
       "      <th>loc_x</th>\n",
       "      <th>loc_y</th>\n",
       "      <th>shot_distance</th>\n",
       "      <th>seconds_to_period_end</th>\n",
       "      <th>accurate_shot_distance</th>\n",
       "    </tr>\n",
       "  </thead>\n",
       "  <tbody>\n",
       "    <tr>\n",
       "      <th>count</th>\n",
       "      <td>30697.000000</td>\n",
       "      <td>30697.000000</td>\n",
       "      <td>30697.000000</td>\n",
       "      <td>30697.000000</td>\n",
       "      <td>30697.000000</td>\n",
       "    </tr>\n",
       "    <tr>\n",
       "      <th>mean</th>\n",
       "      <td>7.110499</td>\n",
       "      <td>91.107535</td>\n",
       "      <td>13.437437</td>\n",
       "      <td>321.502525</td>\n",
       "      <td>13.846562</td>\n",
       "    </tr>\n",
       "    <tr>\n",
       "      <th>std</th>\n",
       "      <td>110.124578</td>\n",
       "      <td>87.791361</td>\n",
       "      <td>9.374189</td>\n",
       "      <td>208.175176</td>\n",
       "      <td>9.491986</td>\n",
       "    </tr>\n",
       "    <tr>\n",
       "      <th>min</th>\n",
       "      <td>-250.000000</td>\n",
       "      <td>-44.000000</td>\n",
       "      <td>0.000000</td>\n",
       "      <td>0.000000</td>\n",
       "      <td>0.000000</td>\n",
       "    </tr>\n",
       "    <tr>\n",
       "      <th>25%</th>\n",
       "      <td>-68.000000</td>\n",
       "      <td>4.000000</td>\n",
       "      <td>5.000000</td>\n",
       "      <td>142.000000</td>\n",
       "      <td>5.300000</td>\n",
       "    </tr>\n",
       "    <tr>\n",
       "      <th>50%</th>\n",
       "      <td>0.000000</td>\n",
       "      <td>74.000000</td>\n",
       "      <td>15.000000</td>\n",
       "      <td>304.000000</td>\n",
       "      <td>15.400000</td>\n",
       "    </tr>\n",
       "    <tr>\n",
       "      <th>75%</th>\n",
       "      <td>95.000000</td>\n",
       "      <td>160.000000</td>\n",
       "      <td>21.000000</td>\n",
       "      <td>498.000000</td>\n",
       "      <td>21.100000</td>\n",
       "    </tr>\n",
       "    <tr>\n",
       "      <th>max</th>\n",
       "      <td>248.000000</td>\n",
       "      <td>791.000000</td>\n",
       "      <td>79.000000</td>\n",
       "      <td>714.000000</td>\n",
       "      <td>79.200000</td>\n",
       "    </tr>\n",
       "  </tbody>\n",
       "</table>\n",
       "</div>"
      ],
      "text/plain": [
       "              loc_x         loc_y  shot_distance  seconds_to_period_end  \\\n",
       "count  30697.000000  30697.000000   30697.000000           30697.000000   \n",
       "mean       7.110499     91.107535      13.437437             321.502525   \n",
       "std      110.124578     87.791361       9.374189             208.175176   \n",
       "min     -250.000000    -44.000000       0.000000               0.000000   \n",
       "25%      -68.000000      4.000000       5.000000             142.000000   \n",
       "50%        0.000000     74.000000      15.000000             304.000000   \n",
       "75%       95.000000    160.000000      21.000000             498.000000   \n",
       "max      248.000000    791.000000      79.000000             714.000000   \n",
       "\n",
       "       accurate_shot_distance  \n",
       "count            30697.000000  \n",
       "mean                13.846562  \n",
       "std                  9.491986  \n",
       "min                  0.000000  \n",
       "25%                  5.300000  \n",
       "50%                 15.400000  \n",
       "75%                 21.100000  \n",
       "max                 79.200000  "
      ]
     },
     "execution_count": 72,
     "metadata": {},
     "output_type": "execute_result"
    }
   ],
   "source": [
    "kobe.describe(include=[\"number\"])"
   ]
  },
  {
   "cell_type": "markdown",
   "metadata": {},
   "source": [
    "## Making dummy variables"
   ]
  },
  {
   "cell_type": "markdown",
   "metadata": {},
   "source": [
    "LogisticRegression model of sklearn  doesn't accept string values. OneHotEncoder is the sklearn standart approach to convert categorial features into numerical (http://scikit-learn.org/stable/modules/generated/sklearn.preprocessing.OneHotEncoder.html), but it was returning errors reading str values. LabelEncoder is much easier to implement, but it might not be effective when applying the created values to the prediction model (http://scikit-learn.org/stable/modules/generated/sklearn.preprocessing.LabelEncoder.html). So let's use pandas get_dummies function to create dummy variables."
   ]
  },
  {
   "cell_type": "code",
   "execution_count": 88,
   "metadata": {
    "collapsed": true
   },
   "outputs": [],
   "source": [
    "old_cat_variables = [\"action_type\", \"combined_shot_type\", \"shot_zone_area\", \"shot_zone_basic\", \"shot_zone_range\", \"opponent\"]"
   ]
  },
  {
   "cell_type": "code",
   "execution_count": 112,
   "metadata": {
    "collapsed": false
   },
   "outputs": [],
   "source": [
    "kobe_old_cat_vars = kobe[old_cat_variables]"
   ]
  },
  {
   "cell_type": "code",
   "execution_count": 113,
   "metadata": {
    "collapsed": false
   },
   "outputs": [
    {
     "data": {
      "text/plain": [
       "(30697, 6)"
      ]
     },
     "execution_count": 113,
     "metadata": {},
     "output_type": "execute_result"
    }
   ],
   "source": [
    "kobe_old_cat_vars.shape"
   ]
  },
  {
   "cell_type": "code",
   "execution_count": 117,
   "metadata": {
    "collapsed": true
   },
   "outputs": [],
   "source": [
    "kobe_sparse_old_catvars = pd.get_dummies(kobe_old_cat_vars)"
   ]
  },
  {
   "cell_type": "code",
   "execution_count": 119,
   "metadata": {
    "collapsed": false
   },
   "outputs": [
    {
     "data": {
      "text/plain": [
       "(30697, 114)"
      ]
     },
     "execution_count": 119,
     "metadata": {},
     "output_type": "execute_result"
    }
   ],
   "source": [
    "kobe_sparse_old_catvars.shape"
   ]
  },
  {
   "cell_type": "code",
   "execution_count": 114,
   "metadata": {
    "collapsed": false
   },
   "outputs": [],
   "source": [
    "new_cat_variables = [\"at_sza\", \"at_szb\", \"at_szr\", \"at_sd\"]"
   ]
  },
  {
   "cell_type": "code",
   "execution_count": 115,
   "metadata": {
    "collapsed": false
   },
   "outputs": [],
   "source": [
    "kobe_new_cat_vars = kobe[new_cat_variables]"
   ]
  },
  {
   "cell_type": "code",
   "execution_count": 116,
   "metadata": {
    "collapsed": false
   },
   "outputs": [
    {
     "data": {
      "text/plain": [
       "(30697, 4)"
      ]
     },
     "execution_count": 116,
     "metadata": {},
     "output_type": "execute_result"
    }
   ],
   "source": [
    "kobe_new_cat_vars.shape"
   ]
  },
  {
   "cell_type": "code",
   "execution_count": 118,
   "metadata": {
    "collapsed": false
   },
   "outputs": [],
   "source": [
    "kobe_sparse_new_catvars = pd.get_dummies(kobe_new_cat_var)"
   ]
  },
  {
   "cell_type": "code",
   "execution_count": 120,
   "metadata": {
    "collapsed": false
   },
   "outputs": [
    {
     "data": {
      "text/plain": [
       "(30697, 871)"
      ]
     },
     "execution_count": 120,
     "metadata": {},
     "output_type": "execute_result"
    }
   ],
   "source": [
    "kobe_sparse_new_catvars.shape"
   ]
  },
  {
   "cell_type": "markdown",
   "metadata": {},
   "source": [
    "## Reducing the number of viariables with Boruta and Random Forest Classifier"
   ]
  },
  {
   "cell_type": "markdown",
   "metadata": {},
   "source": [
    "#### Note: incomplete."
   ]
  },
  {
   "cell_type": "markdown",
   "metadata": {},
   "source": [
    "Currently we're handling slightly fewer than 1,000 variables. There is the risk that our model will not detect well the significant variables. So we'll apply an all-relevant feature selection method - Boruta (feature reduction done slavishly following the example you can find here: https://github.com/danielhomola/boruta_py"
   ]
  },
  {
   "cell_type": "code",
   "execution_count": 1,
   "metadata": {
    "collapsed": true
   },
   "outputs": [],
   "source": [
    "from sklearn.ensemble import RandomForestClassifier\n",
    "from boruta_py import BorutaPy"
   ]
  },
  {
   "cell_type": "code",
   "execution_count": 125,
   "metadata": {
    "collapsed": true
   },
   "outputs": [],
   "source": [
    "kobe_target = kobe[\"shot_made_flag\"]"
   ]
  },
  {
   "cell_type": "code",
   "execution_count": 126,
   "metadata": {
    "collapsed": true
   },
   "outputs": [
    {
     "data": {
      "text/plain": [
       "shot_id\n",
       "1       NaN\n",
       "2         0\n",
       "3         1\n",
       "4         0\n",
       "5         1\n",
       "6         0\n",
       "7         1\n",
       "8       NaN\n",
       "9         1\n",
       "10        0\n",
       "11        0\n",
       "12        1\n",
       "13        1\n",
       "14        0\n",
       "15        0\n",
       "16        0\n",
       "17      NaN\n",
       "18        1\n",
       "19        0\n",
       "20      NaN\n",
       "21        0\n",
       "22        0\n",
       "23        1\n",
       "24        1\n",
       "25        1\n",
       "26        0\n",
       "27        0\n",
       "28        0\n",
       "29        0\n",
       "30        0\n",
       "         ..\n",
       "30668     0\n",
       "30669   NaN\n",
       "30670     0\n",
       "30671     0\n",
       "30672     0\n",
       "30673     1\n",
       "30674     0\n",
       "30675     1\n",
       "30676     0\n",
       "30677     1\n",
       "30678     0\n",
       "30679     0\n",
       "30680     0\n",
       "30681   NaN\n",
       "30682     1\n",
       "30683   NaN\n",
       "30684     0\n",
       "30685     0\n",
       "30686     0\n",
       "30687   NaN\n",
       "30688     0\n",
       "30689     1\n",
       "30690     0\n",
       "30691     0\n",
       "30692     0\n",
       "30693     0\n",
       "30694   NaN\n",
       "30695     1\n",
       "30696     0\n",
       "30697     0\n",
       "Name: shot_made_flag, dtype: category\n",
       "Categories (2, float64): [0, 1]"
      ]
     },
     "execution_count": 126,
     "metadata": {},
     "output_type": "execute_result"
    }
   ],
   "source": [
    "kobe_target"
   ]
  },
  {
   "cell_type": "code",
   "execution_count": 128,
   "metadata": {
    "collapsed": false
   },
   "outputs": [],
   "source": [
    "kobe_socv = pd.concat([kobe_sparse_old_catvars, kobe_target], axis=1)"
   ]
  },
  {
   "cell_type": "code",
   "execution_count": 129,
   "metadata": {
    "collapsed": true
   },
   "outputs": [
    {
     "data": {
      "text/plain": [
       "shot_id\n",
       "1       NaN\n",
       "2         0\n",
       "3         1\n",
       "4         0\n",
       "5         1\n",
       "6         0\n",
       "7         1\n",
       "8       NaN\n",
       "9         1\n",
       "10        0\n",
       "11        0\n",
       "12        1\n",
       "13        1\n",
       "14        0\n",
       "15        0\n",
       "16        0\n",
       "17      NaN\n",
       "18        1\n",
       "19        0\n",
       "20      NaN\n",
       "21        0\n",
       "22        0\n",
       "23        1\n",
       "24        1\n",
       "25        1\n",
       "26        0\n",
       "27        0\n",
       "28        0\n",
       "29        0\n",
       "30        0\n",
       "         ..\n",
       "30668     0\n",
       "30669   NaN\n",
       "30670     0\n",
       "30671     0\n",
       "30672     0\n",
       "30673     1\n",
       "30674     0\n",
       "30675     1\n",
       "30676     0\n",
       "30677     1\n",
       "30678     0\n",
       "30679     0\n",
       "30680     0\n",
       "30681   NaN\n",
       "30682     1\n",
       "30683   NaN\n",
       "30684     0\n",
       "30685     0\n",
       "30686     0\n",
       "30687   NaN\n",
       "30688     0\n",
       "30689     1\n",
       "30690     0\n",
       "30691     0\n",
       "30692     0\n",
       "30693     0\n",
       "30694   NaN\n",
       "30695     1\n",
       "30696     0\n",
       "30697     0\n",
       "Name: shot_made_flag, dtype: category\n",
       "Categories (2, float64): [0, 1]"
      ]
     },
     "execution_count": 129,
     "metadata": {},
     "output_type": "execute_result"
    }
   ],
   "source": [
    "kobe_socv[\"shot_made_flag\"]"
   ]
  },
  {
   "cell_type": "code",
   "execution_count": 130,
   "metadata": {
    "collapsed": true
   },
   "outputs": [],
   "source": [
    "kobe_socv = kobe_socv.dropna()"
   ]
  },
  {
   "cell_type": "code",
   "execution_count": 132,
   "metadata": {
    "collapsed": true
   },
   "outputs": [
    {
     "data": {
      "text/plain": [
       "(25697, 115)"
      ]
     },
     "execution_count": 132,
     "metadata": {},
     "output_type": "execute_result"
    }
   ],
   "source": [
    "kobe_socv.shape"
   ]
  },
  {
   "cell_type": "code",
   "execution_count": 134,
   "metadata": {
    "collapsed": true
   },
   "outputs": [],
   "source": [
    "y=kobe_socv.pop(\"shot_made_flag\")\n",
    "X=kobe_socv.copy()"
   ]
  },
  {
   "cell_type": "markdown",
   "metadata": {},
   "source": [
    "First we will instantiate an estimator that Boruta will use. Then we will instantiate a Boruta Object."
   ]
  },
  {
   "cell_type": "code",
   "execution_count": 146,
   "metadata": {
    "collapsed": true
   },
   "outputs": [],
   "source": [
    "rf = RandomForestClassifier(n_jobs=-1, class_weight=\"auto\", max_depth=8)\n",
    "feat_selector = BorutaPy(rf, n_estimators=\"auto\", verbose=2)"
   ]
  },
  {
   "cell_type": "markdown",
   "metadata": {},
   "source": [
    "Once built, we can use this object to identify the relevant features in our dataset."
   ]
  },
  {
   "cell_type": "code",
   "execution_count": 147,
   "metadata": {
    "collapsed": true
   },
   "outputs": [
    {
     "ename": "TypeError",
     "evalue": "unhashable type",
     "output_type": "error",
     "traceback": [
      "\u001b[1;31m---------------------------------------------------------------------------\u001b[0m",
      "\u001b[1;31mTypeError\u001b[0m                                 Traceback (most recent call last)",
      "\u001b[1;32m<ipython-input-147-fb0214bdb52e>\u001b[0m in \u001b[0;36m<module>\u001b[1;34m()\u001b[0m\n\u001b[1;32m----> 1\u001b[1;33m \u001b[0mfeat_selector\u001b[0m\u001b[1;33m.\u001b[0m\u001b[0mfit\u001b[0m\u001b[1;33m(\u001b[0m\u001b[0mX\u001b[0m\u001b[1;33m,\u001b[0m\u001b[0my\u001b[0m\u001b[1;33m)\u001b[0m\u001b[1;33m\u001b[0m\u001b[0m\n\u001b[0m",
      "\u001b[1;32m/home/dsc/shared_win/Project/boruta_py.pyc\u001b[0m in \u001b[0;36mfit\u001b[1;34m(self, X, y)\u001b[0m\n\u001b[0;32m    189\u001b[0m         \"\"\"\n\u001b[0;32m    190\u001b[0m \u001b[1;33m\u001b[0m\u001b[0m\n\u001b[1;32m--> 191\u001b[1;33m         \u001b[1;32mreturn\u001b[0m \u001b[0mself\u001b[0m\u001b[1;33m.\u001b[0m\u001b[0m_fit\u001b[0m\u001b[1;33m(\u001b[0m\u001b[0mX\u001b[0m\u001b[1;33m,\u001b[0m \u001b[0my\u001b[0m\u001b[1;33m)\u001b[0m\u001b[1;33m\u001b[0m\u001b[0m\n\u001b[0m\u001b[0;32m    192\u001b[0m \u001b[1;33m\u001b[0m\u001b[0m\n\u001b[0;32m    193\u001b[0m     \u001b[1;32mdef\u001b[0m \u001b[0mtransform\u001b[0m\u001b[1;33m(\u001b[0m\u001b[0mself\u001b[0m\u001b[1;33m,\u001b[0m \u001b[0mX\u001b[0m\u001b[1;33m,\u001b[0m \u001b[0mweak\u001b[0m\u001b[1;33m=\u001b[0m\u001b[0mFalse\u001b[0m\u001b[1;33m)\u001b[0m\u001b[1;33m:\u001b[0m\u001b[1;33m\u001b[0m\u001b[0m\n",
      "\u001b[1;32m/home/dsc/shared_win/Project/boruta_py.pyc\u001b[0m in \u001b[0;36m_fit\u001b[1;34m(self, X, y)\u001b[0m\n\u001b[0;32m    273\u001b[0m \u001b[1;33m\u001b[0m\u001b[0m\n\u001b[0;32m    274\u001b[0m             \u001b[1;31m# add shadow attributes, shuffle them and train estimator, get imps\u001b[0m\u001b[1;33m\u001b[0m\u001b[1;33m\u001b[0m\u001b[0m\n\u001b[1;32m--> 275\u001b[1;33m             \u001b[0mcur_imp\u001b[0m \u001b[1;33m=\u001b[0m \u001b[0mself\u001b[0m\u001b[1;33m.\u001b[0m\u001b[0m_add_shadows_get_imps\u001b[0m\u001b[1;33m(\u001b[0m\u001b[0mX\u001b[0m\u001b[1;33m,\u001b[0m \u001b[0my\u001b[0m\u001b[1;33m,\u001b[0m \u001b[0mdec_reg\u001b[0m\u001b[1;33m)\u001b[0m\u001b[1;33m\u001b[0m\u001b[0m\n\u001b[0m\u001b[0;32m    276\u001b[0m \u001b[1;33m\u001b[0m\u001b[0m\n\u001b[0;32m    277\u001b[0m             \u001b[1;31m# get the threshold of shadow importances we will use for rejection\u001b[0m\u001b[1;33m\u001b[0m\u001b[1;33m\u001b[0m\u001b[0m\n",
      "\u001b[1;32m/home/dsc/shared_win/Project/boruta_py.pyc\u001b[0m in \u001b[0;36m_add_shadows_get_imps\u001b[1;34m(self, X, y, dec_reg)\u001b[0m\n\u001b[0;32m    387\u001b[0m         \u001b[1;31m# find features that are tentative still\u001b[0m\u001b[1;33m\u001b[0m\u001b[1;33m\u001b[0m\u001b[0m\n\u001b[0;32m    388\u001b[0m         \u001b[0mx_cur_ind\u001b[0m \u001b[1;33m=\u001b[0m \u001b[0mnp\u001b[0m\u001b[1;33m.\u001b[0m\u001b[0mwhere\u001b[0m\u001b[1;33m(\u001b[0m\u001b[0mdec_reg\u001b[0m \u001b[1;33m>=\u001b[0m \u001b[1;36m0\u001b[0m\u001b[1;33m)\u001b[0m\u001b[1;33m[\u001b[0m\u001b[1;36m0\u001b[0m\u001b[1;33m]\u001b[0m\u001b[1;33m\u001b[0m\u001b[0m\n\u001b[1;32m--> 389\u001b[1;33m         \u001b[0mx_cur\u001b[0m \u001b[1;33m=\u001b[0m \u001b[0mnp\u001b[0m\u001b[1;33m.\u001b[0m\u001b[0mcopy\u001b[0m\u001b[1;33m(\u001b[0m\u001b[0mX\u001b[0m\u001b[1;33m[\u001b[0m\u001b[1;33m:\u001b[0m\u001b[1;33m,\u001b[0m \u001b[0mx_cur_ind\u001b[0m\u001b[1;33m]\u001b[0m\u001b[1;33m)\u001b[0m\u001b[1;33m\u001b[0m\u001b[0m\n\u001b[0m\u001b[0;32m    390\u001b[0m         \u001b[0mx_cur_w\u001b[0m \u001b[1;33m=\u001b[0m \u001b[0mx_cur\u001b[0m\u001b[1;33m.\u001b[0m\u001b[0mshape\u001b[0m\u001b[1;33m[\u001b[0m\u001b[1;36m1\u001b[0m\u001b[1;33m]\u001b[0m\u001b[1;33m\u001b[0m\u001b[0m\n\u001b[0;32m    391\u001b[0m         \u001b[1;31m# deep copy the matrix for the shadow matrix\u001b[0m\u001b[1;33m\u001b[0m\u001b[1;33m\u001b[0m\u001b[0m\n",
      "\u001b[1;32m/usr/lib64/python2.7/site-packages/pandas/core/frame.pyc\u001b[0m in \u001b[0;36m__getitem__\u001b[1;34m(self, key)\u001b[0m\n\u001b[0;32m   1795\u001b[0m             \u001b[1;32mreturn\u001b[0m \u001b[0mself\u001b[0m\u001b[1;33m.\u001b[0m\u001b[0m_getitem_multilevel\u001b[0m\u001b[1;33m(\u001b[0m\u001b[0mkey\u001b[0m\u001b[1;33m)\u001b[0m\u001b[1;33m\u001b[0m\u001b[0m\n\u001b[0;32m   1796\u001b[0m         \u001b[1;32melse\u001b[0m\u001b[1;33m:\u001b[0m\u001b[1;33m\u001b[0m\u001b[0m\n\u001b[1;32m-> 1797\u001b[1;33m             \u001b[1;32mreturn\u001b[0m \u001b[0mself\u001b[0m\u001b[1;33m.\u001b[0m\u001b[0m_getitem_column\u001b[0m\u001b[1;33m(\u001b[0m\u001b[0mkey\u001b[0m\u001b[1;33m)\u001b[0m\u001b[1;33m\u001b[0m\u001b[0m\n\u001b[0m\u001b[0;32m   1798\u001b[0m \u001b[1;33m\u001b[0m\u001b[0m\n\u001b[0;32m   1799\u001b[0m     \u001b[1;32mdef\u001b[0m \u001b[0m_getitem_column\u001b[0m\u001b[1;33m(\u001b[0m\u001b[0mself\u001b[0m\u001b[1;33m,\u001b[0m \u001b[0mkey\u001b[0m\u001b[1;33m)\u001b[0m\u001b[1;33m:\u001b[0m\u001b[1;33m\u001b[0m\u001b[0m\n",
      "\u001b[1;32m/usr/lib64/python2.7/site-packages/pandas/core/frame.pyc\u001b[0m in \u001b[0;36m_getitem_column\u001b[1;34m(self, key)\u001b[0m\n\u001b[0;32m   1802\u001b[0m         \u001b[1;31m# get column\u001b[0m\u001b[1;33m\u001b[0m\u001b[1;33m\u001b[0m\u001b[0m\n\u001b[0;32m   1803\u001b[0m         \u001b[1;32mif\u001b[0m \u001b[0mself\u001b[0m\u001b[1;33m.\u001b[0m\u001b[0mcolumns\u001b[0m\u001b[1;33m.\u001b[0m\u001b[0mis_unique\u001b[0m\u001b[1;33m:\u001b[0m\u001b[1;33m\u001b[0m\u001b[0m\n\u001b[1;32m-> 1804\u001b[1;33m             \u001b[1;32mreturn\u001b[0m \u001b[0mself\u001b[0m\u001b[1;33m.\u001b[0m\u001b[0m_get_item_cache\u001b[0m\u001b[1;33m(\u001b[0m\u001b[0mkey\u001b[0m\u001b[1;33m)\u001b[0m\u001b[1;33m\u001b[0m\u001b[0m\n\u001b[0m\u001b[0;32m   1805\u001b[0m \u001b[1;33m\u001b[0m\u001b[0m\n\u001b[0;32m   1806\u001b[0m         \u001b[1;31m# duplicate columns & possible reduce dimensionaility\u001b[0m\u001b[1;33m\u001b[0m\u001b[1;33m\u001b[0m\u001b[0m\n",
      "\u001b[1;32m/usr/lib64/python2.7/site-packages/pandas/core/generic.pyc\u001b[0m in \u001b[0;36m_get_item_cache\u001b[1;34m(self, item)\u001b[0m\n\u001b[0;32m   1080\u001b[0m         \u001b[1;34m\"\"\" return the cached item, item represents a label indexer \"\"\"\u001b[0m\u001b[1;33m\u001b[0m\u001b[0m\n\u001b[0;32m   1081\u001b[0m         \u001b[0mcache\u001b[0m \u001b[1;33m=\u001b[0m \u001b[0mself\u001b[0m\u001b[1;33m.\u001b[0m\u001b[0m_item_cache\u001b[0m\u001b[1;33m\u001b[0m\u001b[0m\n\u001b[1;32m-> 1082\u001b[1;33m         \u001b[0mres\u001b[0m \u001b[1;33m=\u001b[0m \u001b[0mcache\u001b[0m\u001b[1;33m.\u001b[0m\u001b[0mget\u001b[0m\u001b[1;33m(\u001b[0m\u001b[0mitem\u001b[0m\u001b[1;33m)\u001b[0m\u001b[1;33m\u001b[0m\u001b[0m\n\u001b[0m\u001b[0;32m   1083\u001b[0m         \u001b[1;32mif\u001b[0m \u001b[0mres\u001b[0m \u001b[1;32mis\u001b[0m \u001b[0mNone\u001b[0m\u001b[1;33m:\u001b[0m\u001b[1;33m\u001b[0m\u001b[0m\n\u001b[0;32m   1084\u001b[0m             \u001b[0mvalues\u001b[0m \u001b[1;33m=\u001b[0m \u001b[0mself\u001b[0m\u001b[1;33m.\u001b[0m\u001b[0m_data\u001b[0m\u001b[1;33m.\u001b[0m\u001b[0mget\u001b[0m\u001b[1;33m(\u001b[0m\u001b[0mitem\u001b[0m\u001b[1;33m)\u001b[0m\u001b[1;33m\u001b[0m\u001b[0m\n",
      "\u001b[1;31mTypeError\u001b[0m: unhashable type"
     ]
    }
   ],
   "source": [
    "feat_selector.fit(X,y)"
   ]
  },
  {
   "cell_type": "markdown",
   "metadata": {},
   "source": [
    "We check the selected features"
   ]
  },
  {
   "cell_type": "code",
   "execution_count": null,
   "metadata": {
    "collapsed": true
   },
   "outputs": [],
   "source": [
    "print feat_selector.support_"
   ]
  },
  {
   "cell_type": "markdown",
   "metadata": {},
   "source": [
    "We check ranking of features"
   ]
  },
  {
   "cell_type": "code",
   "execution_count": null,
   "metadata": {
    "collapsed": true
   },
   "outputs": [],
   "source": [
    "print feat_selector.ranking_"
   ]
  },
  {
   "cell_type": "markdown",
   "metadata": {},
   "source": [
    "We call transform() on X to filter it down to selected features"
   ]
  },
  {
   "cell_type": "code",
   "execution_count": null,
   "metadata": {
    "collapsed": true
   },
   "outputs": [],
   "source": [
    "X_filtered = feat_selector.transform(X)"
   ]
  },
  {
   "cell_type": "markdown",
   "metadata": {},
   "source": [
    "_________________________________________________________________________________________________________________________"
   ]
  },
  {
   "cell_type": "markdown",
   "metadata": {},
   "source": [
    "Since we were not able to reduce the number of variables, it's highly possible that the model will be less effective. So we'll try with different aggregations of the variables that we are currently handling. So we export three different dataset: the original with variables containing numerical data, the second with sparsed distribution of the original categorical variables. and the third with sparsed distribution of the newly created categorical variables."
   ]
  },
  {
   "cell_type": "code",
   "execution_count": 150,
   "metadata": {
    "collapsed": true
   },
   "outputs": [],
   "source": [
    "kobe = kobe[[\"game_event_id\", \"game_id\", \"loc_x\", \"loc_y\", \"period\", \"playoffs\", \"shot_distance\",\"shot_made_flag\", \\\n",
    "     \"seconds_to_period_end\", \"accurate_shot_distance\", \"game_year\", \"game_month\", \"game_dayofweek\", \"game_dayofyear\", \\\n",
    "      \"game_dayofweek\", \"game_dayofyear\", \"local\"]]"
   ]
  },
  {
   "cell_type": "code",
   "execution_count": 151,
   "metadata": {
    "collapsed": true
   },
   "outputs": [],
   "source": [
    "kobe.to_csv(\"./data/kobe_num_variables.csv\", sep= \",\")"
   ]
  },
  {
   "cell_type": "code",
   "execution_count": 152,
   "metadata": {
    "collapsed": true
   },
   "outputs": [],
   "source": [
    "kobe_sparse_old_catvars.to_csv(\"./data/kobe_old_cat_variables.csv\", sep= \",\")"
   ]
  },
  {
   "cell_type": "code",
   "execution_count": 153,
   "metadata": {
    "collapsed": true
   },
   "outputs": [],
   "source": [
    "kobe_sparse_new_catvars.to_csv(\"./data/kobe_new_cat_variables.csv\", sep= \",\")"
   ]
  }
 ],
 "metadata": {
  "kernelspec": {
   "display_name": "Python 2",
   "language": "python",
   "name": "python2"
  },
  "language_info": {
   "codemirror_mode": {
    "name": "ipython",
    "version": 2
   },
   "file_extension": ".py",
   "mimetype": "text/x-python",
   "name": "python",
   "nbconvert_exporter": "python",
   "pygments_lexer": "ipython2",
   "version": "2.7.10"
  }
 },
 "nbformat": 4,
 "nbformat_minor": 0
}
